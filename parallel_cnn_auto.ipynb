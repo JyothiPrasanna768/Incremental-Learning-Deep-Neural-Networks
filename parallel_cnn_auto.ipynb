{
 "cells": [
  {
   "cell_type": "code",
   "execution_count": 1,
   "metadata": {},
   "outputs": [
    {
     "name": "stderr",
     "output_type": "stream",
     "text": [
      "Using TensorFlow backend.\n"
     ]
    }
   ],
   "source": [
    "import keras\n",
    "import numpy as np\n",
    "import matplotlib.pyplot as plt\n",
    "import os\n",
    "from random import randint\n",
    "import cv2\n",
    "from keras.layers import MaxPool2D,Conv2D,UpSampling2D,Flatten\n",
    "from keras.layers import Dense,Input\n",
    "from keras.models import Sequential\n",
    "from keras.models import Model\n",
    "from keras.models import *\n",
    "from keras.layers import *\n",
    "from sklearn.model_selection import train_test_split\n",
    "from keras.utils import to_categorical"
   ]
  },
  {
   "cell_type": "code",
   "execution_count": 2,
   "metadata": {},
   "outputs": [],
   "source": [
    "train1 = \"C:\\\\Users\\\\JYOTHI PRASANNA\\\\Desktop\\\\dog_cat_new\\\\train1\\\\\"\n",
    "train2 = \"C:\\\\Users\\\\JYOTHI PRASANNA\\\\Desktop\\\\dog_cat_new\\\\train2\\\\\"\n",
    "train = \"C:\\\\Users\\\\JYOTHI PRASANNA\\\\Desktop\\\\dog_cat_new\\\\train\\\\\"\n",
    "test = \"C:\\\\Users\\\\JYOTHI PRASANNA\\\\Desktop\\\\dog_cat_new\\\\test\\\\\""
   ]
  },
  {
   "cell_type": "code",
   "execution_count": 3,
   "metadata": {},
   "outputs": [
    {
     "name": "stdout",
     "output_type": "stream",
     "text": [
      "['cat', 'cat', 'cat', 'cat', 'cat', 'cat', 'cat', 'cat', 'cat', 'cat', 'cat', 'cat', 'cat', 'cat', 'cat', 'cat', 'cat', 'cat', 'cat', 'cat', 'cat', 'cat', 'cat', 'cat', 'cat', 'cat', 'cat', 'cat', 'cat', 'cat', 'cat', 'cat', 'cat', 'cat', 'cat', 'cat', 'cat', 'cat', 'cat', 'cat', 'cat', 'cat', 'cat', 'cat', 'cat', 'cat', 'cat', 'cat', 'cat', 'cat', 'cat', 'cat', 'cat', 'cat', 'cat', 'cat', 'cat', 'cat', 'cat', 'cat', 'cat', 'cat', 'cat', 'cat', 'cat', 'cat', 'cat', 'cat', 'cat', 'cat', 'cat', 'cat', 'cat', 'cat', 'cat', 'cat', 'cat', 'cat', 'cat', 'cat', 'cat', 'cat', 'cat', 'cat', 'cat', 'cat', 'cat', 'cat', 'cat', 'cat', 'cat', 'cat', 'cat', 'cat', 'cat', 'cat', 'cat', 'cat', 'cat', 'cat', 'cat', 'cat', 'cat', 'cat', 'cat', 'cat', 'cat', 'cat', 'cat', 'cat', 'cat', 'cat', 'cat', 'cat', 'cat', 'cat', 'cat', 'cat', 'cat', 'cat', 'cat', 'cat', 'cat', 'cat', 'cat', 'cat', 'cat', 'cat', 'cat', 'cat', 'cat', 'cat', 'cat', 'cat', 'cat', 'cat', 'cat', 'cat', 'cat', 'cat', 'cat', 'cat', 'cat', 'cat', 'cat', 'cat', 'cat', 'cat', 'cat', 'cat', 'cat', 'cat', 'cat', 'cat', 'cat', 'cat', 'cat', 'cat', 'cat', 'cat', 'cat', 'cat', 'cat', 'cat', 'cat', 'cat', 'cat', 'cat', 'cat', 'cat', 'cat', 'cat', 'cat', 'cat', 'cat', 'cat', 'cat', 'cat', 'cat', 'cat', 'cat', 'cat', 'cat', 'cat', 'cat', 'cat', 'cat', 'cat', 'cat', 'cat', 'cat', 'cat', 'cat', 'cat', 'cat', 'cat', 'cat', 'cat', 'cat', 'cat', 'dog', 'dog', 'dog', 'dog', 'dog', 'dog', 'dog', 'dog', 'dog', 'dog', 'dog', 'dog', 'dog', 'dog', 'dog', 'dog', 'dog', 'dog', 'dog', 'dog', 'dog', 'dog', 'dog', 'dog', 'dog', 'dog', 'dog', 'dog', 'dog', 'dog', 'hor', 'hor', 'hor', 'hor', 'hor', 'hor', 'hor', 'hor', 'hor', 'hor', 'hor', 'hor', 'hor', 'hor', 'hor', 'hor', 'hor', 'hor', 'hor', 'hor', 'hor', 'hor', 'hor', 'hor', 'hor', 'hor', 'hor', 'hor', 'hor', 'hor', 'hor', 'hor', 'hor', 'hor', 'hor', 'hor', 'hor', 'hor', 'hor', 'hor', 'hor', 'hor', 'hor', 'hor', 'hum', 'hum', 'hum', 'hum', 'hum', 'hum', 'hum', 'hum', 'hum', 'hum', 'hum', 'hum', 'hum', 'hum', 'hum', 'hum', 'hum', 'hum', 'hum', 'hum', 'hum', 'hum', 'hum', 'hum', 'hum', 'hum']\n",
      "(76800, 256)\n"
     ]
    },
    {
     "data": {
      "text/plain": [
       "(76800, 256)"
      ]
     },
     "execution_count": 3,
     "metadata": {},
     "output_type": "execute_result"
    }
   ],
   "source": [
    "filenames = sorted(os.listdir(train1))\n",
    "p4=0\n",
    "d4=[]\n",
    "for img_name in filenames:\n",
    "    img = plt.imread(train1 + img_name)\n",
    "    img  = np.resize(img, (256, 256))\n",
    "    if p4==0:\n",
    "      imgs4=(img)\n",
    "      p4=1\n",
    "    else:\n",
    "      imgs4 = np.append(imgs4, img, axis=0)\n",
    "    res = img_name[:3]\n",
    "    d4.append(res)\n",
    "print(d4)\n",
    "    \n",
    "print(imgs4.shape)\n",
    "        \n",
    "img_data = np.array(imgs4)\n",
    "img_data = img_data.astype('float32')\n",
    "img_data = img_data/255\n",
    "img_data.shape"
   ]
  },
  {
   "cell_type": "code",
   "execution_count": 4,
   "metadata": {},
   "outputs": [
    {
     "name": "stdout",
     "output_type": "stream",
     "text": [
      "(201, 256, 256)\n",
      "(99, 256, 256)\n"
     ]
    }
   ],
   "source": [
    "imgs4 = np.reshape(imgs4, [ 300, 256, 256])\n",
    "train_images, test_images = train_test_split(imgs4,test_size=0.33, random_state=42)\n",
    "nRows,nCols = train_images.shape[1:]\n",
    "nDims = nRows\n",
    "train_data = train_images.reshape(train_images.shape[0], nRows, nCols, 1)\n",
    "test_data = test_images.reshape(test_images.shape[0], nRows, nCols, 1)\n",
    "input_shape = (nRows, nCols, 1)\n",
    "train_data = train_data.astype('float32')\n",
    "test_data = test_data.astype('float32')\n",
    "train_data /= 255\n",
    "test_data /= 255\n",
    "print(train_images.shape)\n",
    "print(test_images.shape)"
   ]
  },
  {
   "cell_type": "code",
   "execution_count": 5,
   "metadata": {},
   "outputs": [
    {
     "name": "stdout",
     "output_type": "stream",
     "text": [
      "Training data shape :  (201, 256, 256) 201\n",
      "Testing data shape :  (99, 256, 256) 99\n",
      "Total number of outputs :  4\n",
      "Output classes :  ['cat' 'dog' 'hor' 'hum']\n"
     ]
    }
   ],
   "source": [
    "imgs = np.reshape(imgs4, [ 300, 256, 256])\n",
    "train_images, test_images, train_labels, test_labels = train_test_split(imgs4, d4, test_size=0.33, random_state=42)\n",
    "print('Training data shape : ', train_images.shape, len(train_labels))\n",
    "print('Testing data shape : ', test_images.shape, len(test_labels))\n",
    "classes = np.unique(train_labels)\n",
    "#classes=np.append(classes,0)\n",
    "nClasses = len(classes)\n",
    "\n",
    "print('Total number of outputs : ', nClasses)\n",
    "print('Output classes : ', classes)"
   ]
  },
  {
   "cell_type": "code",
   "execution_count": 6,
   "metadata": {},
   "outputs": [
    {
     "name": "stdout",
     "output_type": "stream",
     "text": [
      "[0, 1, 0, 0, 0, 1, 1, 0, 0, 0, 0, 0, 1, 0, 1, 1, 0, 0, 1, 0, 1, 0, 0, 0, 0, 0, 1, 0, 0, 0, 1, 0, 0, 0, 0, 1, 1, 0, 0, 0, 0, 0, 0, 0, 0, 1, 1, 0, 0, 0, 0, 1, 0, 1, 0, 1, 1, 1, 0, 0, 0, 1, 0, 0, 0, 0, 0, 1, 1, 0, 0, 0, 1, 1, 0, 0, 1, 0, 0, 1, 0, 1, 0, 1, 1, 0, 1, 1, 0, 0, 0, 0, 0, 1, 1, 1, 0, 1, 1, 0, 1, 0, 0, 0, 1, 0, 1, 1, 0, 0, 0, 0, 1, 0, 0, 1, 0, 0, 1, 0, 0, 0, 1, 1, 0, 0, 1, 0, 0, 1, 1, 0, 1, 1, 1, 0, 0, 0, 0, 1, 1, 1, 1, 0, 0, 1, 0, 0, 1, 1, 0, 0, 0, 0, 0, 0, 0, 0, 0, 1, 0, 0, 0, 1, 0, 0, 0, 1, 0, 1, 1, 0, 0, 0, 0, 1, 0, 0, 0, 0, 1, 1, 0, 0, 1, 0, 1, 0, 0, 0, 0, 0, 1, 0, 1, 0, 0, 0, 0, 1, 0]\n"
     ]
    },
    {
     "data": {
      "text/plain": [
       "201"
      ]
     },
     "execution_count": 6,
     "metadata": {},
     "output_type": "execute_result"
    }
   ],
   "source": [
    "train_labels=[0 if x=='cat' else 1 for x in train_labels]\n",
    "print(train_labels)\n",
    "len(train_labels)"
   ]
  },
  {
   "cell_type": "code",
   "execution_count": 7,
   "metadata": {},
   "outputs": [
    {
     "name": "stdout",
     "output_type": "stream",
     "text": [
      "[1, 1, 0, 0, 1, 1, 0, 0, 0, 0, 1, 0, 1, 0, 0, 1, 1, 1, 0, 0, 0, 0, 1, 1, 0, 0, 1, 1, 0, 1, 0, 0, 0, 0, 1, 0, 0, 0, 0, 0, 0, 0, 1, 0, 0, 0, 1, 1, 0, 1, 0, 0, 1, 0, 1, 1, 0, 0, 0, 0, 1, 0, 0, 0, 0, 0, 0, 1, 0, 0, 0, 0, 1, 0, 0, 1, 0, 0, 0, 1, 0, 0, 0, 0, 0, 0, 0, 0, 0, 0, 0, 0, 0, 1, 0, 0, 0, 0, 1]\n"
     ]
    },
    {
     "data": {
      "text/plain": [
       "99"
      ]
     },
     "execution_count": 7,
     "metadata": {},
     "output_type": "execute_result"
    }
   ],
   "source": [
    "test_labels=[0 if x=='cat' else 1 for x in test_labels]\n",
    "print(test_labels)\n",
    "len(test_labels)"
   ]
  },
  {
   "cell_type": "code",
   "execution_count": 8,
   "metadata": {},
   "outputs": [
    {
     "name": "stdout",
     "output_type": "stream",
     "text": [
      "256\n",
      "201\n",
      "99\n",
      "Original label :  1\n",
      "After conversion to categorical ( one-hot ) :  [0. 1.]\n",
      "Original label :  0\n",
      "After conversion to categorical ( one-hot ) :  [1. 0.]\n"
     ]
    }
   ],
   "source": [
    "from keras.utils import to_categorical\n",
    "\n",
    "nRows,nCols = train_images.shape[1:]\n",
    "nDims = nRows\n",
    "print(nCols)\n",
    "train_data = train_images.reshape(train_images.shape[0], nRows, nCols, 1)\n",
    "test_data = test_images.reshape(test_images.shape[0], nRows, nCols, 1)\n",
    "input_shape = (nRows, nCols, 1)\n",
    "train_data = train_data.astype('float32')\n",
    "test_data = test_data.astype('float32')\n",
    "train_data /= 255\n",
    "test_data /= 255\n",
    "print(len(train_labels))\n",
    "print(len(test_labels))\n",
    "train_labels_one_hot = to_categorical(train_labels)\n",
    "test_labels_one_hot = to_categorical(test_labels)\n",
    "print('Original label : ', train_labels[56])\n",
    "print('After conversion to categorical ( one-hot ) : ', train_labels_one_hot[56])\n",
    "print('Original label : ', test_labels[56])\n",
    "print('After conversion to categorical ( one-hot ) : ', test_labels_one_hot[56])"
   ]
  },
  {
   "cell_type": "code",
   "execution_count": 9,
   "metadata": {},
   "outputs": [
    {
     "name": "stdout",
     "output_type": "stream",
     "text": [
      "WARNING:tensorflow:From C:\\ProgramData\\Anaconda3\\lib\\site-packages\\tensorflow\\python\\framework\\op_def_library.py:263: colocate_with (from tensorflow.python.framework.ops) is deprecated and will be removed in a future version.\n",
      "Instructions for updating:\n",
      "Colocations handled automatically by placer.\n",
      "WARNING:tensorflow:From C:\\ProgramData\\Anaconda3\\lib\\site-packages\\keras\\backend\\tensorflow_backend.py:3445: calling dropout (from tensorflow.python.ops.nn_ops) with keep_prob is deprecated and will be removed in a future version.\n",
      "Instructions for updating:\n",
      "Please use `rate` instead of `keep_prob`. Rate should be set to `rate = 1 - keep_prob`.\n"
     ]
    }
   ],
   "source": [
    "input = Input(shape =(256,256, 1))\n",
    "def convo1(input):\n",
    "    x = Conv2D(32, kernel_size = (3, 3), activation='relu')(input)\n",
    "    x = MaxPool2D(pool_size=(2,2))(x)\n",
    "    x = Conv2D(64, kernel_size=(3,3), activation='relu')(x)\n",
    "    x = MaxPool2D(pool_size=(2,2))(x)\n",
    "    x = Conv2D(128, kernel_size=(3,3), activation='relu')(x) \n",
    "    x = MaxPool2D(pool_size=(2,2))(x)\n",
    "    x = Conv2D(256, kernel_size=(3,3), activation='relu')(x) \n",
    "    x = MaxPool2D(pool_size=(2,2))(x)\n",
    "    x = Dropout(0.2)(x)\n",
    "    \n",
    "    return x\n",
    "\n",
    "layer1 = convo1(input)\n",
    "layer1 = Flatten()(layer1)\n",
    "layer1 = Dense(256, activation = 'relu')(layer1)\n",
    "layer1 = Dense(128, activation = 'relu')(layer1)\n",
    "layer1 = Dense(2, activation = 'softmax')(layer1)\n",
    "model = Model(input,layer1)"
   ]
  },
  {
   "cell_type": "code",
   "execution_count": 10,
   "metadata": {},
   "outputs": [],
   "source": [
    "model.compile(loss='binary_crossentropy', optimizer='adam', metrics = ['accuracy'])"
   ]
  },
  {
   "cell_type": "code",
   "execution_count": 11,
   "metadata": {},
   "outputs": [
    {
     "name": "stdout",
     "output_type": "stream",
     "text": [
      "WARNING:tensorflow:From C:\\ProgramData\\Anaconda3\\lib\\site-packages\\tensorflow\\python\\ops\\math_ops.py:3066: to_int32 (from tensorflow.python.ops.math_ops) is deprecated and will be removed in a future version.\n",
      "Instructions for updating:\n",
      "Use tf.cast instead.\n",
      "Train on 201 samples, validate on 99 samples\n",
      "Epoch 1/20\n",
      "201/201 [==============================] - 35s 173ms/step - loss: 0.7801 - acc: 0.5871 - val_loss: 0.5755 - val_acc: 0.9192\n",
      "Epoch 2/20\n",
      "201/201 [==============================] - 33s 163ms/step - loss: 0.5539 - acc: 0.8209 - val_loss: 0.4173 - val_acc: 0.8990\n",
      "Epoch 3/20\n",
      "201/201 [==============================] - 34s 169ms/step - loss: 0.4567 - acc: 0.8856 - val_loss: 0.3489 - val_acc: 0.9192\n",
      "Epoch 4/20\n",
      "201/201 [==============================] - 34s 167ms/step - loss: 0.3814 - acc: 0.8905 - val_loss: 0.2781 - val_acc: 0.9091\n",
      "Epoch 5/20\n",
      "201/201 [==============================] - 32s 158ms/step - loss: 0.3285 - acc: 0.8905 - val_loss: 0.2741 - val_acc: 0.9192\n",
      "Epoch 6/20\n",
      "201/201 [==============================] - 34s 167ms/step - loss: 0.3523 - acc: 0.8905 - val_loss: 0.3654 - val_acc: 0.9091\n",
      "Epoch 7/20\n",
      "201/201 [==============================] - 34s 169ms/step - loss: 0.3696 - acc: 0.8905 - val_loss: 0.2668 - val_acc: 0.9192\n",
      "Epoch 8/20\n",
      "201/201 [==============================] - 34s 171ms/step - loss: 0.3364 - acc: 0.8905 - val_loss: 0.2645 - val_acc: 0.9192\n",
      "Epoch 9/20\n",
      "201/201 [==============================] - 48s 239ms/step - loss: 0.3037 - acc: 0.8905 - val_loss: 0.2693 - val_acc: 0.9192\n",
      "Epoch 10/20\n",
      "201/201 [==============================] - 34s 169ms/step - loss: 0.3031 - acc: 0.8905 - val_loss: 0.2769 - val_acc: 0.9192\n",
      "Epoch 11/20\n",
      "201/201 [==============================] - 39s 193ms/step - loss: 0.3018 - acc: 0.8905 - val_loss: 0.2699 - val_acc: 0.9192\n",
      "Epoch 12/20\n",
      "201/201 [==============================] - 34s 169ms/step - loss: 0.2968 - acc: 0.8905 - val_loss: 0.2685 - val_acc: 0.9192\n",
      "Epoch 13/20\n",
      "201/201 [==============================] - 37s 183ms/step - loss: 0.2997 - acc: 0.8905 - val_loss: 0.2718 - val_acc: 0.9192\n",
      "Epoch 14/20\n",
      "201/201 [==============================] - 34s 169ms/step - loss: 0.3027 - acc: 0.8905 - val_loss: 0.2791 - val_acc: 0.9192\n",
      "Epoch 15/20\n",
      "201/201 [==============================] - 45s 223ms/step - loss: 0.3029 - acc: 0.8905 - val_loss: 0.2678 - val_acc: 0.9192\n",
      "Epoch 16/20\n",
      "201/201 [==============================] - 43s 215ms/step - loss: 0.2928 - acc: 0.8905 - val_loss: 0.2665 - val_acc: 0.9192\n",
      "Epoch 17/20\n",
      "201/201 [==============================] - 42s 211ms/step - loss: 0.2868 - acc: 0.8905 - val_loss: 0.3060 - val_acc: 0.9091\n",
      "Epoch 18/20\n",
      "201/201 [==============================] - 67s 333ms/step - loss: 0.2856 - acc: 0.8905 - val_loss: 0.2886 - val_acc: 0.9091\n",
      "Epoch 19/20\n",
      "201/201 [==============================] - 34s 170ms/step - loss: 0.2821 - acc: 0.8905 - val_loss: 0.3133 - val_acc: 0.9192\n",
      "Epoch 20/20\n",
      "201/201 [==============================] - 51s 254ms/step - loss: 0.2955 - acc: 0.8905 - val_loss: 0.2888 - val_acc: 0.9091\n"
     ]
    }
   ],
   "source": [
    "history1 = model.fit(train_data,train_labels_one_hot,batch_size=32,epochs=20,validation_data=(test_data, test_labels_one_hot))"
   ]
  },
  {
   "cell_type": "code",
   "execution_count": 12,
   "metadata": {},
   "outputs": [],
   "source": [
    "def encoder1(inp):\n",
    "    net = Conv2D(32,(3,3),activation ='relu',padding='same')(inp)\n",
    "    net = BatchNormalization()(net)\n",
    "    net = Conv2D(32,(3,3),activation ='relu',padding='same')(net)\n",
    "    net = BatchNormalization()(net)\n",
    "    net= MaxPool2D(pool_size=(2,2))(net)\n",
    "    net = Conv2D(64,(3,3),activation ='relu',padding='same')(net)\n",
    "    net = BatchNormalization()(net)\n",
    "    net = Conv2D(64,(3,3),activation ='relu',padding='same')(net)\n",
    "    \n",
    "    return net\n",
    "\n",
    "def decoder1(net):\n",
    "    net1 = Conv2D(32,(3,3),activation ='relu',padding='same')(encoder1(net))\n",
    "    net1 = BatchNormalization()(net1)\n",
    "    net1 = Conv2D(32,(3,3),activation ='relu',padding='same')(net1)\n",
    "    net1 = UpSampling2D((2,2))(net1)\n",
    "    decoded = Conv2D(1,(3,3),activation = 'sigmoid',padding ='same')(net1)\n",
    "    \n",
    "    return net1\n",
    "\n",
    "flat =Flatten()(decoder1(convo1(input)))\n",
    "out = Dense(2, activation='softmax')(flat)"
   ]
  },
  {
   "cell_type": "code",
   "execution_count": 13,
   "metadata": {},
   "outputs": [],
   "source": [
    "autoencoder = Model(input, out)\n",
    "autoencoder.compile(loss ='binary_crossentropy',optimizer ='adam',metrics =['accuracy'])"
   ]
  },
  {
   "cell_type": "code",
   "execution_count": 14,
   "metadata": {},
   "outputs": [],
   "source": [
    "for l1,l2 in zip(autoencoder.layers[:10],model.layers[0:10]):\n",
    "    l1.set_weights(l2.get_weights())"
   ]
  },
  {
   "cell_type": "code",
   "execution_count": 15,
   "metadata": {},
   "outputs": [],
   "source": [
    "for layer in autoencoder.layers[0:10]:\n",
    "    layer.trainable =False"
   ]
  },
  {
   "cell_type": "code",
   "execution_count": 16,
   "metadata": {},
   "outputs": [
    {
     "name": "stderr",
     "output_type": "stream",
     "text": [
      "C:\\ProgramData\\Anaconda3\\lib\\site-packages\\keras\\engine\\training.py:490: UserWarning: Discrepancy between trainable weights and collected trainable weights, did you set `model.trainable` without calling `model.compile` after ?\n",
      "  'Discrepancy between trainable weights and collected trainable'\n"
     ]
    },
    {
     "name": "stdout",
     "output_type": "stream",
     "text": [
      "Train on 201 samples, validate on 99 samples\n",
      "Epoch 1/20\n",
      "201/201 [==============================] - 36s 177ms/step - loss: 0.5747 - acc: 0.7164 - val_loss: 0.5433 - val_acc: 0.9192\n",
      "Epoch 2/20\n",
      "201/201 [==============================] - 35s 173ms/step - loss: 0.4448 - acc: 0.8706 - val_loss: 0.2730 - val_acc: 0.9192\n",
      "Epoch 3/20\n",
      "201/201 [==============================] - 46s 228ms/step - loss: 0.3691 - acc: 0.8159 - val_loss: 0.7439 - val_acc: 0.9192\n",
      "Epoch 4/20\n",
      "201/201 [==============================] - 43s 216ms/step - loss: 0.4171 - acc: 0.8706 - val_loss: 0.9816 - val_acc: 0.7071\n",
      "Epoch 5/20\n",
      "201/201 [==============================] - 38s 189ms/step - loss: 0.3442 - acc: 0.8756 - val_loss: 1.4670 - val_acc: 0.7071\n",
      "Epoch 6/20\n",
      "201/201 [==============================] - 40s 200ms/step - loss: 0.2987 - acc: 0.8905 - val_loss: 2.3526 - val_acc: 0.7071\n",
      "Epoch 7/20\n",
      "201/201 [==============================] - 33s 166ms/step - loss: 0.2914 - acc: 0.8905 - val_loss: 0.6167 - val_acc: 0.7071\n",
      "Epoch 8/20\n",
      "201/201 [==============================] - 46s 231ms/step - loss: 0.3099 - acc: 0.8905 - val_loss: 0.3737 - val_acc: 0.9192\n",
      "Epoch 9/20\n",
      "201/201 [==============================] - 33s 167ms/step - loss: 0.3030 - acc: 0.8905 - val_loss: 0.2983 - val_acc: 0.9192\n",
      "Epoch 10/20\n",
      "201/201 [==============================] - 33s 162ms/step - loss: 0.2905 - acc: 0.8905 - val_loss: 0.3021 - val_acc: 0.9192\n",
      "Epoch 11/20\n",
      "201/201 [==============================] - 33s 167ms/step - loss: 0.2813 - acc: 0.8905 - val_loss: 0.2701 - val_acc: 0.9192\n",
      "Epoch 12/20\n",
      "201/201 [==============================] - 33s 165ms/step - loss: 0.2850 - acc: 0.8905 - val_loss: 0.3256 - val_acc: 0.9192\n",
      "Epoch 13/20\n",
      "201/201 [==============================] - 33s 164ms/step - loss: 0.2735 - acc: 0.8905 - val_loss: 0.4917 - val_acc: 0.9192\n",
      "Epoch 14/20\n",
      "201/201 [==============================] - 35s 173ms/step - loss: 0.2850 - acc: 0.8905 - val_loss: 0.3375 - val_acc: 0.9192\n",
      "Epoch 15/20\n",
      "201/201 [==============================] - 35s 176ms/step - loss: 0.2716 - acc: 0.8905 - val_loss: 0.3449 - val_acc: 0.9192\n",
      "Epoch 16/20\n",
      "201/201 [==============================] - 34s 170ms/step - loss: 0.2689 - acc: 0.8905 - val_loss: 0.7196 - val_acc: 0.9192\n",
      "Epoch 17/20\n",
      "201/201 [==============================] - 36s 177ms/step - loss: 0.2994 - acc: 0.8905 - val_loss: 0.6378 - val_acc: 0.9192\n",
      "Epoch 18/20\n",
      "201/201 [==============================] - 35s 173ms/step - loss: 0.3158 - acc: 0.8856 - val_loss: 1.3683 - val_acc: 0.7071\n",
      "Epoch 19/20\n",
      "201/201 [==============================] - 54s 270ms/step - loss: 0.4950 - acc: 0.8458 - val_loss: 1.6409 - val_acc: 0.8586\n",
      "Epoch 20/20\n",
      "201/201 [==============================] - 54s 270ms/step - loss: 0.5643 - acc: 0.8507 - val_loss: 4.6402 - val_acc: 0.7071\n"
     ]
    }
   ],
   "source": [
    "classify_train = autoencoder.fit(train_data,train_labels_one_hot,batch_size=32,epochs=20,verbose=1,validation_data = (test_data,test_labels_one_hot))"
   ]
  },
  {
   "cell_type": "code",
   "execution_count": 17,
   "metadata": {},
   "outputs": [],
   "source": [
    "from keras.layers import Activation\n",
    "\n",
    "a = Flatten()(encoder1(convo1(input)))\n",
    "a = Activation('relu')(a)\n",
    "\n",
    "layer2 = Flatten()(encoder1(convo1(input)))\n",
    "layer2 = Dense(256, activation = 'relu')(layer2)\n",
    "layer2 = Dense(128, activation = 'relu')(layer2)\n",
    "layer2 = Dense(2, activation = 'softmax')(layer2)\n",
    "model1 = Model(input,layer2)"
   ]
  },
  {
   "cell_type": "code",
   "execution_count": 18,
   "metadata": {},
   "outputs": [],
   "source": [
    "for l111,l211 in zip(model1.layers[:18],autoencoder.layers[0:18]):\n",
    "    l111.set_weights(l211.get_weights())"
   ]
  },
  {
   "cell_type": "code",
   "execution_count": 19,
   "metadata": {},
   "outputs": [],
   "source": [
    "for layer in model1.layers[0:18]:\n",
    "    layer.trainable =False"
   ]
  },
  {
   "cell_type": "code",
   "execution_count": 20,
   "metadata": {},
   "outputs": [],
   "source": [
    "model1.compile(loss='binary_crossentropy',optimizer ='adam',metrics =['accuracy'] )"
   ]
  },
  {
   "cell_type": "code",
   "execution_count": 21,
   "metadata": {},
   "outputs": [
    {
     "name": "stdout",
     "output_type": "stream",
     "text": [
      "Train on 201 samples, validate on 99 samples\n",
      "Epoch 1/20\n",
      "201/201 [==============================] - 19s 93ms/step - loss: 0.6488 - acc: 0.8060 - val_loss: 4.6691 - val_acc: 0.7071\n",
      "Epoch 2/20\n",
      "201/201 [==============================] - 29s 142ms/step - loss: 0.3101 - acc: 0.8905 - val_loss: 2.1999 - val_acc: 0.7071\n",
      "Epoch 3/20\n",
      "201/201 [==============================] - 41s 205ms/step - loss: 0.3385 - acc: 0.8756 - val_loss: 4.6598 - val_acc: 0.7071\n",
      "Epoch 4/20\n",
      "201/201 [==============================] - 24s 120ms/step - loss: 0.3120 - acc: 0.8905 - val_loss: 4.6537 - val_acc: 0.7071\n",
      "Epoch 5/20\n",
      "201/201 [==============================] - 23s 116ms/step - loss: 0.3009 - acc: 0.8905 - val_loss: 4.6363 - val_acc: 0.7071\n",
      "Epoch 6/20\n",
      "201/201 [==============================] - 33s 163ms/step - loss: 0.2850 - acc: 0.8905 - val_loss: 4.6189 - val_acc: 0.7071\n",
      "Epoch 7/20\n",
      "201/201 [==============================] - 22s 111ms/step - loss: 0.2977 - acc: 0.8607 - val_loss: 4.6380 - val_acc: 0.7071\n",
      "Epoch 8/20\n",
      "201/201 [==============================] - 32s 159ms/step - loss: 0.2716 - acc: 0.8756 - val_loss: 4.6563 - val_acc: 0.7071\n",
      "Epoch 9/20\n",
      "201/201 [==============================] - 35s 172ms/step - loss: 0.2785 - acc: 0.8856 - val_loss: 4.6405 - val_acc: 0.7071\n",
      "Epoch 10/20\n",
      "201/201 [==============================] - 43s 215ms/step - loss: 0.2412 - acc: 0.8955 - val_loss: 4.6871 - val_acc: 0.7071\n",
      "Epoch 11/20\n",
      "201/201 [==============================] - 26s 131ms/step - loss: 0.2809 - acc: 0.8856 - val_loss: 4.6280 - val_acc: 0.7071\n",
      "Epoch 12/20\n",
      "201/201 [==============================] - 51s 255ms/step - loss: 0.2795 - acc: 0.8806 - val_loss: 4.6705 - val_acc: 0.7071\n",
      "Epoch 13/20\n",
      "201/201 [==============================] - 32s 159ms/step - loss: 0.3110 - acc: 0.8905 - val_loss: 4.6252 - val_acc: 0.7071\n",
      "Epoch 14/20\n",
      "201/201 [==============================] - 29s 146ms/step - loss: 0.3137 - acc: 0.8806 - val_loss: 4.6837 - val_acc: 0.7071\n",
      "Epoch 15/20\n",
      "201/201 [==============================] - 13s 62ms/step - loss: 0.3397 - acc: 0.8905 - val_loss: 4.5897 - val_acc: 0.7071\n",
      "Epoch 16/20\n",
      "201/201 [==============================] - 16s 82ms/step - loss: 0.3068 - acc: 0.8657 - val_loss: 2.4080 - val_acc: 0.7071\n",
      "Epoch 17/20\n",
      "201/201 [==============================] - 13s 64ms/step - loss: 0.3616 - acc: 0.8806 - val_loss: 4.6675 - val_acc: 0.7071\n",
      "Epoch 18/20\n",
      "201/201 [==============================] - 14s 72ms/step - loss: 0.3331 - acc: 0.8209 - val_loss: 4.6608 - val_acc: 0.7071\n",
      "Epoch 19/20\n",
      "201/201 [==============================] - 12s 61ms/step - loss: 0.3483 - acc: 0.8905 - val_loss: 4.6373 - val_acc: 0.7071\n",
      "Epoch 20/20\n",
      "201/201 [==============================] - 12s 62ms/step - loss: 0.2671 - acc: 0.8905 - val_loss: 3.6622 - val_acc: 0.7071\n"
     ]
    }
   ],
   "source": [
    "classify_train1 = model1.fit(train_data,train_labels_one_hot,batch_size=32,epochs=20,verbose=1,validation_data = (test_data,test_labels_one_hot))"
   ]
  },
  {
   "cell_type": "code",
   "execution_count": 22,
   "metadata": {},
   "outputs": [
    {
     "name": "stdout",
     "output_type": "stream",
     "text": [
      "['cat', 'cat', 'cat', 'cat', 'cat', 'cat', 'cat', 'cat', 'cat', 'cat', 'cat', 'cat', 'cat', 'cat', 'cat', 'cat', 'cat', 'cat', 'cat', 'cat', 'cat', 'cat', 'cat', 'cat', 'cat', 'cat', 'cat', 'cat', 'cat', 'cat', 'dog', 'dog', 'dog', 'dog', 'dog', 'dog', 'dog', 'dog', 'dog', 'dog', 'dog', 'dog', 'dog', 'dog', 'dog', 'dog', 'dog', 'dog', 'dog', 'dog', 'dog', 'dog', 'dog', 'dog', 'dog', 'dog', 'dog', 'dog', 'dog', 'dog', 'dog', 'dog', 'dog', 'dog', 'dog', 'dog', 'dog', 'dog', 'dog', 'dog', 'dog', 'dog', 'dog', 'dog', 'dog', 'dog', 'dog', 'dog', 'dog', 'dog', 'dog', 'dog', 'dog', 'dog', 'dog', 'dog', 'dog', 'dog', 'dog', 'dog', 'dog', 'dog', 'dog', 'dog', 'dog', 'dog', 'dog', 'dog', 'dog', 'dog', 'dog', 'dog', 'dog', 'dog', 'dog', 'dog', 'dog', 'dog', 'dog', 'dog', 'dog', 'dog', 'dog', 'dog', 'dog', 'dog', 'dog', 'dog', 'dog', 'dog', 'dog', 'dog', 'dog', 'dog', 'dog', 'dog', 'dog', 'dog', 'dog', 'dog', 'dog', 'dog', 'dog', 'dog', 'dog', 'dog', 'dog', 'dog', 'dog', 'dog', 'dog', 'dog', 'dog', 'dog', 'dog', 'dog', 'dog', 'dog', 'dog', 'dog', 'dog', 'dog', 'dog', 'dog', 'dog', 'dog', 'dog', 'dog', 'dog', 'dog', 'dog', 'dog', 'dog', 'dog', 'dog', 'dog', 'dog', 'dog', 'dog', 'dog', 'dog', 'dog', 'dog', 'dog', 'dog', 'dog', 'dog', 'dog', 'dog', 'dog', 'dog', 'dog', 'dog', 'dog', 'dog', 'dog', 'dog', 'dog', 'dog', 'dog', 'dog', 'dog', 'dog', 'dog', 'dog', 'dog', 'dog', 'dog', 'dog', 'dog', 'dog', 'dog', 'dog', 'dog', 'dog', 'dog', 'dog', 'dog', 'dog', 'dog', 'dog', 'dog', 'dog', 'dog', 'dog', 'dog', 'dog', 'dog', 'dog', 'dog', 'dog', 'dog', 'dog', 'dog', 'dog', 'dog', 'dog', 'dog', 'dog', 'dog', 'hor', 'hor', 'hor', 'hor', 'hor', 'hor', 'hor', 'hor', 'hor', 'hor', 'hor', 'hor', 'hor', 'hor', 'hor', 'hor', 'hor', 'hor', 'hor', 'hor', 'hor', 'hor', 'hor', 'hor', 'hor', 'hor', 'hor', 'hor', 'hor', 'hor', 'hor', 'hor', 'hor', 'hor', 'hor', 'hor', 'hor', 'hor', 'hor', 'hor', 'hor', 'hor', 'hor', 'hor', 'hum', 'hum', 'hum', 'hum', 'hum', 'hum', 'hum', 'hum', 'hum', 'hum', 'hum', 'hum', 'hum', 'hum', 'hum', 'hum', 'hum', 'hum', 'hum', 'hum', 'hum', 'hum', 'hum', 'hum', 'hum', 'hum']\n",
      "(76800, 256)\n"
     ]
    },
    {
     "data": {
      "text/plain": [
       "(76800, 256)"
      ]
     },
     "execution_count": 22,
     "metadata": {},
     "output_type": "execute_result"
    }
   ],
   "source": [
    "filenames1 = sorted(os.listdir(train2))\n",
    "p41=0\n",
    "d41=[]\n",
    "for img_name in filenames1:\n",
    "    img = plt.imread(train2 + img_name)\n",
    "    img  = np.resize(img, (256, 256))\n",
    "    if p41==0:\n",
    "      imgs41=(img)\n",
    "      p41=1\n",
    "    else:\n",
    "      imgs41 = np.append(imgs41, img, axis=0)\n",
    "    res = img_name[:3]\n",
    "    d41.append(res)\n",
    "print(d41)\n",
    "    \n",
    "print(imgs41.shape)\n",
    "        \n",
    "img_data = np.array(imgs41)\n",
    "img_data = img_data.astype('float32')\n",
    "img_data = img_data/255\n",
    "img_data.shape"
   ]
  },
  {
   "cell_type": "code",
   "execution_count": 23,
   "metadata": {},
   "outputs": [
    {
     "name": "stdout",
     "output_type": "stream",
     "text": [
      "(201, 256, 256)\n",
      "(99, 256, 256)\n"
     ]
    }
   ],
   "source": [
    "imgs41 = np.reshape(imgs41, [ 300, 256, 256])\n",
    "train_images1, test_images1 = train_test_split(imgs41,test_size=0.33, random_state=42)\n",
    "nRows,nCols = train_images1.shape[1:]\n",
    "nDims = nRows\n",
    "train_data1 = train_images1.reshape(train_images1.shape[0], nRows, nCols, 1)\n",
    "test_data1 = test_images1.reshape(test_images1.shape[0], nRows, nCols, 1)\n",
    "input_shape = (nRows, nCols, 1)\n",
    "train_data1 = train_data1.astype('float32')\n",
    "test_data1 = test_data1.astype('float32')\n",
    "train_data1 /= 255\n",
    "test_data1 /= 255\n",
    "print(train_images1.shape)\n",
    "print(test_images1.shape)"
   ]
  },
  {
   "cell_type": "code",
   "execution_count": 24,
   "metadata": {},
   "outputs": [
    {
     "name": "stdout",
     "output_type": "stream",
     "text": [
      "Training data shape :  (201, 256, 256) 201\n",
      "Testing data shape :  (99, 256, 256) 99\n",
      "Total number of outputs :  4\n",
      "Output classes :  ['cat' 'dog' 'hor' 'hum']\n"
     ]
    }
   ],
   "source": [
    "imgs = np.reshape(imgs41, [ 300, 256, 256])\n",
    "train_images1, test_images1, train_labels1, test_labels1 = train_test_split(imgs41, d41, test_size=0.33, random_state=42)\n",
    "print('Training data shape : ', train_images1.shape, len(train_labels1))\n",
    "print('Testing data shape : ', test_images1.shape, len(test_labels1))\n",
    "classes1 = np.unique(train_labels1)\n",
    "#classes=np.append(classes,0)\n",
    "nClasses1 = len(classes1)\n",
    "\n",
    "print('Total number of outputs : ', nClasses1)\n",
    "print('Output classes : ', classes1)"
   ]
  },
  {
   "cell_type": "code",
   "execution_count": 25,
   "metadata": {},
   "outputs": [
    {
     "name": "stdout",
     "output_type": "stream",
     "text": [
      "[0, 0, 0, 0, 0, 1, 0, 0, 1, 0, 0, 0, 1, 0, 1, 1, 0, 0, 1, 0, 0, 0, 0, 0, 0, 0, 1, 0, 0, 0, 1, 0, 0, 0, 0, 1, 1, 0, 0, 0, 1, 0, 0, 0, 0, 0, 1, 0, 0, 1, 0, 1, 0, 0, 0, 1, 1, 0, 0, 0, 0, 0, 0, 1, 0, 1, 0, 1, 1, 0, 0, 0, 0, 1, 0, 0, 1, 0, 1, 1, 0, 0, 1, 1, 1, 0, 1, 1, 0, 0, 0, 0, 0, 1, 0, 1, 1, 1, 1, 1, 0, 1, 0, 0, 0, 0, 0, 1, 0, 0, 0, 0, 1, 1, 0, 1, 0, 0, 1, 0, 0, 0, 1, 0, 0, 1, 1, 0, 0, 0, 0, 0, 1, 1, 1, 0, 1, 0, 0, 1, 0, 1, 0, 0, 0, 0, 0, 0, 0, 1, 1, 0, 0, 0, 1, 0, 0, 0, 0, 0, 0, 0, 0, 1, 1, 0, 0, 1, 0, 1, 1, 0, 0, 0, 0, 1, 0, 0, 0, 0, 1, 1, 1, 0, 1, 0, 1, 0, 0, 0, 0, 0, 0, 0, 1, 1, 0, 0, 0, 1, 0]\n"
     ]
    },
    {
     "data": {
      "text/plain": [
       "201"
      ]
     },
     "execution_count": 25,
     "metadata": {},
     "output_type": "execute_result"
    }
   ],
   "source": [
    "train_labels1=[0 if x=='dog' else 1 for x in train_labels1]\n",
    "print(train_labels1)\n",
    "len(train_labels1)"
   ]
  },
  {
   "cell_type": "code",
   "execution_count": 26,
   "metadata": {},
   "outputs": [
    {
     "name": "stdout",
     "output_type": "stream",
     "text": [
      "[0, 1, 0, 1, 1, 0, 0, 0, 1, 0, 1, 0, 0, 0, 0, 0, 1, 0, 0, 0, 0, 0, 1, 1, 0, 0, 1, 1, 0, 1, 1, 0, 0, 1, 0, 0, 1, 0, 0, 0, 0, 0, 1, 0, 0, 0, 1, 0, 0, 1, 0, 0, 1, 0, 1, 1, 0, 0, 0, 1, 1, 0, 1, 0, 0, 0, 1, 1, 0, 0, 0, 0, 1, 0, 0, 1, 0, 0, 0, 1, 0, 0, 1, 0, 0, 0, 0, 0, 1, 1, 0, 0, 0, 0, 0, 1, 0, 0, 1]\n"
     ]
    },
    {
     "data": {
      "text/plain": [
       "99"
      ]
     },
     "execution_count": 26,
     "metadata": {},
     "output_type": "execute_result"
    }
   ],
   "source": [
    "test_labels1=[0 if x=='dog' else 1 for x in test_labels1]\n",
    "print(test_labels1)\n",
    "len(test_labels1)"
   ]
  },
  {
   "cell_type": "code",
   "execution_count": 27,
   "metadata": {},
   "outputs": [
    {
     "name": "stdout",
     "output_type": "stream",
     "text": [
      "256\n",
      "201\n",
      "99\n",
      "Original label :  1\n",
      "After conversion to categorical ( one-hot ) :  [0. 1.]\n",
      "Original label :  0\n",
      "After conversion to categorical ( one-hot ) :  [1. 0.]\n"
     ]
    }
   ],
   "source": [
    "nRows,nCols = train_images1.shape[1:]\n",
    "nDims = nRows\n",
    "print(nCols)\n",
    "train_data1 = train_images1.reshape(train_images1.shape[0], nRows, nCols, 1)\n",
    "test_data1 = test_images1.reshape(test_images1.shape[0], nRows, nCols, 1)\n",
    "input_shape1 = (nRows, nCols, 1)\n",
    "train_data1 = train_data1.astype('float32')\n",
    "test_data1 = test_data1.astype('float32')\n",
    "train_data1 /= 255\n",
    "test_data1 /= 255\n",
    "print(len(train_labels1))\n",
    "print(len(test_labels1))\n",
    "train_labels_one_hot1 = to_categorical(train_labels1)\n",
    "test_labels_one_hot1 = to_categorical(test_labels1)\n",
    "print('Original label : ', train_labels1[56])\n",
    "print('After conversion to categorical ( one-hot ) : ', train_labels_one_hot1[56])\n",
    "print('Original label : ', test_labels1[56])\n",
    "print('After conversion to categorical ( one-hot ) : ', test_labels_one_hot1[56])"
   ]
  },
  {
   "cell_type": "code",
   "execution_count": 28,
   "metadata": {},
   "outputs": [],
   "source": [
    "def convo2(input):\n",
    "    x1 = Conv2D(32, kernel_size = (3, 3), activation='relu')(input)\n",
    "    x1 = MaxPool2D(pool_size=(2,2))(x1)\n",
    "    x1 = Conv2D(64, kernel_size=(3,3), activation='relu')(x1)\n",
    "    x1 = MaxPool2D(pool_size=(2,2))(x1)\n",
    "    x1 = Conv2D(128, kernel_size=(3,3), activation='relu')(x1) \n",
    "    x1 = MaxPool2D(pool_size=(2,2))(x1)\n",
    "    x1 = Conv2D(256, kernel_size=(3,3), activation='relu')(x1) \n",
    "    x1 = MaxPool2D(pool_size=(2,2))(x1)\n",
    "    x1 = Dropout(0.2)(x1)\n",
    "    \n",
    "    return x1\n",
    "\n",
    "layer11 = Flatten()(convo2(input))\n",
    "layer11 = Dense(256, activation = 'relu')(layer11)\n",
    "layer11 = Dense(128, activation = 'relu')(layer11)\n",
    "layer11 = Dense(2, activation = 'softmax')(layer11)\n",
    "model11 = Model(input,layer11)"
   ]
  },
  {
   "cell_type": "code",
   "execution_count": 29,
   "metadata": {},
   "outputs": [],
   "source": [
    "model11.compile(loss='binary_crossentropy', optimizer='adam', metrics = ['accuracy'])"
   ]
  },
  {
   "cell_type": "code",
   "execution_count": 30,
   "metadata": {},
   "outputs": [
    {
     "name": "stdout",
     "output_type": "stream",
     "text": [
      "Train on 201 samples, validate on 99 samples\n",
      "Epoch 1/20\n",
      "201/201 [==============================] - 35s 176ms/step - loss: 0.5698 - acc: 0.6468 - val_loss: 0.6930 - val_acc: 0.8788\n",
      "Epoch 2/20\n",
      "201/201 [==============================] - 29s 146ms/step - loss: 0.4500 - acc: 0.9005 - val_loss: 0.3979 - val_acc: 0.8586\n",
      "Epoch 3/20\n",
      "201/201 [==============================] - 26s 129ms/step - loss: 0.3199 - acc: 0.8955 - val_loss: 0.3532 - val_acc: 0.8788\n",
      "Epoch 4/20\n",
      "201/201 [==============================] - 28s 140ms/step - loss: 0.4133 - acc: 0.9005 - val_loss: 0.3590 - val_acc: 0.8788\n",
      "Epoch 5/20\n",
      "201/201 [==============================] - 29s 145ms/step - loss: 0.2954 - acc: 0.9104 - val_loss: 0.3873 - val_acc: 0.8788\n",
      "Epoch 6/20\n",
      "201/201 [==============================] - 25s 125ms/step - loss: 0.2708 - acc: 0.9104 - val_loss: 0.3399 - val_acc: 0.8788\n",
      "Epoch 7/20\n",
      "201/201 [==============================] - 24s 120ms/step - loss: 0.2698 - acc: 0.9104 - val_loss: 0.3538 - val_acc: 0.8788\n",
      "Epoch 8/20\n",
      "201/201 [==============================] - 24s 120ms/step - loss: 0.2758 - acc: 0.9104 - val_loss: 0.3416 - val_acc: 0.8788\n",
      "Epoch 9/20\n",
      "201/201 [==============================] - 24s 119ms/step - loss: 0.2761 - acc: 0.9104 - val_loss: 0.3513 - val_acc: 0.8788\n",
      "Epoch 10/20\n",
      "201/201 [==============================] - 24s 120ms/step - loss: 0.2790 - acc: 0.9104 - val_loss: 0.3396 - val_acc: 0.8788\n",
      "Epoch 11/20\n",
      "201/201 [==============================] - 24s 120ms/step - loss: 0.2664 - acc: 0.9104 - val_loss: 0.3531 - val_acc: 0.8788\n",
      "Epoch 12/20\n",
      "201/201 [==============================] - 24s 120ms/step - loss: 0.2596 - acc: 0.9104 - val_loss: 0.3432 - val_acc: 0.8788\n",
      "Epoch 13/20\n",
      "201/201 [==============================] - 24s 117ms/step - loss: 0.2613 - acc: 0.9104 - val_loss: 0.4191 - val_acc: 0.8788\n",
      "Epoch 14/20\n",
      "201/201 [==============================] - 23s 113ms/step - loss: 0.2935 - acc: 0.9104 - val_loss: 0.3408 - val_acc: 0.8788\n",
      "Epoch 15/20\n",
      "201/201 [==============================] - 23s 115ms/step - loss: 0.2598 - acc: 0.9104 - val_loss: 0.3521 - val_acc: 0.8788\n",
      "Epoch 16/20\n",
      "201/201 [==============================] - 23s 115ms/step - loss: 0.2508 - acc: 0.9104 - val_loss: 0.3438 - val_acc: 0.8788\n",
      "Epoch 17/20\n",
      "201/201 [==============================] - 23s 116ms/step - loss: 0.2507 - acc: 0.9104 - val_loss: 0.3652 - val_acc: 0.8788\n",
      "Epoch 18/20\n",
      "201/201 [==============================] - 24s 117ms/step - loss: 0.2500 - acc: 0.9104 - val_loss: 0.3419 - val_acc: 0.8788\n",
      "Epoch 19/20\n",
      "201/201 [==============================] - 23s 115ms/step - loss: 0.2601 - acc: 0.9154 - val_loss: 0.3440 - val_acc: 0.8788\n",
      "Epoch 20/20\n",
      "201/201 [==============================] - 23s 115ms/step - loss: 0.2756 - acc: 0.9154 - val_loss: 0.4243 - val_acc: 0.8788\n"
     ]
    }
   ],
   "source": [
    "history11 = model11.fit(train_data1,train_labels_one_hot1,batch_size=32,epochs=20,validation_data=(test_data1, test_labels_one_hot1))"
   ]
  },
  {
   "cell_type": "code",
   "execution_count": 31,
   "metadata": {},
   "outputs": [],
   "source": [
    "def encoder2(value):\n",
    "    net11 = Conv2D(32,(3,3),activation ='relu',padding='same')(value)\n",
    "    net11 = BatchNormalization()(net11)\n",
    "    net11 = Conv2D(32,(3,3),activation ='relu',padding='same')(net11)\n",
    "    net11 = BatchNormalization()(net11)\n",
    "    net11= MaxPool2D(pool_size=(2,2))(net11)\n",
    "    net11 = Conv2D(64,(3,3),activation ='relu',padding='same')(net11)\n",
    "    net11 = BatchNormalization()(net11)\n",
    "    net11 = Conv2D(64,(3,3),activation ='relu',padding='same')(net11)\n",
    "\n",
    "    return net11\n",
    "\n",
    "def decoder2(value2):\n",
    "    net12 = Conv2D(32,(3,3),activation ='relu',padding='same')(encoder2(value2))\n",
    "    net12 = BatchNormalization()(net12)\n",
    "    net12 = Conv2D(32,(3,3),activation ='relu',padding='same')(net12)\n",
    "    net12 = UpSampling2D((2,2))(net12)\n",
    "    decoded1 = Conv2D(1,(3,3),activation = 'sigmoid',padding ='same')(net12)\n",
    "    \n",
    "    return decoded1\n",
    "\n",
    "flat1 =Flatten()(decoder2(convo2(input)))\n",
    "out1 = Dense(2, activation='softmax')(flat1)"
   ]
  },
  {
   "cell_type": "code",
   "execution_count": 32,
   "metadata": {},
   "outputs": [],
   "source": [
    "autoencoder1 = Model(input, out1)\n",
    "autoencoder1.compile(loss ='binary_crossentropy',optimizer ='adam',metrics =['accuracy'])"
   ]
  },
  {
   "cell_type": "code",
   "execution_count": 33,
   "metadata": {},
   "outputs": [],
   "source": [
    "for l1,l2 in zip(autoencoder1.layers[:10],model11.layers[0:10]):\n",
    "    l1.set_weights(l2.get_weights())"
   ]
  },
  {
   "cell_type": "code",
   "execution_count": 34,
   "metadata": {},
   "outputs": [],
   "source": [
    "for layer in autoencoder1.layers[0:10]:\n",
    "    layer.trainable =False"
   ]
  },
  {
   "cell_type": "code",
   "execution_count": 35,
   "metadata": {},
   "outputs": [
    {
     "name": "stdout",
     "output_type": "stream",
     "text": [
      "Train on 201 samples, validate on 99 samples\n",
      "Epoch 1/20\n",
      "201/201 [==============================] - 24s 118ms/step - loss: 0.5206 - acc: 0.7512 - val_loss: 0.3783 - val_acc: 0.8788\n",
      "Epoch 2/20\n",
      "201/201 [==============================] - 22s 111ms/step - loss: 0.3187 - acc: 0.9055 - val_loss: 0.3845 - val_acc: 0.8788\n",
      "Epoch 3/20\n",
      "201/201 [==============================] - 22s 112ms/step - loss: 0.2781 - acc: 0.9104 - val_loss: 0.3836 - val_acc: 0.8788\n",
      "Epoch 4/20\n",
      "201/201 [==============================] - 22s 112ms/step - loss: 0.2685 - acc: 0.9154 - val_loss: 0.3567 - val_acc: 0.8788\n",
      "Epoch 5/20\n",
      "201/201 [==============================] - 22s 111ms/step - loss: 0.2591 - acc: 0.9104 - val_loss: 0.3756 - val_acc: 0.8788\n",
      "Epoch 6/20\n",
      "201/201 [==============================] - 23s 112ms/step - loss: 0.2613 - acc: 0.9104 - val_loss: 0.3479 - val_acc: 0.8788\n",
      "Epoch 7/20\n",
      "201/201 [==============================] - 22s 111ms/step - loss: 0.2909 - acc: 0.9055 - val_loss: 0.3420 - val_acc: 0.8788\n",
      "Epoch 8/20\n",
      "201/201 [==============================] - 22s 110ms/step - loss: 0.2556 - acc: 0.9104 - val_loss: 0.3706 - val_acc: 0.8788\n",
      "Epoch 9/20\n",
      "201/201 [==============================] - 22s 110ms/step - loss: 0.2560 - acc: 0.9104 - val_loss: 0.3499 - val_acc: 0.8788\n",
      "Epoch 10/20\n",
      "201/201 [==============================] - 22s 111ms/step - loss: 0.2492 - acc: 0.9104 - val_loss: 0.3756 - val_acc: 0.8788\n",
      "Epoch 11/20\n",
      "201/201 [==============================] - 26s 130ms/step - loss: 0.2427 - acc: 0.9204 - val_loss: 0.5461 - val_acc: 0.5152\n",
      "Epoch 12/20\n",
      "201/201 [==============================] - 25s 126ms/step - loss: 0.2642 - acc: 0.9104 - val_loss: 0.3682 - val_acc: 0.8788\n",
      "Epoch 13/20\n",
      "201/201 [==============================] - 26s 128ms/step - loss: 0.2452 - acc: 0.9104 - val_loss: 0.4204 - val_acc: 0.8788\n",
      "Epoch 14/20\n",
      "201/201 [==============================] - 30s 148ms/step - loss: 0.2371 - acc: 0.9154 - val_loss: 0.5470 - val_acc: 0.6667\n",
      "Epoch 15/20\n",
      "201/201 [==============================] - 25s 125ms/step - loss: 0.2269 - acc: 0.9204 - val_loss: 0.4164 - val_acc: 0.8788\n",
      "Epoch 16/20\n",
      "201/201 [==============================] - 25s 126ms/step - loss: 0.2461 - acc: 0.9104 - val_loss: 0.4229 - val_acc: 0.8788\n",
      "Epoch 17/20\n",
      "201/201 [==============================] - 30s 148ms/step - loss: 0.2547 - acc: 0.9055 - val_loss: 0.3610 - val_acc: 0.8788\n",
      "Epoch 18/20\n",
      "201/201 [==============================] - 25s 125ms/step - loss: 0.2171 - acc: 0.9204 - val_loss: 0.4313 - val_acc: 0.7677\n",
      "Epoch 19/20\n",
      "201/201 [==============================] - 27s 134ms/step - loss: 0.2309 - acc: 0.9055 - val_loss: 0.4789 - val_acc: 0.8788\n",
      "Epoch 20/20\n",
      "201/201 [==============================] - 27s 137ms/step - loss: 0.2495 - acc: 0.9104 - val_loss: 0.4314 - val_acc: 0.8788\n"
     ]
    }
   ],
   "source": [
    "classify_train11 = autoencoder1.fit(train_data1,train_labels_one_hot1,batch_size=32,epochs=20,verbose=1,validation_data = (test_data1,test_labels_one_hot1))"
   ]
  },
  {
   "cell_type": "code",
   "execution_count": 36,
   "metadata": {},
   "outputs": [],
   "source": [
    "from keras.layers import Activation\n",
    "\n",
    "b = Flatten()(encoder2(convo2(input)))\n",
    "b = Activation('relu')(b)\n",
    "\n",
    "layer21 = Flatten()(encoder2(convo2(input)))\n",
    "layer21 = Dense(256, activation = 'relu')(layer21)\n",
    "layer21 = Dense(128, activation = 'relu')(layer21)\n",
    "layer21 = Dense(2, activation = 'softmax')(layer21)\n",
    "model12 = Model(input,layer21)"
   ]
  },
  {
   "cell_type": "code",
   "execution_count": 37,
   "metadata": {},
   "outputs": [
    {
     "name": "stdout",
     "output_type": "stream",
     "text": [
      "_________________________________________________________________\n",
      "Layer (type)                 Output Shape              Param #   \n",
      "=================================================================\n",
      "input_1 (InputLayer)         (None, 256, 256, 1)       0         \n",
      "_________________________________________________________________\n",
      "conv2d_55 (Conv2D)           (None, 254, 254, 32)      320       \n",
      "_________________________________________________________________\n",
      "max_pooling2d_34 (MaxPooling (None, 127, 127, 32)      0         \n",
      "_________________________________________________________________\n",
      "conv2d_56 (Conv2D)           (None, 125, 125, 64)      18496     \n",
      "_________________________________________________________________\n",
      "max_pooling2d_35 (MaxPooling (None, 62, 62, 64)        0         \n",
      "_________________________________________________________________\n",
      "conv2d_57 (Conv2D)           (None, 60, 60, 128)       73856     \n",
      "_________________________________________________________________\n",
      "max_pooling2d_36 (MaxPooling (None, 30, 30, 128)       0         \n",
      "_________________________________________________________________\n",
      "conv2d_58 (Conv2D)           (None, 28, 28, 256)       295168    \n",
      "_________________________________________________________________\n",
      "max_pooling2d_37 (MaxPooling (None, 14, 14, 256)       0         \n",
      "_________________________________________________________________\n",
      "dropout_8 (Dropout)          (None, 14, 14, 256)       0         \n",
      "_________________________________________________________________\n",
      "conv2d_59 (Conv2D)           (None, 14, 14, 32)        73760     \n",
      "_________________________________________________________________\n",
      "batch_normalization_18 (Batc (None, 14, 14, 32)        128       \n",
      "_________________________________________________________________\n",
      "conv2d_60 (Conv2D)           (None, 14, 14, 32)        9248      \n",
      "_________________________________________________________________\n",
      "batch_normalization_19 (Batc (None, 14, 14, 32)        128       \n",
      "_________________________________________________________________\n",
      "max_pooling2d_38 (MaxPooling (None, 7, 7, 32)          0         \n",
      "_________________________________________________________________\n",
      "conv2d_61 (Conv2D)           (None, 7, 7, 64)          18496     \n",
      "_________________________________________________________________\n",
      "batch_normalization_20 (Batc (None, 7, 7, 64)          256       \n",
      "_________________________________________________________________\n",
      "conv2d_62 (Conv2D)           (None, 7, 7, 64)          36928     \n",
      "_________________________________________________________________\n",
      "flatten_8 (Flatten)          (None, 3136)              0         \n",
      "_________________________________________________________________\n",
      "dense_12 (Dense)             (None, 256)               803072    \n",
      "_________________________________________________________________\n",
      "dense_13 (Dense)             (None, 128)               32896     \n",
      "_________________________________________________________________\n",
      "dense_14 (Dense)             (None, 2)                 258       \n",
      "=================================================================\n",
      "Total params: 1,363,010\n",
      "Trainable params: 1,362,754\n",
      "Non-trainable params: 256\n",
      "_________________________________________________________________\n"
     ]
    }
   ],
   "source": [
    "model12.summary()"
   ]
  },
  {
   "cell_type": "code",
   "execution_count": 38,
   "metadata": {},
   "outputs": [],
   "source": [
    "for l1,l2 in zip(model12.layers[:18],autoencoder1.layers[0:18]):\n",
    "    l1.set_weights(l2.get_weights())"
   ]
  },
  {
   "cell_type": "code",
   "execution_count": 39,
   "metadata": {},
   "outputs": [],
   "source": [
    "for layer in model12.layers[0:18]:\n",
    "    layer.trainable =False"
   ]
  },
  {
   "cell_type": "code",
   "execution_count": 40,
   "metadata": {},
   "outputs": [],
   "source": [
    "model12.compile(loss='binary_crossentropy',optimizer ='adam',metrics =['accuracy'] )"
   ]
  },
  {
   "cell_type": "code",
   "execution_count": 41,
   "metadata": {},
   "outputs": [
    {
     "name": "stdout",
     "output_type": "stream",
     "text": [
      "Train on 201 samples, validate on 99 samples\n",
      "Epoch 1/20\n",
      "201/201 [==============================] - 8s 42ms/step - loss: 0.4003 - acc: 0.8756 - val_loss: 1.9431 - val_acc: 0.8788\n",
      "Epoch 2/20\n",
      "201/201 [==============================] - 8s 42ms/step - loss: 0.3338 - acc: 0.9055 - val_loss: 1.9431 - val_acc: 0.8788\n",
      "Epoch 3/20\n",
      "201/201 [==============================] - 8s 40ms/step - loss: 0.3350 - acc: 0.8856 - val_loss: 1.9431 - val_acc: 0.8788\n",
      "Epoch 4/20\n",
      "201/201 [==============================] - 8s 40ms/step - loss: 0.2815 - acc: 0.9154 - val_loss: 1.9429 - val_acc: 0.8788\n",
      "Epoch 5/20\n",
      "201/201 [==============================] - 8s 41ms/step - loss: 0.3554 - acc: 0.9104 - val_loss: 1.8617 - val_acc: 0.8788\n",
      "Epoch 6/20\n",
      "201/201 [==============================] - 8s 41ms/step - loss: 0.2689 - acc: 0.9154 - val_loss: 1.8013 - val_acc: 0.8788\n",
      "Epoch 7/20\n",
      "201/201 [==============================] - 8s 41ms/step - loss: 0.2756 - acc: 0.8905 - val_loss: 1.8881 - val_acc: 0.8788\n",
      "Epoch 8/20\n",
      "201/201 [==============================] - 8s 41ms/step - loss: 0.2835 - acc: 0.9204 - val_loss: 1.8901 - val_acc: 0.8788\n",
      "Epoch 9/20\n",
      "201/201 [==============================] - 8s 41ms/step - loss: 0.2417 - acc: 0.9055 - val_loss: 1.8323 - val_acc: 0.8788\n",
      "Epoch 10/20\n",
      "201/201 [==============================] - 8s 41ms/step - loss: 0.3089 - acc: 0.9104 - val_loss: 1.6905 - val_acc: 0.8788\n",
      "Epoch 11/20\n",
      "201/201 [==============================] - 8s 41ms/step - loss: 0.2528 - acc: 0.9005 - val_loss: 1.8877 - val_acc: 0.8788\n",
      "Epoch 12/20\n",
      "201/201 [==============================] - 8s 42ms/step - loss: 0.2493 - acc: 0.9254 - val_loss: 1.9431 - val_acc: 0.8788\n",
      "Epoch 13/20\n",
      "201/201 [==============================] - 8s 42ms/step - loss: 0.2405 - acc: 0.9204 - val_loss: 1.8982 - val_acc: 0.8788\n",
      "Epoch 14/20\n",
      "201/201 [==============================] - 8s 42ms/step - loss: 0.2811 - acc: 0.9104 - val_loss: 1.7916 - val_acc: 0.8788\n",
      "Epoch 15/20\n",
      "201/201 [==============================] - 8s 42ms/step - loss: 0.2385 - acc: 0.9005 - val_loss: 1.8440 - val_acc: 0.8788\n",
      "Epoch 16/20\n",
      "201/201 [==============================] - 8s 42ms/step - loss: 0.2405 - acc: 0.9104 - val_loss: 1.7236 - val_acc: 0.8889\n",
      "Epoch 17/20\n",
      "201/201 [==============================] - 9s 42ms/step - loss: 0.2349 - acc: 0.8905 - val_loss: 1.7499 - val_acc: 0.8788\n",
      "Epoch 18/20\n",
      "201/201 [==============================] - 8s 42ms/step - loss: 0.2233 - acc: 0.9303 - val_loss: 1.7421 - val_acc: 0.8788\n",
      "Epoch 19/20\n",
      "201/201 [==============================] - 8s 42ms/step - loss: 0.2622 - acc: 0.9154 - val_loss: 1.9431 - val_acc: 0.8788\n",
      "Epoch 20/20\n",
      "201/201 [==============================] - 9s 42ms/step - loss: 0.2585 - acc: 0.9005 - val_loss: 1.9101 - val_acc: 0.8788\n"
     ]
    }
   ],
   "source": [
    "classify_train12 = model12.fit(train_data1,train_labels_one_hot1,batch_size=32,epochs=20,verbose=1,validation_data = (test_data1,test_labels_one_hot1))"
   ]
  },
  {
   "cell_type": "code",
   "execution_count": 42,
   "metadata": {},
   "outputs": [
    {
     "name": "stdout",
     "output_type": "stream",
     "text": [
      "['cat', 'cat', 'cat', 'cat', 'cat', 'cat', 'cat', 'cat', 'cat', 'cat', 'cat', 'cat', 'cat', 'cat', 'cat', 'cat', 'cat', 'cat', 'cat', 'cat', 'cat', 'cat', 'cat', 'cat', 'cat', 'cat', 'cat', 'cat', 'cat', 'cat', 'cat', 'cat', 'cat', 'cat', 'cat', 'cat', 'cat', 'cat', 'cat', 'cat', 'cat', 'cat', 'cat', 'cat', 'cat', 'cat', 'cat', 'cat', 'cat', 'cat', 'cat', 'cat', 'cat', 'cat', 'cat', 'cat', 'cat', 'cat', 'cat', 'cat', 'cat', 'cat', 'cat', 'cat', 'cat', 'cat', 'cat', 'cat', 'cat', 'cat', 'cat', 'cat', 'cat', 'cat', 'cat', 'cat', 'cat', 'cat', 'cat', 'cat', 'cat', 'cat', 'cat', 'cat', 'cat', 'cat', 'cat', 'cat', 'cat', 'cat', 'cat', 'cat', 'cat', 'cat', 'cat', 'cat', 'cat', 'cat', 'cat', 'cat', 'cat', 'cat', 'cat', 'cat', 'cat', 'cat', 'cat', 'cat', 'cat', 'cat', 'cat', 'cat', 'cat', 'cat', 'cat', 'cat', 'cat', 'cat', 'cat', 'cat', 'cat', 'cat', 'cat', 'cat', 'cat', 'cat', 'cat', 'cat', 'cat', 'cat', 'cat', 'cat', 'cat', 'cat', 'cat', 'cat', 'cat', 'cat', 'cat', 'cat', 'cat', 'cat', 'cat', 'cat', 'cat', 'cat', 'cat', 'cat', 'cat', 'cat', 'cat', 'cat', 'cat', 'cat', 'cat', 'cat', 'cat', 'cat', 'cat', 'cat', 'cat', 'cat', 'cat', 'cat', 'cat', 'cat', 'cat', 'cat', 'cat', 'cat', 'cat', 'cat', 'cat', 'cat', 'cat', 'cat', 'cat', 'cat', 'cat', 'cat', 'cat', 'cat', 'cat', 'cat', 'cat', 'cat', 'cat', 'cat', 'cat', 'cat', 'cat', 'cat', 'cat', 'cat', 'cat', 'cat', 'cat', 'cat', 'cat', 'cat', 'dog', 'dog', 'dog', 'dog', 'dog', 'dog', 'dog', 'dog', 'dog', 'dog', 'dog', 'dog', 'dog', 'dog', 'dog', 'dog', 'dog', 'dog', 'dog', 'dog', 'dog', 'dog', 'dog', 'dog', 'dog', 'dog', 'dog', 'dog', 'dog', 'dog', 'dog', 'dog', 'dog', 'dog', 'dog', 'dog', 'dog', 'dog', 'dog', 'dog', 'dog', 'dog', 'dog', 'dog', 'dog', 'dog', 'dog', 'dog', 'dog', 'dog', 'dog', 'dog', 'dog', 'dog', 'dog', 'dog', 'dog', 'dog', 'dog', 'dog', 'dog', 'dog', 'dog', 'dog', 'dog', 'dog', 'dog', 'dog', 'dog', 'dog', 'dog', 'dog', 'dog', 'dog', 'dog', 'dog', 'dog', 'dog', 'dog', 'dog', 'dog', 'dog', 'dog', 'dog', 'dog', 'dog', 'dog', 'dog', 'dog', 'dog', 'dog', 'dog', 'dog', 'dog', 'dog', 'dog', 'dog', 'dog', 'dog', 'dog', 'dog', 'dog', 'dog', 'dog', 'dog', 'dog', 'dog', 'dog', 'dog', 'dog', 'dog', 'dog', 'dog', 'dog', 'dog', 'dog', 'dog', 'dog', 'dog', 'dog', 'dog', 'dog', 'dog', 'dog', 'dog', 'dog', 'dog', 'dog', 'dog', 'dog', 'dog', 'dog', 'dog', 'dog', 'dog', 'dog', 'dog', 'dog', 'dog', 'dog', 'dog', 'dog', 'dog', 'dog', 'dog', 'dog', 'dog', 'dog', 'dog', 'dog', 'dog', 'dog', 'dog', 'dog', 'dog', 'dog', 'dog', 'dog', 'dog', 'dog', 'dog', 'dog', 'dog', 'dog', 'dog', 'dog', 'dog', 'dog', 'dog', 'dog', 'dog', 'dog', 'dog', 'dog', 'dog', 'dog', 'dog', 'dog', 'dog', 'dog', 'dog', 'dog', 'dog', 'dog', 'dog', 'dog', 'dog', 'dog', 'dog', 'dog', 'dog', 'dog', 'dog', 'dog', 'dog', 'dog', 'dog', 'dog', 'dog', 'dog']\n",
      "(102400, 256)\n"
     ]
    },
    {
     "data": {
      "text/plain": [
       "(102400, 256)"
      ]
     },
     "execution_count": 42,
     "metadata": {},
     "output_type": "execute_result"
    }
   ],
   "source": [
    "filenames2 = sorted(os.listdir(train))\n",
    "p42=0\n",
    "d42=[]\n",
    "for img_name in filenames2:\n",
    "    img = plt.imread(train + img_name)\n",
    "    img  = np.resize(img, (256, 256))\n",
    "    if p42==0:\n",
    "      imgs42=(img)\n",
    "      p42=1\n",
    "    else:\n",
    "      imgs42 = np.append(imgs42, img, axis=0)\n",
    "    res = img_name[:3]\n",
    "    d42.append(res)\n",
    "print(d42)\n",
    "    \n",
    "print(imgs42.shape)\n",
    "        \n",
    "img_data = np.array(imgs42)\n",
    "img_data = img_data.astype('float32')\n",
    "img_data = img_data/255\n",
    "img_data.shape"
   ]
  },
  {
   "cell_type": "code",
   "execution_count": 43,
   "metadata": {},
   "outputs": [
    {
     "name": "stdout",
     "output_type": "stream",
     "text": [
      "(320, 256, 256)\n",
      "(80, 256, 256)\n"
     ]
    }
   ],
   "source": [
    "imgs42 = np.reshape(imgs42, [ 400, 256, 256])\n",
    "train_images2, test_images2 = train_test_split(imgs42,test_size=0.20, random_state=42)\n",
    "nRows,nCols = train_images2.shape[1:]\n",
    "nDims = nRows\n",
    "train_data2 = train_images2.reshape(train_images2.shape[0], nRows, nCols, 1)\n",
    "test_data2 = test_images2.reshape(test_images2.shape[0], nRows, nCols, 1)\n",
    "input_shape = (nRows, nCols, 1)\n",
    "train_data2 = train_data2.astype('float32')\n",
    "test_data2 = test_data2.astype('float32')\n",
    "train_data2 /= 255\n",
    "test_data2 /= 255\n",
    "print(train_images2.shape)\n",
    "print(test_images2.shape)"
   ]
  },
  {
   "cell_type": "code",
   "execution_count": 44,
   "metadata": {},
   "outputs": [
    {
     "name": "stdout",
     "output_type": "stream",
     "text": [
      "Training data shape :  (320, 256, 256) 320\n",
      "Testing data shape :  (80, 256, 256) 80\n",
      "Total number of outputs :  2\n",
      "Output classes :  ['cat' 'dog']\n"
     ]
    }
   ],
   "source": [
    "imgs2 = np.reshape(imgs42, [ 400, 256, 256])\n",
    "train_images2, test_images2, train_labels2, test_labels2 = train_test_split(imgs42, d42, test_size=0.20, random_state=42)\n",
    "print('Training data shape : ', train_images2.shape, len(train_labels2))\n",
    "print('Testing data shape : ', test_images2.shape, len(test_labels2))\n",
    "classes2 = np.unique(train_labels2)\n",
    "#classes=np.append(classes,0)\n",
    "nClasses2 = len(classes2)\n",
    "\n",
    "print('Total number of outputs : ', nClasses2)\n",
    "print('Output classes : ', classes2)"
   ]
  },
  {
   "cell_type": "code",
   "execution_count": 45,
   "metadata": {},
   "outputs": [
    {
     "name": "stdout",
     "output_type": "stream",
     "text": [
      "[0, 0, 1, 1, 1, 0, 1, 1, 0, 0, 1, 1, 0, 1, 0, 1, 1, 1, 1, 0, 1, 0, 0, 0, 0, 0, 0, 0, 1, 1, 0, 1, 1, 1, 1, 0, 0, 1, 1, 1, 0, 0, 0, 1, 0, 0, 1, 1, 0, 1, 1, 0, 1, 0, 0, 0, 1, 1, 1, 1, 0, 0, 1, 0, 0, 1, 0, 0, 0, 1, 0, 1, 1, 0, 0, 0, 0, 0, 1, 1, 1, 1, 1, 0, 1, 0, 1, 0, 0, 1, 0, 0, 0, 0, 0, 1, 0, 1, 0, 0, 0, 0, 0, 0, 0, 0, 1, 1, 1, 0, 0, 0, 1, 0, 1, 1, 1, 1, 1, 1, 0, 1, 1, 1, 1, 0, 0, 0, 1, 0, 1, 0, 0, 1, 1, 0, 1, 1, 1, 1, 1, 0, 1, 0, 0, 0, 0, 1, 0, 1, 0, 1, 1, 0, 0, 1, 1, 1, 1, 1, 1, 0, 0, 1, 0, 0, 1, 0, 1, 1, 0, 1, 0, 1, 0, 1, 0, 0, 1, 0, 0, 0, 0, 0, 0, 0, 1, 1, 1, 0, 0, 1, 1, 1, 0, 0, 1, 1, 1, 1, 0, 1, 1, 0, 1, 1, 1, 0, 0, 1, 0, 0, 0, 1, 1, 1, 0, 1, 1, 1, 1, 0, 1, 0, 0, 0, 0, 0, 0, 1, 0, 0, 0, 1, 1, 1, 1, 1, 1, 1, 1, 1, 1, 1, 1, 1, 1, 1, 1, 0, 0, 1, 0, 1, 1, 0, 0, 0, 0, 0, 1, 0, 1, 0, 1, 0, 1, 1, 1, 0, 1, 0, 1, 0, 1, 1, 0, 1, 1, 1, 1, 0, 0, 0, 0, 1, 0, 0, 0, 0, 1, 1, 1, 0, 1, 0, 1, 0, 1, 1, 1, 1, 0, 0, 0, 1, 0, 1, 0, 1, 1, 0, 1, 0, 0, 0, 0, 1, 1, 0]\n"
     ]
    },
    {
     "data": {
      "text/plain": [
       "320"
      ]
     },
     "execution_count": 45,
     "metadata": {},
     "output_type": "execute_result"
    }
   ],
   "source": [
    "train_labels2=[0 if x=='cat' else 1 for x in train_labels2]\n",
    "print(train_labels2)\n",
    "len(train_labels2)"
   ]
  },
  {
   "cell_type": "code",
   "execution_count": 46,
   "metadata": {},
   "outputs": [
    {
     "name": "stdout",
     "output_type": "stream",
     "text": [
      "[1, 1, 0, 1, 0, 0, 1, 0, 1, 0, 0, 1, 0, 0, 0, 0, 1, 1, 1, 1, 0, 0, 1, 1, 0, 1, 0, 1, 1, 0, 1, 0, 1, 0, 1, 0, 0, 1, 0, 0, 1, 0, 0, 0, 0, 1, 0, 0, 0, 0, 0, 1, 1, 0, 1, 0, 1, 0, 0, 0, 0, 1, 1, 0, 0, 0, 1, 1, 1, 0, 1, 0, 0, 0, 1, 1, 1, 1, 0, 1]\n"
     ]
    },
    {
     "data": {
      "text/plain": [
       "80"
      ]
     },
     "execution_count": 46,
     "metadata": {},
     "output_type": "execute_result"
    }
   ],
   "source": [
    "test_labels2=[0 if x=='cat' else 1 for x in test_labels2]\n",
    "print(test_labels2)\n",
    "len(test_labels2)"
   ]
  },
  {
   "cell_type": "code",
   "execution_count": 47,
   "metadata": {},
   "outputs": [
    {
     "name": "stdout",
     "output_type": "stream",
     "text": [
      "256\n",
      "320\n",
      "80\n",
      "Original label :  1\n",
      "After conversion to categorical ( one-hot ) :  [0. 1.]\n",
      "Original label :  0\n",
      "After conversion to categorical ( one-hot ) :  [1. 0.]\n"
     ]
    }
   ],
   "source": [
    "from keras.utils import to_categorical\n",
    "\n",
    "nRows,nCols = train_images2.shape[1:]\n",
    "nDims = nRows\n",
    "print(nCols)\n",
    "train_data2 = train_images2.reshape(train_images2.shape[0], nRows, nCols, 1)\n",
    "test_data2 = test_images2.reshape(test_images2.shape[0], nRows, nCols, 1)\n",
    "input_shape = (nRows, nCols, 1)\n",
    "train_data2 = train_data2.astype('float32')\n",
    "test_data2 = test_data2.astype('float32')\n",
    "train_data2 /= 255\n",
    "test_data2 /= 255\n",
    "print(len(train_labels2))\n",
    "print(len(test_labels2))\n",
    "train_labels_one_hot2 = to_categorical(train_labels2)\n",
    "test_labels_one_hot2 = to_categorical(test_labels2)\n",
    "print('Original label : ', train_labels2[56])\n",
    "print('After conversion to categorical ( one-hot ) : ', train_labels_one_hot2[56])\n",
    "print('Original label : ', test_labels2[35])\n",
    "print('After conversion to categorical ( one-hot ) : ', test_labels_one_hot2[35])"
   ]
  },
  {
   "cell_type": "code",
   "execution_count": null,
   "metadata": {},
   "outputs": [],
   "source": [
    "input = Input(shape =(256,256, 1))\n",
    "x = Conv2D(32, kernel_size = (3, 3), activation='relu')(input)\n",
    "x = MaxPool2D(pool_size=(2,2))(x)\n",
    "x = Conv2D(64, kernel_size=(3,3), activation='relu')(x)\n",
    "x = MaxPool2D(pool_size=(2,2))(x)\n",
    "x = Conv2D(128, kernel_size=(3,3), activation='relu')(x) \n",
    "x = MaxPool2D(pool_size=(2,2))(x)\n",
    "x = Conv2D(256, kernel_size=(3,3), activation='relu')(x) \n",
    "x = MaxPool2D(pool_size=(2,2))(x)\n",
    "x = Dropout(0.2)(x)\n",
    "\n",
    "net = Conv2D(32,(3,3),activation ='relu',padding='same')(x)\n",
    "net = BatchNormalization()(net)\n",
    "net = Conv2D(32,(3,3),activation ='relu',padding='same')(net)\n",
    "net = BatchNormalization()(net)\n",
    "net= MaxPool2D(pool_size=(2,2))(net)\n",
    "net = Conv2D(64,(3,3),activation ='relu',padding='same')(net)\n",
    "net = BatchNormalization()(net)\n",
    "net = Conv2D(64,(3,3),activation ='relu',padding='same')(net)\n",
    "\n",
    "\n",
    "x1 = Conv2D(32, kernel_size = (3, 3), activation='relu')(input)\n",
    "x1 = MaxPool2D(pool_size=(2,2))(x1)\n",
    "x1 = Conv2D(64, kernel_size=(3,3), activation='relu')(x1)\n",
    "x1 = MaxPool2D(pool_size=(2,2))(x1)\n",
    "x1 = Conv2D(128, kernel_size=(3,3), activation='relu')(x1) \n",
    "x1 = MaxPool2D(pool_size=(2,2))(x1)\n",
    "x1 = Conv2D(256, kernel_size=(3,3), activation='relu')(x1) \n",
    "x1 = MaxPool2D(pool_size=(2,2))(x1)\n",
    "x1 = Dropout(0.2)(x1)\n",
    "\n",
    "net11 = Conv2D(32,(3,3),activation ='relu',padding='same')(x1)\n",
    "net11 = BatchNormalization()(net11)\n",
    "net11 = Conv2D(32,(3,3),activation ='relu',padding='same')(net11)\n",
    "net11 = BatchNormalization()(net11)\n",
    "net11= MaxPool2D(pool_size=(2,2))(net11)\n",
    "net11 = Conv2D(64,(3,3),activation ='relu',padding='same')(net11)\n",
    "net11 = BatchNormalization()(net11)\n",
    "net11 = Conv2D(64,(3,3),activation ='relu',padding='same')(net11)\n",
    "\n",
    "\n",
    "merged_mod = Flatten()(net)\n",
    "merged_mo = Flatten()(net11)\n",
    "merged_model = concatenate([merged_mod,merged_mo])\n",
    "merged_model = Dense(256, activation = 'relu')(merged_model)\n",
    "merged_model = Dense(128, activation = 'relu')(merged_model)\n",
    "merged_model = Dense(2, activation = 'softmax')(merged_model)\n",
    "model5 = Model(input,merged_model)"
   ]
  },
  {
   "cell_type": "code",
   "execution_count": 48,
   "metadata": {},
   "outputs": [],
   "source": [
    "for layer in model12.layers[0:18]:\n",
    "    layer.trainable =True\n",
    "for layer in model1.layers[0:18]:\n",
    "    layer.trainable =True\n",
    "    \n",
    "a = Flatten()(encoder1(convo1(input)))\n",
    "b = Flatten()(encoder2(convo2(input)))\n",
    "merged_model1 = concatenate([a,b])\n",
    "merged_model1 = Dense(256, activation = 'relu')(merged_model1)\n",
    "merged_model1 = Dense(128, activation = 'relu')(merged_model1)\n",
    "merged_model1 = Dense(2, activation = 'softmax')(merged_model1)\n",
    "model51 = Model(input,merged_model1)"
   ]
  },
  {
   "cell_type": "code",
   "execution_count": 49,
   "metadata": {},
   "outputs": [
    {
     "name": "stdout",
     "output_type": "stream",
     "text": [
      "__________________________________________________________________________________________________\n",
      "Layer (type)                    Output Shape         Param #     Connected to                     \n",
      "==================================================================================================\n",
      "input_1 (InputLayer)            (None, 256, 256, 1)  0                                            \n",
      "__________________________________________________________________________________________________\n",
      "conv2d_63 (Conv2D)              (None, 254, 254, 32) 320         input_1[0][0]                    \n",
      "__________________________________________________________________________________________________\n",
      "conv2d_71 (Conv2D)              (None, 254, 254, 32) 320         input_1[0][0]                    \n",
      "__________________________________________________________________________________________________\n",
      "max_pooling2d_39 (MaxPooling2D) (None, 127, 127, 32) 0           conv2d_63[0][0]                  \n",
      "__________________________________________________________________________________________________\n",
      "max_pooling2d_44 (MaxPooling2D) (None, 127, 127, 32) 0           conv2d_71[0][0]                  \n",
      "__________________________________________________________________________________________________\n",
      "conv2d_64 (Conv2D)              (None, 125, 125, 64) 18496       max_pooling2d_39[0][0]           \n",
      "__________________________________________________________________________________________________\n",
      "conv2d_72 (Conv2D)              (None, 125, 125, 64) 18496       max_pooling2d_44[0][0]           \n",
      "__________________________________________________________________________________________________\n",
      "max_pooling2d_40 (MaxPooling2D) (None, 62, 62, 64)   0           conv2d_64[0][0]                  \n",
      "__________________________________________________________________________________________________\n",
      "max_pooling2d_45 (MaxPooling2D) (None, 62, 62, 64)   0           conv2d_72[0][0]                  \n",
      "__________________________________________________________________________________________________\n",
      "conv2d_65 (Conv2D)              (None, 60, 60, 128)  73856       max_pooling2d_40[0][0]           \n",
      "__________________________________________________________________________________________________\n",
      "conv2d_73 (Conv2D)              (None, 60, 60, 128)  73856       max_pooling2d_45[0][0]           \n",
      "__________________________________________________________________________________________________\n",
      "max_pooling2d_41 (MaxPooling2D) (None, 30, 30, 128)  0           conv2d_65[0][0]                  \n",
      "__________________________________________________________________________________________________\n",
      "max_pooling2d_46 (MaxPooling2D) (None, 30, 30, 128)  0           conv2d_73[0][0]                  \n",
      "__________________________________________________________________________________________________\n",
      "conv2d_66 (Conv2D)              (None, 28, 28, 256)  295168      max_pooling2d_41[0][0]           \n",
      "__________________________________________________________________________________________________\n",
      "conv2d_74 (Conv2D)              (None, 28, 28, 256)  295168      max_pooling2d_46[0][0]           \n",
      "__________________________________________________________________________________________________\n",
      "max_pooling2d_42 (MaxPooling2D) (None, 14, 14, 256)  0           conv2d_66[0][0]                  \n",
      "__________________________________________________________________________________________________\n",
      "max_pooling2d_47 (MaxPooling2D) (None, 14, 14, 256)  0           conv2d_74[0][0]                  \n",
      "__________________________________________________________________________________________________\n",
      "dropout_9 (Dropout)             (None, 14, 14, 256)  0           max_pooling2d_42[0][0]           \n",
      "__________________________________________________________________________________________________\n",
      "dropout_10 (Dropout)            (None, 14, 14, 256)  0           max_pooling2d_47[0][0]           \n",
      "__________________________________________________________________________________________________\n",
      "conv2d_67 (Conv2D)              (None, 14, 14, 32)   73760       dropout_9[0][0]                  \n",
      "__________________________________________________________________________________________________\n",
      "conv2d_75 (Conv2D)              (None, 14, 14, 32)   73760       dropout_10[0][0]                 \n",
      "__________________________________________________________________________________________________\n",
      "batch_normalization_21 (BatchNo (None, 14, 14, 32)   128         conv2d_67[0][0]                  \n",
      "__________________________________________________________________________________________________\n",
      "batch_normalization_24 (BatchNo (None, 14, 14, 32)   128         conv2d_75[0][0]                  \n",
      "__________________________________________________________________________________________________\n",
      "conv2d_68 (Conv2D)              (None, 14, 14, 32)   9248        batch_normalization_21[0][0]     \n",
      "__________________________________________________________________________________________________\n",
      "conv2d_76 (Conv2D)              (None, 14, 14, 32)   9248        batch_normalization_24[0][0]     \n",
      "__________________________________________________________________________________________________\n",
      "batch_normalization_22 (BatchNo (None, 14, 14, 32)   128         conv2d_68[0][0]                  \n",
      "__________________________________________________________________________________________________\n",
      "batch_normalization_25 (BatchNo (None, 14, 14, 32)   128         conv2d_76[0][0]                  \n",
      "__________________________________________________________________________________________________\n",
      "max_pooling2d_43 (MaxPooling2D) (None, 7, 7, 32)     0           batch_normalization_22[0][0]     \n",
      "__________________________________________________________________________________________________\n",
      "max_pooling2d_48 (MaxPooling2D) (None, 7, 7, 32)     0           batch_normalization_25[0][0]     \n",
      "__________________________________________________________________________________________________\n",
      "conv2d_69 (Conv2D)              (None, 7, 7, 64)     18496       max_pooling2d_43[0][0]           \n",
      "__________________________________________________________________________________________________\n",
      "conv2d_77 (Conv2D)              (None, 7, 7, 64)     18496       max_pooling2d_48[0][0]           \n",
      "__________________________________________________________________________________________________\n",
      "batch_normalization_23 (BatchNo (None, 7, 7, 64)     256         conv2d_69[0][0]                  \n",
      "__________________________________________________________________________________________________\n",
      "batch_normalization_26 (BatchNo (None, 7, 7, 64)     256         conv2d_77[0][0]                  \n",
      "__________________________________________________________________________________________________\n",
      "conv2d_70 (Conv2D)              (None, 7, 7, 64)     36928       batch_normalization_23[0][0]     \n",
      "__________________________________________________________________________________________________\n",
      "conv2d_78 (Conv2D)              (None, 7, 7, 64)     36928       batch_normalization_26[0][0]     \n",
      "__________________________________________________________________________________________________\n",
      "flatten_9 (Flatten)             (None, 3136)         0           conv2d_70[0][0]                  \n",
      "__________________________________________________________________________________________________\n",
      "flatten_10 (Flatten)            (None, 3136)         0           conv2d_78[0][0]                  \n",
      "__________________________________________________________________________________________________\n",
      "concatenate_1 (Concatenate)     (None, 6272)         0           flatten_9[0][0]                  \n",
      "                                                                 flatten_10[0][0]                 \n",
      "__________________________________________________________________________________________________\n",
      "dense_15 (Dense)                (None, 256)          1605888     concatenate_1[0][0]              \n",
      "__________________________________________________________________________________________________\n",
      "dense_16 (Dense)                (None, 128)          32896       dense_15[0][0]                   \n",
      "__________________________________________________________________________________________________\n",
      "dense_17 (Dense)                (None, 2)            258         dense_16[0][0]                   \n",
      "==================================================================================================\n",
      "Total params: 2,692,610\n",
      "Trainable params: 2,692,098\n",
      "Non-trainable params: 512\n",
      "__________________________________________________________________________________________________\n"
     ]
    }
   ],
   "source": [
    "model51.summary()"
   ]
  },
  {
   "cell_type": "code",
   "execution_count": 50,
   "metadata": {},
   "outputs": [],
   "source": [
    "for layer in model12.layers[0:18]:\n",
    "    layer.trainable =False\n",
    "for layer in model1.layers[0:18]:\n",
    "    layer.trainable =False"
   ]
  },
  {
   "cell_type": "code",
   "execution_count": 51,
   "metadata": {},
   "outputs": [],
   "source": [
    "model51.compile(loss='binary_crossentropy', optimizer='adam', metrics = ['accuracy'])"
   ]
  },
  {
   "cell_type": "code",
   "execution_count": 52,
   "metadata": {},
   "outputs": [
    {
     "name": "stdout",
     "output_type": "stream",
     "text": [
      "Train on 320 samples, validate on 80 samples\n",
      "Epoch 1/20\n",
      "320/320 [==============================] - 64s 201ms/step - loss: 1.3316 - acc: 0.5156 - val_loss: 1.3662 - val_acc: 0.4500\n",
      "Epoch 2/20\n",
      "320/320 [==============================] - 60s 186ms/step - loss: 0.7986 - acc: 0.4906 - val_loss: 0.7078 - val_acc: 0.5375\n",
      "Epoch 3/20\n",
      "320/320 [==============================] - 60s 186ms/step - loss: 0.7090 - acc: 0.4844 - val_loss: 1.3752 - val_acc: 0.4500\n",
      "Epoch 4/20\n",
      "320/320 [==============================] - 60s 189ms/step - loss: 0.7045 - acc: 0.5469 - val_loss: 0.7389 - val_acc: 0.4625\n",
      "Epoch 5/20\n",
      "320/320 [==============================] - 61s 192ms/step - loss: 0.6988 - acc: 0.5531 - val_loss: 0.7583 - val_acc: 0.4875\n",
      "Epoch 6/20\n",
      "320/320 [==============================] - 63s 197ms/step - loss: 0.6953 - acc: 0.5906 - val_loss: 0.7480 - val_acc: 0.5625\n",
      "Epoch 7/20\n",
      "320/320 [==============================] - 73s 227ms/step - loss: 0.6835 - acc: 0.5531 - val_loss: 0.7094 - val_acc: 0.4875\n",
      "Epoch 8/20\n",
      "320/320 [==============================] - 88s 275ms/step - loss: 0.6870 - acc: 0.5594 - val_loss: 0.9961 - val_acc: 0.5000\n",
      "Epoch 9/20\n",
      "320/320 [==============================] - 87s 271ms/step - loss: 0.7108 - acc: 0.5438 - val_loss: 0.7798 - val_acc: 0.5000\n",
      "Epoch 10/20\n",
      "320/320 [==============================] - 84s 264ms/step - loss: 0.6577 - acc: 0.6063 - val_loss: 0.6913 - val_acc: 0.5625\n",
      "Epoch 11/20\n",
      "320/320 [==============================] - 86s 270ms/step - loss: 0.6260 - acc: 0.6219 - val_loss: 0.9492 - val_acc: 0.5625\n",
      "Epoch 12/20\n",
      "320/320 [==============================] - 86s 270ms/step - loss: 0.6238 - acc: 0.6281 - val_loss: 0.7592 - val_acc: 0.4750\n",
      "Epoch 13/20\n",
      "320/320 [==============================] - 86s 267ms/step - loss: 0.6200 - acc: 0.6281 - val_loss: 0.8480 - val_acc: 0.5500\n",
      "Epoch 14/20\n",
      "320/320 [==============================] - 86s 268ms/step - loss: 0.6184 - acc: 0.6781 - val_loss: 0.7594 - val_acc: 0.5500\n",
      "Epoch 15/20\n",
      "320/320 [==============================] - 86s 268ms/step - loss: 0.5855 - acc: 0.6875 - val_loss: 0.8200 - val_acc: 0.5750\n",
      "Epoch 16/20\n",
      "320/320 [==============================] - 86s 269ms/step - loss: 0.5522 - acc: 0.7094 - val_loss: 0.9946 - val_acc: 0.4625\n",
      "Epoch 17/20\n",
      "320/320 [==============================] - 87s 273ms/step - loss: 0.5450 - acc: 0.7125 - val_loss: 0.8193 - val_acc: 0.5375\n",
      "Epoch 18/20\n",
      "320/320 [==============================] - 3274s 10s/step - loss: 0.5085 - acc: 0.7469 - val_loss: 0.9189 - val_acc: 0.5250\n",
      "Epoch 19/20\n",
      "320/320 [==============================] - 60s 188ms/step - loss: 0.5165 - acc: 0.7406 - val_loss: 0.8601 - val_acc: 0.5625\n",
      "Epoch 20/20\n",
      "320/320 [==============================] - 60s 189ms/step - loss: 0.4840 - acc: 0.7344 - val_loss: 0.9428 - val_acc: 0.5000\n"
     ]
    }
   ],
   "source": [
    "history3 = model51.fit(train_data2,train_labels_one_hot2,batch_size=32,epochs=20,validation_data=(test_data2, test_labels_one_hot2))"
   ]
  },
  {
   "cell_type": "code",
   "execution_count": 53,
   "metadata": {},
   "outputs": [
    {
     "name": "stdout",
     "output_type": "stream",
     "text": [
      "80/80 [==============================] - 3s 43ms/step\n"
     ]
    },
    {
     "data": {
      "text/plain": [
       "[0.9428400993347168, 0.5]"
      ]
     },
     "execution_count": 53,
     "metadata": {},
     "output_type": "execute_result"
    }
   ],
   "source": [
    "model51.evaluate(test_data2, test_labels_one_hot2)"
   ]
  },
  {
   "cell_type": "code",
   "execution_count": 54,
   "metadata": {},
   "outputs": [],
   "source": [
    "for layer in model12.layers[0:18]:\n",
    "    layer.trainable =True\n",
    "for layer in model1.layers[0:18]:\n",
    "    layer.trainable =True"
   ]
  },
  {
   "cell_type": "code",
   "execution_count": 55,
   "metadata": {},
   "outputs": [],
   "source": [
    "model51.compile(loss='binary_crossentropy', optimizer='adam', metrics = ['accuracy'])"
   ]
  },
  {
   "cell_type": "code",
   "execution_count": 56,
   "metadata": {},
   "outputs": [
    {
     "name": "stdout",
     "output_type": "stream",
     "text": [
      "Train on 320 samples, validate on 80 samples\n",
      "Epoch 1/20\n",
      "320/320 [==============================] - 70s 219ms/step - loss: 0.6759 - acc: 0.6406 - val_loss: 0.9140 - val_acc: 0.5375\n",
      "Epoch 2/20\n",
      "320/320 [==============================] - 79s 246ms/step - loss: 0.5727 - acc: 0.6844 - val_loss: 1.4166 - val_acc: 0.5750\n",
      "Epoch 3/20\n",
      "320/320 [==============================] - 75s 234ms/step - loss: 0.4651 - acc: 0.7719 - val_loss: 1.0590 - val_acc: 0.5250\n",
      "Epoch 4/20\n",
      "320/320 [==============================] - 63s 195ms/step - loss: 0.4434 - acc: 0.7625 - val_loss: 0.8254 - val_acc: 0.6000\n",
      "Epoch 5/20\n",
      "320/320 [==============================] - 70s 218ms/step - loss: 0.4173 - acc: 0.7750 - val_loss: 1.4409 - val_acc: 0.5125\n",
      "Epoch 6/20\n",
      "320/320 [==============================] - 72s 225ms/step - loss: 0.3742 - acc: 0.8063 - val_loss: 0.8966 - val_acc: 0.5750\n",
      "Epoch 7/20\n",
      "320/320 [==============================] - 67s 208ms/step - loss: 0.3727 - acc: 0.8187 - val_loss: 0.8677 - val_acc: 0.6125\n",
      "Epoch 8/20\n",
      "320/320 [==============================] - 82s 255ms/step - loss: 0.3502 - acc: 0.8531 - val_loss: 1.0563 - val_acc: 0.6000\n",
      "Epoch 9/20\n",
      "320/320 [==============================] - 78s 244ms/step - loss: 0.3254 - acc: 0.8656 - val_loss: 1.4625 - val_acc: 0.4750\n",
      "Epoch 10/20\n",
      "320/320 [==============================] - 71s 222ms/step - loss: 0.2666 - acc: 0.8812 - val_loss: 1.0345 - val_acc: 0.6375\n",
      "Epoch 11/20\n",
      "320/320 [==============================] - 66s 207ms/step - loss: 0.2405 - acc: 0.8875 - val_loss: 1.2926 - val_acc: 0.5750\n",
      "Epoch 12/20\n",
      "320/320 [==============================] - 65s 203ms/step - loss: 0.2304 - acc: 0.9000 - val_loss: 1.0663 - val_acc: 0.6125\n",
      "Epoch 13/20\n",
      "320/320 [==============================] - 64s 199ms/step - loss: 0.1563 - acc: 0.9406 - val_loss: 1.1948 - val_acc: 0.5625\n",
      "Epoch 14/20\n",
      "320/320 [==============================] - 66s 207ms/step - loss: 0.1991 - acc: 0.9062 - val_loss: 2.0111 - val_acc: 0.5125\n",
      "Epoch 15/20\n",
      "320/320 [==============================] - 66s 205ms/step - loss: 0.2235 - acc: 0.9031 - val_loss: 1.3436 - val_acc: 0.5750\n",
      "Epoch 16/20\n",
      "320/320 [==============================] - 68s 211ms/step - loss: 0.1945 - acc: 0.9156 - val_loss: 1.6577 - val_acc: 0.5375\n",
      "Epoch 17/20\n",
      "320/320 [==============================] - 69s 215ms/step - loss: 0.1777 - acc: 0.9187 - val_loss: 1.8007 - val_acc: 0.6000\n",
      "Epoch 18/20\n",
      "320/320 [==============================] - 66s 207ms/step - loss: 0.1191 - acc: 0.9531 - val_loss: 3.4111 - val_acc: 0.5375\n",
      "Epoch 19/20\n",
      "320/320 [==============================] - 65s 202ms/step - loss: 0.1759 - acc: 0.9156 - val_loss: 1.4757 - val_acc: 0.5750\n",
      "Epoch 20/20\n",
      "320/320 [==============================] - 66s 206ms/step - loss: 0.1476 - acc: 0.9437 - val_loss: 1.8825 - val_acc: 0.5125\n"
     ]
    }
   ],
   "source": [
    "history3 = model51.fit(train_data2,train_labels_one_hot2,batch_size=32,epochs=20,validation_data=(test_data2, test_labels_one_hot2))"
   ]
  },
  {
   "cell_type": "code",
   "execution_count": 57,
   "metadata": {},
   "outputs": [
    {
     "name": "stdout",
     "output_type": "stream",
     "text": [
      "80/80 [==============================] - 4s 44ms/step\n"
     ]
    },
    {
     "data": {
      "text/plain": [
       "[1.8825215339660644, 0.5125]"
      ]
     },
     "execution_count": 57,
     "metadata": {},
     "output_type": "execute_result"
    }
   ],
   "source": [
    "model51.evaluate(test_data2, test_labels_one_hot2)"
   ]
  },
  {
   "cell_type": "code",
   "execution_count": null,
   "metadata": {},
   "outputs": [],
   "source": []
  }
 ],
 "metadata": {
  "kernelspec": {
   "display_name": "Python 3",
   "language": "python",
   "name": "python3"
  },
  "language_info": {
   "codemirror_mode": {
    "name": "ipython",
    "version": 3
   },
   "file_extension": ".py",
   "mimetype": "text/x-python",
   "name": "python",
   "nbconvert_exporter": "python",
   "pygments_lexer": "ipython3",
   "version": "3.7.3"
  }
 },
 "nbformat": 4,
 "nbformat_minor": 2
}
