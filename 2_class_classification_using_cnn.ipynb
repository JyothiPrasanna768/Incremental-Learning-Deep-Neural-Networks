{
  "nbformat": 4,
  "nbformat_minor": 0,
  "metadata": {
    "accelerator": "GPU",
    "colab": {
      "name": "2_class_classification_using_cnn.ipynb",
      "provenance": [],
      "collapsed_sections": []
    },
    "kernelspec": {
      "display_name": "Python 3",
      "language": "python",
      "name": "python3"
    },
    "language_info": {
      "codemirror_mode": {
        "name": "ipython",
        "version": 3
      },
      "file_extension": ".py",
      "mimetype": "text/x-python",
      "name": "python",
      "nbconvert_exporter": "python",
      "pygments_lexer": "ipython3",
      "version": "3.7.4"
    }
  },
  "cells": [
    {
      "cell_type": "code",
      "metadata": {
        "colab_type": "code",
        "id": "Dmxj1E7G8Fy1",
        "colab": {}
      },
      "source": [
        "import tensorflow as tf\n",
        "import seaborn as sns\n",
        "import numpy as np\n",
        "\n",
        "from PIL import Image\n",
        "import glob\n",
        "from collections import defaultdict\n",
        "from tensorflow import keras\n",
        "from tensorflow.keras import layers"
      ],
      "execution_count": 0,
      "outputs": []
    },
    {
      "cell_type": "code",
      "metadata": {
        "colab_type": "code",
        "id": "W90ejHtc8F5P",
        "colab": {}
      },
      "source": [
        "IMG_SIZE = (64,64)\n",
        "def pixels_from_path(file_path):\n",
        "    im = Image.open(file_path)\n",
        "    im = im.resize(IMG_SIZE)\n",
        "    np_im = np.array(im)\n",
        "    #matrix of pixel RGB values\n",
        "    return np_im"
      ],
      "execution_count": 0,
      "outputs": []
    },
    {
      "cell_type": "code",
      "metadata": {
        "colab_type": "code",
        "id": "r2rsKNig8F9h",
        "outputId": "c1058a42-f7f0-41bf-805f-6fb4ad48cbd2",
        "colab": {
          "base_uri": "https://localhost:8080/",
          "height": 34
        }
      },
      "source": [
        "glob.glob('data1/train/*')"
      ],
      "execution_count": 0,
      "outputs": [
        {
          "output_type": "execute_result",
          "data": {
            "text/plain": [
              "['data1/train\\\\bird',\n",
              " 'data1/train\\\\cat',\n",
              " 'data1/train\\\\cow',\n",
              " 'data1/train\\\\hen']"
            ]
          },
          "metadata": {
            "tags": []
          },
          "execution_count": 236
        }
      ]
    },
    {
      "cell_type": "code",
      "metadata": {
        "colab_type": "code",
        "id": "5sPsgRd08GBp",
        "outputId": "de677fd7-62c0-413f-a1ac-5ba36eb03ef0",
        "colab": {
          "base_uri": "https://localhost:8080/",
          "height": 51
        }
      },
      "source": [
        "shape_counts = defaultdict(int)\n",
        "for i, cat in enumerate(glob.glob('data1/train/cat/*')[:1000]):\n",
        "    if i%100==0:\n",
        "        print(i)\n",
        "    img_shape = pixels_from_path(cat).shape\n",
        "    shape_counts[str(img_shape)]= shape_counts[str(img_shape)]+ 1\n",
        "\n",
        "for i, cat in enumerate(glob.glob('data1/train/hen/*')[:1000]):\n",
        "    if i%100==0:\n",
        "        print(i)\n",
        "    img_shape = pixels_from_path(cat).shape\n",
        "    shape_counts[str(img_shape)]= shape_counts[str(img_shape)]+ 1\n",
        "    \n",
        "for i, cat in enumerate(glob.glob('data1/train/cow/*')[:1000]):\n",
        "    if i%100==0:\n",
        "        print(i)\n",
        "    img_shape = pixels_from_path(cat).shape\n",
        "    shape_counts[str(img_shape)]= shape_counts[str(img_shape)]+ 1"
      ],
      "execution_count": 0,
      "outputs": [
        {
          "output_type": "stream",
          "text": [
            "0\n",
            "100\n",
            "0\n",
            "100\n",
            "0\n",
            "100\n"
          ],
          "name": "stdout"
        }
      ]
    },
    {
      "cell_type": "code",
      "metadata": {
        "colab_type": "code",
        "id": "bZKLurtT8GGa",
        "colab": {}
      },
      "source": [
        "shape_items = list(shape_counts.items())\n",
        "shape_items.sort(key = lambda x: x[1])\n",
        "shape_items.reverse()"
      ],
      "execution_count": 0,
      "outputs": []
    },
    {
      "cell_type": "code",
      "metadata": {
        "colab_type": "code",
        "id": "Qq16r8ZC8GI9",
        "outputId": "8f373c93-0c1e-4e87-b3f7-12418754f2b0",
        "colab": {
          "base_uri": "https://localhost:8080/",
          "height": 34
        }
      },
      "source": [
        "len(glob.glob('data1/train/cat/*'))"
      ],
      "execution_count": 0,
      "outputs": [
        {
          "output_type": "execute_result",
          "data": {
            "text/plain": [
              "152"
            ]
          },
          "metadata": {
            "tags": []
          },
          "execution_count": 239
        }
      ]
    },
    {
      "cell_type": "code",
      "metadata": {
        "id": "lfNnm0-KsEqw",
        "colab_type": "code",
        "colab": {},
        "outputId": "23eaed0f-e45d-4a8f-d65a-a37e32269e1e"
      },
      "source": [
        "len(glob.glob('data1/train/hen/*'))"
      ],
      "execution_count": 0,
      "outputs": [
        {
          "output_type": "execute_result",
          "data": {
            "text/plain": [
              "152"
            ]
          },
          "metadata": {
            "tags": []
          },
          "execution_count": 240
        }
      ]
    },
    {
      "cell_type": "code",
      "metadata": {
        "id": "L-x5nYdTsEq2",
        "colab_type": "code",
        "colab": {},
        "outputId": "34b85f65-8abb-4b1f-db50-eab917242e40"
      },
      "source": [
        "len(glob.glob('data1/train/cow/*'))"
      ],
      "execution_count": 0,
      "outputs": [
        {
          "output_type": "execute_result",
          "data": {
            "text/plain": [
              "152"
            ]
          },
          "metadata": {
            "tags": []
          },
          "execution_count": 241
        }
      ]
    },
    {
      "cell_type": "code",
      "metadata": {
        "colab_type": "code",
        "id": "J_D8Ynm48GAc",
        "outputId": "566ec83d-b4b4-4fdf-ae6d-83a562a1a0ef",
        "colab": {
          "base_uri": "https://localhost:8080/",
          "height": 34
        }
      },
      "source": [
        "pixels_from_path(glob.glob('data1/train/cat/*')[5]).shape"
      ],
      "execution_count": 0,
      "outputs": [
        {
          "output_type": "execute_result",
          "data": {
            "text/plain": [
              "(64, 64, 3)"
            ]
          },
          "metadata": {
            "tags": []
          },
          "execution_count": 242
        }
      ]
    },
    {
      "cell_type": "code",
      "metadata": {
        "id": "boZgrKTbsErD",
        "colab_type": "code",
        "colab": {},
        "outputId": "80bc2d79-a7d6-4aa0-f105-f51fd4037d45"
      },
      "source": [
        "pixels_from_path(glob.glob('data1/train/hen/*')[5]).shape"
      ],
      "execution_count": 0,
      "outputs": [
        {
          "output_type": "execute_result",
          "data": {
            "text/plain": [
              "(64, 64, 3)"
            ]
          },
          "metadata": {
            "tags": []
          },
          "execution_count": 243
        }
      ]
    },
    {
      "cell_type": "code",
      "metadata": {
        "id": "JxwLiOt9sErL",
        "colab_type": "code",
        "colab": {},
        "outputId": "5c257ce2-8c78-443e-ef45-9501ef3f9798"
      },
      "source": [
        "pixels_from_path(glob.glob('data1/train/cow/*')[5]).shape"
      ],
      "execution_count": 0,
      "outputs": [
        {
          "output_type": "execute_result",
          "data": {
            "text/plain": [
              "(64, 64, 3)"
            ]
          },
          "metadata": {
            "tags": []
          },
          "execution_count": 244
        }
      ]
    },
    {
      "cell_type": "code",
      "metadata": {
        "colab_type": "code",
        "id": "g-5aul478F8P",
        "outputId": "4742b850-a02e-4f85-a9e2-073435927b95",
        "colab": {
          "base_uri": "https://localhost:8080/",
          "height": 34
        }
      },
      "source": [
        "SAMPLE_SIZE = 152\n",
        "#print(\"loading trainin cat images...\")\n",
        "#cat_train_set = np.asarray([pixels_from_path(cat) for cat in glob.glob('/home/apiiit-rkv/Desktop/tot/tottrain/horse/*')[:SAMPLE_SIZE]])\n",
        "print(\"loading training cat images...\")\n",
        "cat_train_set = np.asarray([pixels_from_path(cat) for cat in glob.glob('data1/train/cat/*')[:SAMPLE_SIZE]])"
      ],
      "execution_count": 0,
      "outputs": [
        {
          "output_type": "stream",
          "text": [
            "loading training cat images...\n"
          ],
          "name": "stdout"
        }
      ]
    },
    {
      "cell_type": "code",
      "metadata": {
        "id": "OZpG0h1UsErZ",
        "colab_type": "code",
        "colab": {},
        "outputId": "25068df7-4de2-4107-a91e-ee2aa1980e24"
      },
      "source": [
        "SAMPLE_SIZE = 152\n",
        "#print(\"loading trainin cat images...\")\n",
        "#cat_train_set = np.asarray([pixels_from_path(cat) for cat in glob.glob('/home/apiiit-rkv/Desktop/tot/tottrain/horse/*')[:SAMPLE_SIZE]])\n",
        "print(\"loading training hen images...\")\n",
        "hen_train_set = np.asarray([pixels_from_path(hen) for hen in glob.glob('data1/train/hen/*')[:SAMPLE_SIZE]])"
      ],
      "execution_count": 0,
      "outputs": [
        {
          "output_type": "stream",
          "text": [
            "loading training hen images...\n"
          ],
          "name": "stdout"
        }
      ]
    },
    {
      "cell_type": "code",
      "metadata": {
        "id": "on-1XUxJsErh",
        "colab_type": "code",
        "colab": {},
        "outputId": "c9af736c-c570-43c5-edae-09fd59c6a125"
      },
      "source": [
        "SAMPLE_SIZE = 152\n",
        "#print(\"loading trainin cat images...\")\n",
        "#cat_train_set = np.asarray([pixels_from_path(cat) for cat in glob.glob('/home/apiiit-rkv/Desktop/tot/tottrain/horse/*')[:SAMPLE_SIZE]])\n",
        "print(\"loading training cow images...\")\n",
        "cow_train_set = np.asarray([pixels_from_path(cow) for cow in glob.glob('data1/train/cow/*')[:SAMPLE_SIZE]])"
      ],
      "execution_count": 0,
      "outputs": [
        {
          "output_type": "stream",
          "text": [
            "loading training cow images...\n"
          ],
          "name": "stdout"
        }
      ]
    },
    {
      "cell_type": "code",
      "metadata": {
        "colab_type": "code",
        "id": "QCjFnDFU8F3h",
        "outputId": "280e6fbc-5b4e-43b6-96e8-fbf38fe22b23",
        "colab": {
          "base_uri": "https://localhost:8080/",
          "height": 34
        }
      },
      "source": [
        "valid_size = 38\n",
        "print(\"loading validation cat images...\")\n",
        "cat_valid_set = np.asarray([pixels_from_path(cat) for cat in glob.glob('data1/validation/cat/*')[-valid_size:]])\n"
      ],
      "execution_count": 0,
      "outputs": [
        {
          "output_type": "stream",
          "text": [
            "loading validation cat images...\n"
          ],
          "name": "stdout"
        }
      ]
    },
    {
      "cell_type": "code",
      "metadata": {
        "id": "Ia13tLmIsErq",
        "colab_type": "code",
        "colab": {},
        "outputId": "809b7bb7-70b1-4d69-87dd-c957d630f924"
      },
      "source": [
        "valid_size = 38\n",
        "print(\"loading validation hen images...\")\n",
        "hen_valid_set = np.asarray([pixels_from_path(hen) for hen in glob.glob('data1/validation/hen/*')[-valid_size:]])"
      ],
      "execution_count": 0,
      "outputs": [
        {
          "output_type": "stream",
          "text": [
            "loading validation hen images...\n"
          ],
          "name": "stdout"
        }
      ]
    },
    {
      "cell_type": "code",
      "metadata": {
        "id": "1nZOsBjWsEru",
        "colab_type": "code",
        "colab": {},
        "outputId": "8d06ac13-5c15-41ee-b30a-9b2ab7b772dd"
      },
      "source": [
        "valid_size = 38\n",
        "print(\"loading validation cow images...\")\n",
        "cow_valid_set = np.asarray([pixels_from_path(cow) for cow in glob.glob('data1/validation/cow/*')[-valid_size:]])"
      ],
      "execution_count": 0,
      "outputs": [
        {
          "output_type": "stream",
          "text": [
            "loading validation cow images...\n"
          ],
          "name": "stdout"
        }
      ]
    },
    {
      "cell_type": "code",
      "metadata": {
        "colab_type": "code",
        "id": "2BUFgaIl9q9T",
        "outputId": "e90b5de8-2343-49de-8160-8e2eed92004a",
        "colab": {
          "base_uri": "https://localhost:8080/",
          "height": 34
        }
      },
      "source": [
        "x_train = np.concatenate([cat_train_set, hen_train_set, cow_train_set])\n",
        "labels_train = np.asarray([1 for _ in range(SAMPLE_SIZE)]+[0 for _ in range(SAMPLE_SIZE)]+[0 for _ in range(SAMPLE_SIZE)])\n",
        "#labels_train = np.asarray([1 for _ in range(SAMPLE_SIZE)])\n",
        "print(labels_train.shape)"
      ],
      "execution_count": 0,
      "outputs": [
        {
          "output_type": "stream",
          "text": [
            "(456,)\n"
          ],
          "name": "stdout"
        }
      ]
    },
    {
      "cell_type": "code",
      "metadata": {
        "colab_type": "code",
        "id": "FHiOszxX9q5U",
        "outputId": "de352e7e-1a20-45da-fb21-715e3efdcd5d",
        "colab": {
          "base_uri": "https://localhost:8080/",
          "height": 34
        }
      },
      "source": [
        "x_valid = np.concatenate([cat_valid_set, hen_valid_set, cow_valid_set])\n",
        "labels_valid = np.asarray([1 for _ in range(valid_size)]+[0 for _ in range(valid_size)]+[0 for _ in range(valid_size)])\n",
        "print(labels_valid.shape)"
      ],
      "execution_count": 0,
      "outputs": [
        {
          "output_type": "stream",
          "text": [
            "(114,)\n"
          ],
          "name": "stdout"
        }
      ]
    },
    {
      "cell_type": "code",
      "metadata": {
        "id": "8y0S176osEr8",
        "colab_type": "code",
        "colab": {},
        "outputId": "b04bd5d7-c327-4959-e0c7-1ccbea34d371"
      },
      "source": [
        "x_valid.shape"
      ],
      "execution_count": 0,
      "outputs": [
        {
          "output_type": "execute_result",
          "data": {
            "text/plain": [
              "(114, 64, 64, 3)"
            ]
          },
          "metadata": {
            "tags": []
          },
          "execution_count": 253
        }
      ]
    },
    {
      "cell_type": "code",
      "metadata": {
        "colab_type": "code",
        "id": "9pRLKGYc9q1T",
        "outputId": "447e6aea-9b10-4f01-e459-914219702336",
        "colab": {
          "base_uri": "https://localhost:8080/",
          "height": 34
        }
      },
      "source": [
        "x_train.shape"
      ],
      "execution_count": 0,
      "outputs": [
        {
          "output_type": "execute_result",
          "data": {
            "text/plain": [
              "(456, 64, 64, 3)"
            ]
          },
          "metadata": {
            "tags": []
          },
          "execution_count": 254
        }
      ]
    },
    {
      "cell_type": "code",
      "metadata": {
        "colab_type": "code",
        "id": "u3s4B0_79qyR",
        "outputId": "2eb51b49-a449-46a9-9f9d-d651037dbf09",
        "colab": {
          "base_uri": "https://localhost:8080/",
          "height": 34
        }
      },
      "source": [
        "labels_train.shape"
      ],
      "execution_count": 0,
      "outputs": [
        {
          "output_type": "execute_result",
          "data": {
            "text/plain": [
              "(456,)"
            ]
          },
          "metadata": {
            "tags": []
          },
          "execution_count": 255
        }
      ]
    },
    {
      "cell_type": "code",
      "metadata": {
        "colab_type": "code",
        "id": "T8dDf99e-_pa",
        "outputId": "4949c336-9b9e-492f-d8d2-02c9b352e571",
        "colab": {
          "base_uri": "https://localhost:8080/",
          "height": 34
        }
      },
      "source": [
        "labels_valid.shape"
      ],
      "execution_count": 0,
      "outputs": [
        {
          "output_type": "execute_result",
          "data": {
            "text/plain": [
              "(114,)"
            ]
          },
          "metadata": {
            "tags": []
          },
          "execution_count": 256
        }
      ]
    },
    {
      "cell_type": "code",
      "metadata": {
        "id": "hncMajLXsEsO",
        "colab_type": "code",
        "colab": {}
      },
      "source": [
        "# 10% of the data will automatically be used for validation\n",
        "validation_size = 0.1\n",
        "img_size = IMG_SIZE # resize images to be 374x500 (most common shape)\n",
        "num_channels = 3 # RGB\n",
        "sample_size = 8192 #We'll use 8192 pictures (2**13)"
      ],
      "execution_count": 0,
      "outputs": []
    },
    {
      "cell_type": "code",
      "metadata": {
        "colab_type": "code",
        "id": "6Po00XFQ-_sw",
        "colab": {}
      },
      "source": [
        "from tensorflow import keras\n",
        "from tensorflow.keras import layers\n",
        "\n",
        "total_pixels = img_size[0] *img_size[1] * 3\n",
        "fc_size = 512\n",
        "\n",
        "inputs = keras.Input(shape=(img_size[1], img_size[0],3), name='ani_image')\n",
        "x = layers.Flatten(name = 'flattened_img')(inputs) #turn image to vector.\n",
        "\n",
        "x = layers.Dense(fc_size, activation='relu', name='first_layer')(x)\n",
        "outputs = layers.Dense(1, activation='sigmoid', name='class')(x)\n",
        "\n",
        "model = keras.Model(inputs=inputs, outputs=outputs)"
      ],
      "execution_count": 0,
      "outputs": []
    },
    {
      "cell_type": "code",
      "metadata": {
        "colab_type": "code",
        "id": "ARL0XCkG-_wU",
        "colab": {}
      },
      "source": [
        "from tensorflow.keras.models import Sequential\n",
        "from tensorflow.keras.layers import Conv2D, MaxPooling2D, Flatten, Dense, Dropout, Activation\n",
        "from tensorflow.keras.preprocessing.image import ImageDataGenerator\n",
        "#model2=Sequential()\n",
        "input_shape=(64,64,3)\n",
        "import tensorflow as tf\n",
        "model2 = tf.keras.models.Sequential([\n",
        "    tf.keras.layers.Conv2D(16, (3,3), activation='relu', input_shape=input_shape),\n",
        "    tf.keras.layers.MaxPooling2D(2,2),\n",
        "    tf.keras.layers.Conv2D(32, (3,3), activation='relu'),\n",
        "    tf.keras.layers.MaxPooling2D(2,2), \n",
        "    tf.keras.layers.Conv2D(64, (3,3), activation='relu'), \n",
        "    tf.keras.layers.MaxPooling2D(2,2),\n",
        "    tf.keras.layers.Conv2D(128, (3,3), activation='relu'),\n",
        "    tf.keras.layers.MaxPooling2D(2,2)\n",
        "    # Flatten the results to feed into a DNN\n",
        "    #tf.keras.layers.Flatten(), \n",
        "    # 512 neuron hidden layer\n",
        "    #tf.keras.layers.Dense(512, activation='relu'), \n",
        "    # Only 1 output neuron. It will contain a value from 0-1 where 0 for 1 class ('cats') and 1 for the other ('dogs')\n",
        "    #tf.keras.layers.Dense(1, activation='sigmoid')  \n",
        "])\n"
      ],
      "execution_count": 0,
      "outputs": []
    },
    {
      "cell_type": "code",
      "metadata": {
        "colab_type": "code",
        "id": "bl4SxrmS-_oQ",
        "colab": {},
        "outputId": "c02cfbdf-5614-48f0-cc97-8b960c7f30ea"
      },
      "source": [
        "shape_counts = defaultdict(int)\n",
        "for i, cat in enumerate(glob.glob('data1/train1/dog/*')[:1000]):\n",
        "    if i%100==0:\n",
        "        print(i)\n",
        "    img_shape = pixels_from_path(cat).shape\n",
        "    shape_counts[str(img_shape)]= shape_counts[str(img_shape)]+ 1\n",
        "    \n",
        "shape_counts = defaultdict(int)\n",
        "for i, cat in enumerate(glob.glob('data1/train1/hen/*')[:1000]):\n",
        "    if i%100==0:\n",
        "        print(i)\n",
        "    img_shape = pixels_from_path(cat).shape\n",
        "    shape_counts[str(img_shape)]= shape_counts[str(img_shape)]+ 1\n",
        "    \n",
        "shape_counts = defaultdict(int)\n",
        "for i, cat in enumerate(glob.glob('data1/train1/cow/*')[:1000]):\n",
        "    if i%100==0:\n",
        "        print(i)\n",
        "    img_shape = pixels_from_path(cat).shape\n",
        "    shape_counts[str(img_shape)]= shape_counts[str(img_shape)]+ 1"
      ],
      "execution_count": 0,
      "outputs": [
        {
          "output_type": "stream",
          "text": [
            "0\n",
            "100\n",
            "0\n",
            "100\n",
            "0\n",
            "100\n"
          ],
          "name": "stdout"
        }
      ]
    },
    {
      "cell_type": "code",
      "metadata": {
        "colab_type": "code",
        "id": "W_Uv2g4r-_m4",
        "colab": {}
      },
      "source": [
        "shape_items = list(shape_counts.items())\n",
        "shape_items.sort(key = lambda x: x[1])\n",
        "shape_items.reverse()"
      ],
      "execution_count": 0,
      "outputs": []
    },
    {
      "cell_type": "code",
      "metadata": {
        "colab_type": "code",
        "id": "6bSPHBzT-_kU",
        "colab": {}
      },
      "source": [
        "validation_size = 0.1\n",
        "img_size = IMG_SIZE # resize images to be 374x500 (most common shape)\n",
        "num_channels = 3 # RGB\n",
        "sample_size = 8192 "
      ],
      "execution_count": 0,
      "outputs": []
    },
    {
      "cell_type": "code",
      "metadata": {
        "colab_type": "code",
        "id": "u3U0vuod9qvm",
        "outputId": "ee76c516-7e31-40cc-dd90-c48626bf2c77",
        "colab": {
          "base_uri": "https://localhost:8080/",
          "height": 34
        }
      },
      "source": [
        "len(glob.glob('data1/train1/dog/*'))"
      ],
      "execution_count": 0,
      "outputs": [
        {
          "output_type": "execute_result",
          "data": {
            "text/plain": [
              "152"
            ]
          },
          "metadata": {
            "tags": []
          },
          "execution_count": 263
        }
      ]
    },
    {
      "cell_type": "code",
      "metadata": {
        "id": "mrcIUJrEsEsn",
        "colab_type": "code",
        "colab": {},
        "outputId": "02f84ea4-bae2-41a7-d4c4-bdac77f35bf1"
      },
      "source": [
        "len(glob.glob('data1/train1/hen/*'))"
      ],
      "execution_count": 0,
      "outputs": [
        {
          "output_type": "execute_result",
          "data": {
            "text/plain": [
              "152"
            ]
          },
          "metadata": {
            "tags": []
          },
          "execution_count": 264
        }
      ]
    },
    {
      "cell_type": "code",
      "metadata": {
        "id": "8AAjt39csEsp",
        "colab_type": "code",
        "colab": {},
        "outputId": "f7e3f46b-38e0-48b2-c50b-869b8649bd8b"
      },
      "source": [
        "len(glob.glob('data1/train1/cow/*'))"
      ],
      "execution_count": 0,
      "outputs": [
        {
          "output_type": "execute_result",
          "data": {
            "text/plain": [
              "152"
            ]
          },
          "metadata": {
            "tags": []
          },
          "execution_count": 265
        }
      ]
    },
    {
      "cell_type": "code",
      "metadata": {
        "colab_type": "code",
        "id": "MQDNNKZw8F1-",
        "outputId": "4523db94-c724-4010-a388-623e9dccbaf2",
        "colab": {
          "base_uri": "https://localhost:8080/",
          "height": 34
        }
      },
      "source": [
        "pixels_from_path(glob.glob('data1/train1/dog/*')[5]).shape"
      ],
      "execution_count": 0,
      "outputs": [
        {
          "output_type": "execute_result",
          "data": {
            "text/plain": [
              "(64, 64, 3)"
            ]
          },
          "metadata": {
            "tags": []
          },
          "execution_count": 266
        }
      ]
    },
    {
      "cell_type": "code",
      "metadata": {
        "id": "iFGPNt_MsEsx",
        "colab_type": "code",
        "colab": {},
        "outputId": "3362f61c-3edf-4862-c2ec-15e834231586"
      },
      "source": [
        "pixels_from_path(glob.glob('data1/train1/hen/*')[5]).shape"
      ],
      "execution_count": 0,
      "outputs": [
        {
          "output_type": "execute_result",
          "data": {
            "text/plain": [
              "(64, 64, 3)"
            ]
          },
          "metadata": {
            "tags": []
          },
          "execution_count": 267
        }
      ]
    },
    {
      "cell_type": "code",
      "metadata": {
        "id": "CkT6tCtesEsz",
        "colab_type": "code",
        "colab": {},
        "outputId": "127e7e31-6f10-4bc9-8fa7-9480e05ae45f"
      },
      "source": [
        "pixels_from_path(glob.glob('data1/train1/cow/*')[5]).shape"
      ],
      "execution_count": 0,
      "outputs": [
        {
          "output_type": "execute_result",
          "data": {
            "text/plain": [
              "(64, 64, 3)"
            ]
          },
          "metadata": {
            "tags": []
          },
          "execution_count": 268
        }
      ]
    },
    {
      "cell_type": "code",
      "metadata": {
        "colab_type": "code",
        "id": "XsoLwFe__hCV",
        "outputId": "b15fa069-ff82-4690-c9f5-89b81135de6d",
        "colab": {
          "base_uri": "https://localhost:8080/",
          "height": 34
        }
      },
      "source": [
        "SAMPLE_SIZE = 152\n",
        "#print(\"loading trainin cat images...\")\n",
        "#cat_train_set = np.asarray([pixels_from_path(cat) for cat in glob.glob('/home/apiiit-rkv/Desktop/tot/tottrain/horse/*')[:SAMPLE_SIZE]])\n",
        "print(\"loading training dog images...\")\n",
        "dog_train_set = np.asarray([pixels_from_path(dog) for dog in glob.glob('data1/train1/dog/*')[:SAMPLE_SIZE]])"
      ],
      "execution_count": 0,
      "outputs": [
        {
          "output_type": "stream",
          "text": [
            "loading training dog images...\n"
          ],
          "name": "stdout"
        }
      ]
    },
    {
      "cell_type": "code",
      "metadata": {
        "id": "xQVCp3GnsEs5",
        "colab_type": "code",
        "colab": {},
        "outputId": "64a5b1c2-fe7f-46a7-ffd1-56bf8a3ab31a"
      },
      "source": [
        "SAMPLE_SIZE = 152\n",
        "#print(\"loading trainin cat images...\")\n",
        "#cat_train_set = np.asarray([pixels_from_path(cat) for cat in glob.glob('/home/apiiit-rkv/Desktop/tot/tottrain/horse/*')[:SAMPLE_SIZE]])\n",
        "print(\"loading training hen images...\")\n",
        "hen_train_set = np.asarray([pixels_from_path(hen) for hen in glob.glob('data1/train1/hen/*')[:SAMPLE_SIZE]])"
      ],
      "execution_count": 0,
      "outputs": [
        {
          "output_type": "stream",
          "text": [
            "loading training hen images...\n"
          ],
          "name": "stdout"
        }
      ]
    },
    {
      "cell_type": "code",
      "metadata": {
        "id": "BBEHbRzvsEtI",
        "colab_type": "code",
        "colab": {},
        "outputId": "93c32894-171f-4d97-ad6f-6c768a1daab9"
      },
      "source": [
        "SAMPLE_SIZE = 152\n",
        "#print(\"loading trainin cat images...\")\n",
        "#cat_train_set = np.asarray([pixels_from_path(cat) for cat in glob.glob('/home/apiiit-rkv/Desktop/tot/tottrain/horse/*')[:SAMPLE_SIZE]])\n",
        "print(\"loading training cow images...\")\n",
        "cow_train_set = np.asarray([pixels_from_path(cow) for cow in glob.glob('data1/train1/cow/*')[:SAMPLE_SIZE]])"
      ],
      "execution_count": 0,
      "outputs": [
        {
          "output_type": "stream",
          "text": [
            "loading training cow images...\n"
          ],
          "name": "stdout"
        }
      ]
    },
    {
      "cell_type": "code",
      "metadata": {
        "colab_type": "code",
        "id": "eG33KJnh_g_T",
        "outputId": "d10a7f85-15e8-4a8d-9ec3-36a1345b5852",
        "colab": {
          "base_uri": "https://localhost:8080/",
          "height": 34
        }
      },
      "source": [
        "valid_size = 38\n",
        "print(\"loading validation dog images...\")\n",
        "dog_valid_set = np.asarray([pixels_from_path(dog) for dog in glob.glob('data1/validation1/dog/*')[-valid_size:]])\n"
      ],
      "execution_count": 0,
      "outputs": [
        {
          "output_type": "stream",
          "text": [
            "loading validation dog images...\n"
          ],
          "name": "stdout"
        }
      ]
    },
    {
      "cell_type": "code",
      "metadata": {
        "id": "ujEzYB6HsEtO",
        "colab_type": "code",
        "colab": {},
        "outputId": "0068010c-adfa-4385-a567-b8ed1ed405e2"
      },
      "source": [
        "valid_size = 38\n",
        "print(\"loading validation hen images...\")\n",
        "hen_valid_set = np.asarray([pixels_from_path(hen) for hen in glob.glob('data1/validation1/hen/*')[-valid_size:]])\n"
      ],
      "execution_count": 0,
      "outputs": [
        {
          "output_type": "stream",
          "text": [
            "loading validation hen images...\n"
          ],
          "name": "stdout"
        }
      ]
    },
    {
      "cell_type": "code",
      "metadata": {
        "id": "gEFtiWFGsEtR",
        "colab_type": "code",
        "colab": {},
        "outputId": "cce8d06d-12c2-4b93-b5e5-b387b44f1663"
      },
      "source": [
        "valid_size = 38\n",
        "print(\"loading validation cow images...\")\n",
        "cow_valid_set = np.asarray([pixels_from_path(cow) for cow in glob.glob('data1/validation1/cow/*')[-valid_size:]])\n"
      ],
      "execution_count": 0,
      "outputs": [
        {
          "output_type": "stream",
          "text": [
            "loading validation cow images...\n"
          ],
          "name": "stdout"
        }
      ]
    },
    {
      "cell_type": "code",
      "metadata": {
        "colab_type": "code",
        "id": "fLeOELrD_g9I",
        "outputId": "209ccd4e-3b26-4751-db75-2f483026608d",
        "colab": {
          "base_uri": "https://localhost:8080/",
          "height": 102
        }
      },
      "source": [
        "x_train1 = np.concatenate([dog_train_set, hen_train_set, cow_train_set])\n",
        "labels_train1 = np.asarray([1 for _ in range(SAMPLE_SIZE)]+[0 for _ in range(SAMPLE_SIZE)]+[0 for _ in range(SAMPLE_SIZE)])\n",
        "#labels_train1 = np.asarray([0 for _ in range(SAMPLE_SIZE)])\n",
        "print(labels_train1)"
      ],
      "execution_count": 0,
      "outputs": [
        {
          "output_type": "stream",
          "text": [
            "[1 1 1 1 1 1 1 1 1 1 1 1 1 1 1 1 1 1 1 1 1 1 1 1 1 1 1 1 1 1 1 1 1 1 1 1 1\n",
            " 1 1 1 1 1 1 1 1 1 1 1 1 1 1 1 1 1 1 1 1 1 1 1 1 1 1 1 1 1 1 1 1 1 1 1 1 1\n",
            " 1 1 1 1 1 1 1 1 1 1 1 1 1 1 1 1 1 1 1 1 1 1 1 1 1 1 1 1 1 1 1 1 1 1 1 1 1\n",
            " 1 1 1 1 1 1 1 1 1 1 1 1 1 1 1 1 1 1 1 1 1 1 1 1 1 1 1 1 1 1 1 1 1 1 1 1 1\n",
            " 1 1 1 1 0 0 0 0 0 0 0 0 0 0 0 0 0 0 0 0 0 0 0 0 0 0 0 0 0 0 0 0 0 0 0 0 0\n",
            " 0 0 0 0 0 0 0 0 0 0 0 0 0 0 0 0 0 0 0 0 0 0 0 0 0 0 0 0 0 0 0 0 0 0 0 0 0\n",
            " 0 0 0 0 0 0 0 0 0 0 0 0 0 0 0 0 0 0 0 0 0 0 0 0 0 0 0 0 0 0 0 0 0 0 0 0 0\n",
            " 0 0 0 0 0 0 0 0 0 0 0 0 0 0 0 0 0 0 0 0 0 0 0 0 0 0 0 0 0 0 0 0 0 0 0 0 0\n",
            " 0 0 0 0 0 0 0 0 0 0 0 0 0 0 0 0 0 0 0 0 0 0 0 0 0 0 0 0 0 0 0 0 0 0 0 0 0\n",
            " 0 0 0 0 0 0 0 0 0 0 0 0 0 0 0 0 0 0 0 0 0 0 0 0 0 0 0 0 0 0 0 0 0 0 0 0 0\n",
            " 0 0 0 0 0 0 0 0 0 0 0 0 0 0 0 0 0 0 0 0 0 0 0 0 0 0 0 0 0 0 0 0 0 0 0 0 0\n",
            " 0 0 0 0 0 0 0 0 0 0 0 0 0 0 0 0 0 0 0 0 0 0 0 0 0 0 0 0 0 0 0 0 0 0 0 0 0\n",
            " 0 0 0 0 0 0 0 0 0 0 0 0]\n"
          ],
          "name": "stdout"
        }
      ]
    },
    {
      "cell_type": "code",
      "metadata": {
        "id": "BcDTeNdqsEtc",
        "colab_type": "code",
        "colab": {},
        "outputId": "01e666e8-6b19-4c71-9519-8ee6e234d6fa"
      },
      "source": [
        "x_train1.shape"
      ],
      "execution_count": 0,
      "outputs": [
        {
          "output_type": "execute_result",
          "data": {
            "text/plain": [
              "(456, 64, 64, 3)"
            ]
          },
          "metadata": {
            "tags": []
          },
          "execution_count": 276
        }
      ]
    },
    {
      "cell_type": "code",
      "metadata": {
        "colab_type": "code",
        "id": "iA_Sn-On_g7x",
        "outputId": "78cbe6d1-c816-4a4e-8917-2862eab3d590",
        "colab": {
          "base_uri": "https://localhost:8080/",
          "height": 68
        }
      },
      "source": [
        "x_valid1 = np.concatenate([ dog_valid_set, hen_valid_set, cow_valid_set])\n",
        "labels_valid1 = np.asarray([1 for _ in range(valid_size)]+[0 for _ in range(valid_size)]+[0 for _ in range(valid_size)])\n",
        "print(labels_valid1.shape)\n",
        "print(labels_valid1)"
      ],
      "execution_count": 0,
      "outputs": [
        {
          "output_type": "stream",
          "text": [
            "(114,)\n",
            "[1 1 1 1 1 1 1 1 1 1 1 1 1 1 1 1 1 1 1 1 1 1 1 1 1 1 1 1 1 1 1 1 1 1 1 1 1\n",
            " 1 0 0 0 0 0 0 0 0 0 0 0 0 0 0 0 0 0 0 0 0 0 0 0 0 0 0 0 0 0 0 0 0 0 0 0 0\n",
            " 0 0 0 0 0 0 0 0 0 0 0 0 0 0 0 0 0 0 0 0 0 0 0 0 0 0 0 0 0 0 0 0 0 0 0 0 0\n",
            " 0 0 0]\n"
          ],
          "name": "stdout"
        }
      ]
    },
    {
      "cell_type": "code",
      "metadata": {
        "id": "GBqRtce7sEtl",
        "colab_type": "code",
        "colab": {},
        "outputId": "dc72e520-9453-4358-d366-29d657241224"
      },
      "source": [
        "x_valid.shape"
      ],
      "execution_count": 0,
      "outputs": [
        {
          "output_type": "execute_result",
          "data": {
            "text/plain": [
              "(114, 64, 64, 3)"
            ]
          },
          "metadata": {
            "tags": []
          },
          "execution_count": 278
        }
      ]
    },
    {
      "cell_type": "code",
      "metadata": {
        "colab_type": "code",
        "id": "ZpWlNxoV_g4y",
        "colab": {}
      },
      "source": [
        "from tensorflow.keras.models import Sequential\n",
        "from tensorflow.keras.layers import Conv2D, MaxPooling2D, Flatten, Dense, Dropout, Activation\n",
        "from tensorflow.keras.preprocessing.image import ImageDataGenerator\n",
        "#model1=Sequential()\n",
        "import tensorflow as tf\n",
        "input_shape=(64,64,3)\n",
        "model1 = tf.keras.models.Sequential([\n",
        "    tf.keras.layers.Conv2D(16, (3,3), activation='relu', input_shape=input_shape),\n",
        "    tf.keras.layers.MaxPooling2D(2,2),\n",
        "    tf.keras.layers.Conv2D(32, (3,3), activation='relu'),\n",
        "    tf.keras.layers.MaxPooling2D(2,2), \n",
        "    tf.keras.layers.Conv2D(64, (3,3), activation='relu'), \n",
        "    tf.keras.layers.MaxPooling2D(2,2),\n",
        "    tf.keras.layers.Conv2D(128, (3,3), activation='relu'),\n",
        "    tf.keras.layers.MaxPooling2D(2,2)\n",
        "])\n"
      ],
      "execution_count": 0,
      "outputs": []
    },
    {
      "cell_type": "code",
      "metadata": {
        "colab_type": "code",
        "id": "dM-Z_bUd_wtC",
        "outputId": "e50bd794-c334-4603-803e-014a8ff18167",
        "colab": {
          "base_uri": "https://localhost:8080/",
          "height": 34
        }
      },
      "source": [
        "import keras\n",
        "print(keras.__version__)\n",
        "from tensorflow.keras.layers import concatenate\n",
        "from tensorflow.keras.models import Model, Sequential\n",
        "from tensorflow.keras.layers import Dense, Input"
      ],
      "execution_count": 0,
      "outputs": [
        {
          "output_type": "stream",
          "text": [
            "2.3.1\n"
          ],
          "name": "stdout"
        }
      ]
    },
    {
      "cell_type": "code",
      "metadata": {
        "colab_type": "code",
        "id": "OPrI88WA_wrC",
        "colab": {}
      },
      "source": [
        "model_concat = concatenate([model1.output, model2.output], axis=-1)"
      ],
      "execution_count": 0,
      "outputs": []
    },
    {
      "cell_type": "code",
      "metadata": {
        "colab_type": "code",
        "id": "ilfO55e7_wnf",
        "colab": {}
      },
      "source": [
        "model_concat= Flatten()(model_concat)\n",
        "model_concat = Dense(2, activation='softmax')(model_concat)\n",
        "model = Model(inputs=[model1.input, model2.input], outputs=model_concat)"
      ],
      "execution_count": 0,
      "outputs": []
    },
    {
      "cell_type": "code",
      "metadata": {
        "colab_type": "code",
        "id": "k_w3mSvH_wlK",
        "colab": {}
      },
      "source": [
        "model.compile(loss='sparse_categorical_crossentropy', optimizer='adam', metrics=['accuracy'])"
      ],
      "execution_count": 0,
      "outputs": []
    },
    {
      "cell_type": "code",
      "metadata": {
        "colab_type": "code",
        "id": "FjNG4Rk6_g3S",
        "outputId": "cf75f22e-f8cd-45b5-82f3-a9afd9299cdb",
        "colab": {
          "base_uri": "https://localhost:8080/",
          "height": 748
        }
      },
      "source": [
        "model.summary()"
      ],
      "execution_count": 0,
      "outputs": [
        {
          "output_type": "stream",
          "text": [
            "Model: \"model_8\"\n",
            "__________________________________________________________________________________________________\n",
            "Layer (type)                    Output Shape         Param #     Connected to                     \n",
            "==================================================================================================\n",
            "conv2d_36_input (InputLayer)    [(None, 64, 64, 3)]  0                                            \n",
            "__________________________________________________________________________________________________\n",
            "conv2d_32_input (InputLayer)    [(None, 64, 64, 3)]  0                                            \n",
            "__________________________________________________________________________________________________\n",
            "conv2d_36 (Conv2D)              (None, 62, 62, 16)   448         conv2d_36_input[0][0]            \n",
            "__________________________________________________________________________________________________\n",
            "conv2d_32 (Conv2D)              (None, 62, 62, 16)   448         conv2d_32_input[0][0]            \n",
            "__________________________________________________________________________________________________\n",
            "max_pooling2d_36 (MaxPooling2D) (None, 31, 31, 16)   0           conv2d_36[0][0]                  \n",
            "__________________________________________________________________________________________________\n",
            "max_pooling2d_32 (MaxPooling2D) (None, 31, 31, 16)   0           conv2d_32[0][0]                  \n",
            "__________________________________________________________________________________________________\n",
            "conv2d_37 (Conv2D)              (None, 29, 29, 32)   4640        max_pooling2d_36[0][0]           \n",
            "__________________________________________________________________________________________________\n",
            "conv2d_33 (Conv2D)              (None, 29, 29, 32)   4640        max_pooling2d_32[0][0]           \n",
            "__________________________________________________________________________________________________\n",
            "max_pooling2d_37 (MaxPooling2D) (None, 14, 14, 32)   0           conv2d_37[0][0]                  \n",
            "__________________________________________________________________________________________________\n",
            "max_pooling2d_33 (MaxPooling2D) (None, 14, 14, 32)   0           conv2d_33[0][0]                  \n",
            "__________________________________________________________________________________________________\n",
            "conv2d_38 (Conv2D)              (None, 12, 12, 64)   18496       max_pooling2d_37[0][0]           \n",
            "__________________________________________________________________________________________________\n",
            "conv2d_34 (Conv2D)              (None, 12, 12, 64)   18496       max_pooling2d_33[0][0]           \n",
            "__________________________________________________________________________________________________\n",
            "max_pooling2d_38 (MaxPooling2D) (None, 6, 6, 64)     0           conv2d_38[0][0]                  \n",
            "__________________________________________________________________________________________________\n",
            "max_pooling2d_34 (MaxPooling2D) (None, 6, 6, 64)     0           conv2d_34[0][0]                  \n",
            "__________________________________________________________________________________________________\n",
            "conv2d_39 (Conv2D)              (None, 4, 4, 128)    73856       max_pooling2d_38[0][0]           \n",
            "__________________________________________________________________________________________________\n",
            "conv2d_35 (Conv2D)              (None, 4, 4, 128)    73856       max_pooling2d_34[0][0]           \n",
            "__________________________________________________________________________________________________\n",
            "max_pooling2d_39 (MaxPooling2D) (None, 2, 2, 128)    0           conv2d_39[0][0]                  \n",
            "__________________________________________________________________________________________________\n",
            "max_pooling2d_35 (MaxPooling2D) (None, 2, 2, 128)    0           conv2d_35[0][0]                  \n",
            "__________________________________________________________________________________________________\n",
            "concatenate_4 (Concatenate)     (None, 2, 2, 256)    0           max_pooling2d_39[0][0]           \n",
            "                                                                 max_pooling2d_35[0][0]           \n",
            "__________________________________________________________________________________________________\n",
            "flatten_4 (Flatten)             (None, 1024)         0           concatenate_4[0][0]              \n",
            "__________________________________________________________________________________________________\n",
            "dense_4 (Dense)                 (None, 2)            2050        flatten_4[0][0]                  \n",
            "==================================================================================================\n",
            "Total params: 196,930\n",
            "Trainable params: 196,930\n",
            "Non-trainable params: 0\n",
            "__________________________________________________________________________________________________\n"
          ],
          "name": "stdout"
        }
      ]
    },
    {
      "cell_type": "code",
      "metadata": {
        "colab_type": "code",
        "id": "CqcQh6m3_gz3",
        "outputId": "73ca1040-9311-4a2e-e0ce-41feda8b34f0",
        "colab": {
          "base_uri": "https://localhost:8080/",
          "height": 255
        }
      },
      "source": [
        "print(labels_train)\n",
        "print(labels_valid)\n",
        "print(labels_train1)\n",
        "print(labels_valid1)\n",
        "print(len(labels_train))\n",
        "print(len(labels_valid))\n",
        "print(len(labels_train1))\n",
        "print(len(labels_valid1))"
      ],
      "execution_count": 0,
      "outputs": [
        {
          "output_type": "stream",
          "text": [
            "[1 1 1 1 1 1 1 1 1 1 1 1 1 1 1 1 1 1 1 1 1 1 1 1 1 1 1 1 1 1 1 1 1 1 1 1 1\n",
            " 1 1 1 1 1 1 1 1 1 1 1 1 1 1 1 1 1 1 1 1 1 1 1 1 1 1 1 1 1 1 1 1 1 1 1 1 1\n",
            " 1 1 1 1 1 1 1 1 1 1 1 1 1 1 1 1 1 1 1 1 1 1 1 1 1 1 1 1 1 1 1 1 1 1 1 1 1\n",
            " 1 1 1 1 1 1 1 1 1 1 1 1 1 1 1 1 1 1 1 1 1 1 1 1 1 1 1 1 1 1 1 1 1 1 1 1 1\n",
            " 1 1 1 1 0 0 0 0 0 0 0 0 0 0 0 0 0 0 0 0 0 0 0 0 0 0 0 0 0 0 0 0 0 0 0 0 0\n",
            " 0 0 0 0 0 0 0 0 0 0 0 0 0 0 0 0 0 0 0 0 0 0 0 0 0 0 0 0 0 0 0 0 0 0 0 0 0\n",
            " 0 0 0 0 0 0 0 0 0 0 0 0 0 0 0 0 0 0 0 0 0 0 0 0 0 0 0 0 0 0 0 0 0 0 0 0 0\n",
            " 0 0 0 0 0 0 0 0 0 0 0 0 0 0 0 0 0 0 0 0 0 0 0 0 0 0 0 0 0 0 0 0 0 0 0 0 0\n",
            " 0 0 0 0 0 0 0 0 0 0 0 0 0 0 0 0 0 0 0 0 0 0 0 0 0 0 0 0 0 0 0 0 0 0 0 0 0\n",
            " 0 0 0 0 0 0 0 0 0 0 0 0 0 0 0 0 0 0 0 0 0 0 0 0 0 0 0 0 0 0 0 0 0 0 0 0 0\n",
            " 0 0 0 0 0 0 0 0 0 0 0 0 0 0 0 0 0 0 0 0 0 0 0 0 0 0 0 0 0 0 0 0 0 0 0 0 0\n",
            " 0 0 0 0 0 0 0 0 0 0 0 0 0 0 0 0 0 0 0 0 0 0 0 0 0 0 0 0 0 0 0 0 0 0 0 0 0\n",
            " 0 0 0 0 0 0 0 0 0 0 0 0]\n",
            "[1 1 1 1 1 1 1 1 1 1 1 1 1 1 1 1 1 1 1 1 1 1 1 1 1 1 1 1 1 1 1 1 1 1 1 1 1\n",
            " 1 0 0 0 0 0 0 0 0 0 0 0 0 0 0 0 0 0 0 0 0 0 0 0 0 0 0 0 0 0 0 0 0 0 0 0 0\n",
            " 0 0 0 0 0 0 0 0 0 0 0 0 0 0 0 0 0 0 0 0 0 0 0 0 0 0 0 0 0 0 0 0 0 0 0 0 0\n",
            " 0 0 0]\n",
            "[1 1 1 1 1 1 1 1 1 1 1 1 1 1 1 1 1 1 1 1 1 1 1 1 1 1 1 1 1 1 1 1 1 1 1 1 1\n",
            " 1 1 1 1 1 1 1 1 1 1 1 1 1 1 1 1 1 1 1 1 1 1 1 1 1 1 1 1 1 1 1 1 1 1 1 1 1\n",
            " 1 1 1 1 1 1 1 1 1 1 1 1 1 1 1 1 1 1 1 1 1 1 1 1 1 1 1 1 1 1 1 1 1 1 1 1 1\n",
            " 1 1 1 1 1 1 1 1 1 1 1 1 1 1 1 1 1 1 1 1 1 1 1 1 1 1 1 1 1 1 1 1 1 1 1 1 1\n",
            " 1 1 1 1 0 0 0 0 0 0 0 0 0 0 0 0 0 0 0 0 0 0 0 0 0 0 0 0 0 0 0 0 0 0 0 0 0\n",
            " 0 0 0 0 0 0 0 0 0 0 0 0 0 0 0 0 0 0 0 0 0 0 0 0 0 0 0 0 0 0 0 0 0 0 0 0 0\n",
            " 0 0 0 0 0 0 0 0 0 0 0 0 0 0 0 0 0 0 0 0 0 0 0 0 0 0 0 0 0 0 0 0 0 0 0 0 0\n",
            " 0 0 0 0 0 0 0 0 0 0 0 0 0 0 0 0 0 0 0 0 0 0 0 0 0 0 0 0 0 0 0 0 0 0 0 0 0\n",
            " 0 0 0 0 0 0 0 0 0 0 0 0 0 0 0 0 0 0 0 0 0 0 0 0 0 0 0 0 0 0 0 0 0 0 0 0 0\n",
            " 0 0 0 0 0 0 0 0 0 0 0 0 0 0 0 0 0 0 0 0 0 0 0 0 0 0 0 0 0 0 0 0 0 0 0 0 0\n",
            " 0 0 0 0 0 0 0 0 0 0 0 0 0 0 0 0 0 0 0 0 0 0 0 0 0 0 0 0 0 0 0 0 0 0 0 0 0\n",
            " 0 0 0 0 0 0 0 0 0 0 0 0 0 0 0 0 0 0 0 0 0 0 0 0 0 0 0 0 0 0 0 0 0 0 0 0 0\n",
            " 0 0 0 0 0 0 0 0 0 0 0 0]\n",
            "[1 1 1 1 1 1 1 1 1 1 1 1 1 1 1 1 1 1 1 1 1 1 1 1 1 1 1 1 1 1 1 1 1 1 1 1 1\n",
            " 1 0 0 0 0 0 0 0 0 0 0 0 0 0 0 0 0 0 0 0 0 0 0 0 0 0 0 0 0 0 0 0 0 0 0 0 0\n",
            " 0 0 0 0 0 0 0 0 0 0 0 0 0 0 0 0 0 0 0 0 0 0 0 0 0 0 0 0 0 0 0 0 0 0 0 0 0\n",
            " 0 0 0]\n",
            "456\n",
            "114\n",
            "456\n",
            "114\n"
          ],
          "name": "stdout"
        }
      ]
    },
    {
      "cell_type": "code",
      "metadata": {
        "colab_type": "code",
        "id": "Q8rpmu-O_-lL",
        "outputId": "37a5d88f-b777-41ea-bac8-4471b795c00d",
        "colab": {
          "base_uri": "https://localhost:8080/",
          "height": 119
        }
      },
      "source": [
        "SAMPLE_SIZE=152\n",
        "labels_train = np.asarray([1 for _ in range(SAMPLE_SIZE)]+[0 for _ in range(SAMPLE_SIZE)]+[0 for _ in range(SAMPLE_SIZE)])\n",
        "print(labels_train.shape)\n",
        "print(labels_train)"
      ],
      "execution_count": 0,
      "outputs": [
        {
          "output_type": "stream",
          "text": [
            "(456,)\n",
            "[1 1 1 1 1 1 1 1 1 1 1 1 1 1 1 1 1 1 1 1 1 1 1 1 1 1 1 1 1 1 1 1 1 1 1 1 1\n",
            " 1 1 1 1 1 1 1 1 1 1 1 1 1 1 1 1 1 1 1 1 1 1 1 1 1 1 1 1 1 1 1 1 1 1 1 1 1\n",
            " 1 1 1 1 1 1 1 1 1 1 1 1 1 1 1 1 1 1 1 1 1 1 1 1 1 1 1 1 1 1 1 1 1 1 1 1 1\n",
            " 1 1 1 1 1 1 1 1 1 1 1 1 1 1 1 1 1 1 1 1 1 1 1 1 1 1 1 1 1 1 1 1 1 1 1 1 1\n",
            " 1 1 1 1 0 0 0 0 0 0 0 0 0 0 0 0 0 0 0 0 0 0 0 0 0 0 0 0 0 0 0 0 0 0 0 0 0\n",
            " 0 0 0 0 0 0 0 0 0 0 0 0 0 0 0 0 0 0 0 0 0 0 0 0 0 0 0 0 0 0 0 0 0 0 0 0 0\n",
            " 0 0 0 0 0 0 0 0 0 0 0 0 0 0 0 0 0 0 0 0 0 0 0 0 0 0 0 0 0 0 0 0 0 0 0 0 0\n",
            " 0 0 0 0 0 0 0 0 0 0 0 0 0 0 0 0 0 0 0 0 0 0 0 0 0 0 0 0 0 0 0 0 0 0 0 0 0\n",
            " 0 0 0 0 0 0 0 0 0 0 0 0 0 0 0 0 0 0 0 0 0 0 0 0 0 0 0 0 0 0 0 0 0 0 0 0 0\n",
            " 0 0 0 0 0 0 0 0 0 0 0 0 0 0 0 0 0 0 0 0 0 0 0 0 0 0 0 0 0 0 0 0 0 0 0 0 0\n",
            " 0 0 0 0 0 0 0 0 0 0 0 0 0 0 0 0 0 0 0 0 0 0 0 0 0 0 0 0 0 0 0 0 0 0 0 0 0\n",
            " 0 0 0 0 0 0 0 0 0 0 0 0 0 0 0 0 0 0 0 0 0 0 0 0 0 0 0 0 0 0 0 0 0 0 0 0 0\n",
            " 0 0 0 0 0 0 0 0 0 0 0 0]\n"
          ],
          "name": "stdout"
        }
      ]
    },
    {
      "cell_type": "code",
      "metadata": {
        "colab_type": "code",
        "id": "sSmD41Vc_-iu",
        "outputId": "6deeb8af-8113-4865-80bd-f2c11693bec3",
        "colab": {
          "base_uri": "https://localhost:8080/",
          "height": 34
        }
      },
      "source": [
        "labels_train.shape"
      ],
      "execution_count": 0,
      "outputs": [
        {
          "output_type": "execute_result",
          "data": {
            "text/plain": [
              "(456,)"
            ]
          },
          "metadata": {
            "tags": []
          },
          "execution_count": 287
        }
      ]
    },
    {
      "cell_type": "code",
      "metadata": {
        "colab_type": "code",
        "id": "92jMBM1O_-hX",
        "outputId": "e157d806-1ba1-4bf0-f118-c886869bb4f8",
        "colab": {
          "base_uri": "https://localhost:8080/",
          "height": 68
        }
      },
      "source": [
        "SAMPLE_SIZE=38\n",
        "labels_valid = np.asarray([1 for _ in range(SAMPLE_SIZE)]+[0 for _ in range(SAMPLE_SIZE)]+[0 for _ in range(SAMPLE_SIZE)])\n",
        "print(labels_valid)\n",
        "\n",
        "print(labels_valid.shape)"
      ],
      "execution_count": 0,
      "outputs": [
        {
          "output_type": "stream",
          "text": [
            "[1 1 1 1 1 1 1 1 1 1 1 1 1 1 1 1 1 1 1 1 1 1 1 1 1 1 1 1 1 1 1 1 1 1 1 1 1\n",
            " 1 0 0 0 0 0 0 0 0 0 0 0 0 0 0 0 0 0 0 0 0 0 0 0 0 0 0 0 0 0 0 0 0 0 0 0 0\n",
            " 0 0 0 0 0 0 0 0 0 0 0 0 0 0 0 0 0 0 0 0 0 0 0 0 0 0 0 0 0 0 0 0 0 0 0 0 0\n",
            " 0 0 0]\n",
            "(114,)\n"
          ],
          "name": "stdout"
        }
      ]
    },
    {
      "cell_type": "code",
      "metadata": {
        "colab_type": "code",
        "id": "pkHJi6QX_-e7",
        "outputId": "f50c283c-544b-4298-b8d7-262ee472586b",
        "colab": {
          "base_uri": "https://localhost:8080/",
          "height": 394
        }
      },
      "source": [
        "epoch=10\n",
        "history = model.fit([x_train,x_train1],\n",
        "                    [labels_train],\n",
        "                    shuffle = True, #important since we loaded cats first, dogs second.\n",
        "                    epochs=10,\n",
        "                    validation_data=([x_valid,x_valid1], \n",
        "                                     [labels_valid]))\n"
      ],
      "execution_count": 0,
      "outputs": [
        {
          "output_type": "stream",
          "text": [
            "Train on 456 samples, validate on 114 samples\n",
            "Epoch 1/10\n",
            "456/456 [==============================] - 4s 9ms/sample - loss: 22.7898 - accuracy: 0.5965 - val_loss: 2.3345 - val_accuracy: 0.6667\n",
            "Epoch 2/10\n",
            "456/456 [==============================] - 1s 3ms/sample - loss: 0.9632 - accuracy: 0.6732 - val_loss: 0.7989 - val_accuracy: 0.5965\n",
            "Epoch 3/10\n",
            "456/456 [==============================] - 1s 3ms/sample - loss: 0.5388 - accuracy: 0.7478 - val_loss: 0.4000 - val_accuracy: 0.8333\n",
            "Epoch 4/10\n",
            "456/456 [==============================] - 1s 3ms/sample - loss: 0.3189 - accuracy: 0.8596 - val_loss: 0.4737 - val_accuracy: 0.7632\n",
            "Epoch 5/10\n",
            "456/456 [==============================] - 1s 3ms/sample - loss: 0.2757 - accuracy: 0.8794 - val_loss: 0.3274 - val_accuracy: 0.8860\n",
            "Epoch 6/10\n",
            "456/456 [==============================] - 1s 3ms/sample - loss: 0.1694 - accuracy: 0.9320 - val_loss: 0.3298 - val_accuracy: 0.8596\n",
            "Epoch 7/10\n",
            "456/456 [==============================] - 1s 3ms/sample - loss: 0.1338 - accuracy: 0.9561 - val_loss: 0.2669 - val_accuracy: 0.8860\n",
            "Epoch 8/10\n",
            "456/456 [==============================] - 1s 3ms/sample - loss: 0.0911 - accuracy: 0.9825 - val_loss: 0.2422 - val_accuracy: 0.8860\n",
            "Epoch 9/10\n",
            "456/456 [==============================] - 1s 3ms/sample - loss: 0.0654 - accuracy: 0.9934 - val_loss: 0.2485 - val_accuracy: 0.8684\n",
            "Epoch 10/10\n",
            "456/456 [==============================] - 1s 3ms/sample - loss: 0.0371 - accuracy: 1.0000 - val_loss: 0.2437 - val_accuracy: 0.8947\n"
          ],
          "name": "stdout"
        }
      ]
    },
    {
      "cell_type": "code",
      "metadata": {
        "id": "57mnyL9rsEuV",
        "colab_type": "code",
        "colab": {}
      },
      "source": [
        "import cv2\n",
        "imgcat = cv2.imread('data1/train/cat/cat.18.jpg') \n",
        "imgdog = cv2.imread('data1/train1/hen/dog.2331.jpg')"
      ],
      "execution_count": 0,
      "outputs": []
    },
    {
      "cell_type": "code",
      "metadata": {
        "id": "-ronpJw0sEuX",
        "colab_type": "code",
        "colab": {},
        "outputId": "d67224d0-dcc8-458b-cb3d-f4afa5e2e45d"
      },
      "source": [
        "imgcat  = cv2.resize(imgcat, (64, 64))\n",
        "fin = np.float32(imgcat).reshape(1, 64, 64, 3)\n",
        "imgdog  = cv2.resize(imgdog, (64, 64))\n",
        "fin1 = np.float32(imgdog).reshape(1, 64, 64, 3)"
      ],
      "execution_count": 0,
      "outputs": [
        {
          "output_type": "error",
          "ename": "error",
          "evalue": "OpenCV(4.1.2) C:\\projects\\opencv-python\\opencv\\modules\\imgproc\\src\\resize.cpp:3720: error: (-215:Assertion failed) !ssize.empty() in function 'cv::resize'\n",
          "traceback": [
            "\u001b[1;31m---------------------------------------------------------------------------\u001b[0m",
            "\u001b[1;31merror\u001b[0m                                     Traceback (most recent call last)",
            "\u001b[1;32m<ipython-input-293-89eab07b8107>\u001b[0m in \u001b[0;36m<module>\u001b[1;34m\u001b[0m\n\u001b[0;32m      1\u001b[0m \u001b[0mimgcat\u001b[0m  \u001b[1;33m=\u001b[0m \u001b[0mcv2\u001b[0m\u001b[1;33m.\u001b[0m\u001b[0mresize\u001b[0m\u001b[1;33m(\u001b[0m\u001b[0mimgcat\u001b[0m\u001b[1;33m,\u001b[0m \u001b[1;33m(\u001b[0m\u001b[1;36m64\u001b[0m\u001b[1;33m,\u001b[0m \u001b[1;36m64\u001b[0m\u001b[1;33m)\u001b[0m\u001b[1;33m)\u001b[0m\u001b[1;33m\u001b[0m\u001b[1;33m\u001b[0m\u001b[0m\n\u001b[0;32m      2\u001b[0m \u001b[0mfin\u001b[0m \u001b[1;33m=\u001b[0m \u001b[0mnp\u001b[0m\u001b[1;33m.\u001b[0m\u001b[0mfloat32\u001b[0m\u001b[1;33m(\u001b[0m\u001b[0mimgcat\u001b[0m\u001b[1;33m)\u001b[0m\u001b[1;33m.\u001b[0m\u001b[0mreshape\u001b[0m\u001b[1;33m(\u001b[0m\u001b[1;36m1\u001b[0m\u001b[1;33m,\u001b[0m \u001b[1;36m64\u001b[0m\u001b[1;33m,\u001b[0m \u001b[1;36m64\u001b[0m\u001b[1;33m,\u001b[0m \u001b[1;36m3\u001b[0m\u001b[1;33m)\u001b[0m\u001b[1;33m\u001b[0m\u001b[1;33m\u001b[0m\u001b[0m\n\u001b[1;32m----> 3\u001b[1;33m \u001b[0mimgdog\u001b[0m  \u001b[1;33m=\u001b[0m \u001b[0mcv2\u001b[0m\u001b[1;33m.\u001b[0m\u001b[0mresize\u001b[0m\u001b[1;33m(\u001b[0m\u001b[0mimgdog\u001b[0m\u001b[1;33m,\u001b[0m \u001b[1;33m(\u001b[0m\u001b[1;36m64\u001b[0m\u001b[1;33m,\u001b[0m \u001b[1;36m64\u001b[0m\u001b[1;33m)\u001b[0m\u001b[1;33m)\u001b[0m\u001b[1;33m\u001b[0m\u001b[1;33m\u001b[0m\u001b[0m\n\u001b[0m\u001b[0;32m      4\u001b[0m \u001b[0mfin1\u001b[0m \u001b[1;33m=\u001b[0m \u001b[0mnp\u001b[0m\u001b[1;33m.\u001b[0m\u001b[0mfloat32\u001b[0m\u001b[1;33m(\u001b[0m\u001b[0mimgdog\u001b[0m\u001b[1;33m)\u001b[0m\u001b[1;33m.\u001b[0m\u001b[0mreshape\u001b[0m\u001b[1;33m(\u001b[0m\u001b[1;36m1\u001b[0m\u001b[1;33m,\u001b[0m \u001b[1;36m64\u001b[0m\u001b[1;33m,\u001b[0m \u001b[1;36m64\u001b[0m\u001b[1;33m,\u001b[0m \u001b[1;36m3\u001b[0m\u001b[1;33m)\u001b[0m\u001b[1;33m\u001b[0m\u001b[1;33m\u001b[0m\u001b[0m\n",
            "\u001b[1;31merror\u001b[0m: OpenCV(4.1.2) C:\\projects\\opencv-python\\opencv\\modules\\imgproc\\src\\resize.cpp:3720: error: (-215:Assertion failed) !ssize.empty() in function 'cv::resize'\n"
          ]
        }
      ]
    },
    {
      "cell_type": "code",
      "metadata": {
        "id": "EW6e1kqdsEue",
        "colab_type": "code",
        "colab": {}
      },
      "source": [
        "prediction=model.predict([fin, fin1], batch_size=None,steps=1)\n",
        "prediction"
      ],
      "execution_count": 0,
      "outputs": []
    },
    {
      "cell_type": "code",
      "metadata": {
        "id": "1BnjphrMsEug",
        "colab_type": "code",
        "colab": {}
      },
      "source": [
        "#imgcat=cv2.resize(imgcat,(64,64))\n",
        "#imgcat=np.float32(imgcat).reshape(1,64,64,3)\n",
        "#imgdog=cv2.resize(imgdog,(64,64))\n",
        "#imgdog=np.float32(imgdog).reshape(1,64,64,3)\n",
        "#images=([imgcat,imgdog])"
      ],
      "execution_count": 0,
      "outputs": []
    },
    {
      "cell_type": "code",
      "metadata": {
        "id": "NnWOdCcksEui",
        "colab_type": "code",
        "colab": {}
      },
      "source": [
        "#prediction=model.predict([imgcat,imgdog],steps=1)\n",
        "#prediction"
      ],
      "execution_count": 0,
      "outputs": []
    },
    {
      "cell_type": "code",
      "metadata": {
        "id": "Nv1JKr20sEuk",
        "colab_type": "code",
        "colab": {}
      },
      "source": [
        "import matplotlib.pyplot as plt\n",
        "if(prediction[:,:]>0.5).any():\n",
        "    value ='cat :%1.2f'%(prediction[0,0])\n",
        "    plt.text(20, 62,value,color='red',fontsize=18,bbox=dict(facecolor='white',alpha=0.8))\n",
        "else:\n",
        "    value ='dog :%1.2f'%(1.0-prediction[0,0])\n",
        "    plt.text(20, 62,value,color='red',fontsize=18,bbox=dict(facecolor='white',alpha=0.8))\n",
        "\n",
        "plt.imshow(imgcat)\n",
        "plt.show()\n",
        "plt.imshow(imgcat)\n",
        "plt.show()"
      ],
      "execution_count": 0,
      "outputs": []
    },
    {
      "cell_type": "code",
      "metadata": {
        "id": "TzdRY7t4sEum",
        "colab_type": "code",
        "colab": {}
      },
      "source": [
        ""
      ],
      "execution_count": 0,
      "outputs": []
    },
    {
      "cell_type": "code",
      "metadata": {
        "id": "zmtiTS1EsEuo",
        "colab_type": "code",
        "colab": {}
      },
      "source": [
        ""
      ],
      "execution_count": 0,
      "outputs": []
    },
    {
      "cell_type": "code",
      "metadata": {
        "id": "Qwy1TZ8rsEus",
        "colab_type": "code",
        "colab": {}
      },
      "source": [
        ""
      ],
      "execution_count": 0,
      "outputs": []
    },
    {
      "cell_type": "code",
      "metadata": {
        "id": "rGYp_Vc0sEut",
        "colab_type": "code",
        "colab": {}
      },
      "source": [
        ""
      ],
      "execution_count": 0,
      "outputs": []
    },
    {
      "cell_type": "code",
      "metadata": {
        "id": "R-FMVPU3sEuv",
        "colab_type": "code",
        "colab": {}
      },
      "source": [
        ""
      ],
      "execution_count": 0,
      "outputs": []
    },
    {
      "cell_type": "code",
      "metadata": {
        "id": "SutaLNaYsEuy",
        "colab_type": "code",
        "colab": {}
      },
      "source": [
        ""
      ],
      "execution_count": 0,
      "outputs": []
    },
    {
      "cell_type": "code",
      "metadata": {
        "id": "tXqz3fW9sEu0",
        "colab_type": "code",
        "colab": {}
      },
      "source": [
        ""
      ],
      "execution_count": 0,
      "outputs": []
    },
    {
      "cell_type": "code",
      "metadata": {
        "id": "uUTCUnaQsEu3",
        "colab_type": "code",
        "colab": {}
      },
      "source": [
        ""
      ],
      "execution_count": 0,
      "outputs": []
    },
    {
      "cell_type": "code",
      "metadata": {
        "id": "uHkfrZy7sEu6",
        "colab_type": "code",
        "colab": {}
      },
      "source": [
        ""
      ],
      "execution_count": 0,
      "outputs": []
    },
    {
      "cell_type": "code",
      "metadata": {
        "colab_type": "code",
        "id": "V5rdf64bLPU6",
        "colab": {}
      },
      "source": [
        ""
      ],
      "execution_count": 0,
      "outputs": []
    }
  ]
}