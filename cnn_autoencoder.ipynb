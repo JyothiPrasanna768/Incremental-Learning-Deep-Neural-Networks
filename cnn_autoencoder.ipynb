{
 "cells": [
  {
   "cell_type": "code",
   "execution_count": 1,
   "metadata": {},
   "outputs": [
    {
     "name": "stderr",
     "output_type": "stream",
     "text": [
      "Using TensorFlow backend.\n"
     ]
    }
   ],
   "source": [
    "import keras\n",
    "import numpy as np\n",
    "import matplotlib.pyplot as plt\n",
    "import os\n",
    "from random import randint\n",
    "import cv2\n",
    "from keras.layers import MaxPool2D,Conv2D,UpSampling2D,Flatten\n",
    "from keras.layers import Dense,Input\n",
    "from keras.models import Sequential\n",
    "from keras.models import Model\n",
    "from keras.models import *\n",
    "from keras.layers import *\n",
    "from sklearn.model_selection import train_test_split\n",
    "from keras.utils import to_categorical"
   ]
  },
  {
   "cell_type": "code",
   "execution_count": 2,
   "metadata": {},
   "outputs": [],
   "source": [
    "train1 = \"C:\\\\Users\\\\JYOTHI PRASANNA\\\\Desktop\\\\dog_cat_new\\\\train1\\\\\"\n",
    "train2 = \"C:\\\\Users\\\\JYOTHI PRASANNA\\\\Desktop\\\\dog_cat_new\\\\train2\\\\\"\n",
    "train = \"C:\\\\Users\\\\JYOTHI PRASANNA\\\\Desktop\\\\dog_cat_new\\\\train\\\\\"\n",
    "test = \"C:\\\\Users\\\\JYOTHI PRASANNA\\\\Desktop\\\\dog_cat_new\\\\test\\\\\""
   ]
  },
  {
   "cell_type": "code",
   "execution_count": 3,
   "metadata": {},
   "outputs": [
    {
     "name": "stdout",
     "output_type": "stream",
     "text": [
      "['cat', 'cat', 'cat', 'cat', 'cat', 'cat', 'cat', 'cat', 'cat', 'cat', 'cat', 'cat', 'cat', 'cat', 'cat', 'cat', 'cat', 'cat', 'cat', 'cat', 'cat', 'cat', 'cat', 'cat', 'cat', 'cat', 'cat', 'cat', 'cat', 'cat', 'cat', 'cat', 'cat', 'cat', 'cat', 'cat', 'cat', 'cat', 'cat', 'cat', 'cat', 'cat', 'cat', 'cat', 'cat', 'cat', 'cat', 'cat', 'cat', 'cat', 'cat', 'cat', 'cat', 'cat', 'cat', 'cat', 'cat', 'cat', 'cat', 'cat', 'cat', 'cat', 'cat', 'cat', 'cat', 'cat', 'cat', 'cat', 'cat', 'cat', 'cat', 'cat', 'cat', 'cat', 'cat', 'cat', 'cat', 'cat', 'cat', 'cat', 'cat', 'cat', 'cat', 'cat', 'cat', 'cat', 'cat', 'cat', 'cat', 'cat', 'cat', 'cat', 'cat', 'cat', 'cat', 'cat', 'cat', 'cat', 'cat', 'cat', 'cat', 'cat', 'cat', 'cat', 'cat', 'cat', 'cat', 'cat', 'cat', 'cat', 'cat', 'cat', 'cat', 'cat', 'cat', 'cat', 'cat', 'cat', 'cat', 'cat', 'cat', 'cat', 'cat', 'cat', 'cat', 'cat', 'cat', 'cat', 'cat', 'cat', 'cat', 'cat', 'cat', 'cat', 'cat', 'cat', 'cat', 'cat', 'cat', 'cat', 'cat', 'cat', 'cat', 'cat', 'cat', 'cat', 'cat', 'cat', 'cat', 'cat', 'cat', 'cat', 'cat', 'cat', 'cat', 'cat', 'cat', 'cat', 'cat', 'cat', 'cat', 'cat', 'cat', 'cat', 'cat', 'cat', 'cat', 'cat', 'cat', 'cat', 'cat', 'cat', 'cat', 'cat', 'cat', 'cat', 'cat', 'cat', 'cat', 'cat', 'cat', 'cat', 'cat', 'cat', 'cat', 'cat', 'cat', 'cat', 'cat', 'cat', 'cat', 'cat', 'cat', 'cat', 'cat', 'cat', 'cat', 'cat', 'cat', 'cat', 'dog', 'dog', 'dog', 'dog', 'dog', 'dog', 'dog', 'dog', 'dog', 'dog', 'dog', 'dog', 'dog', 'dog', 'dog', 'dog', 'dog', 'dog', 'dog', 'dog', 'dog', 'dog', 'dog', 'dog', 'dog', 'dog', 'dog', 'dog', 'dog', 'dog', 'hor', 'hor', 'hor', 'hor', 'hor', 'hor', 'hor', 'hor', 'hor', 'hor', 'hor', 'hor', 'hor', 'hor', 'hor', 'hor', 'hor', 'hor', 'hor', 'hor', 'hor', 'hor', 'hor', 'hor', 'hor', 'hor', 'hor', 'hor', 'hor', 'hor', 'hor', 'hor', 'hor', 'hor', 'hor', 'hor', 'hor', 'hor', 'hor', 'hor', 'hor', 'hor', 'hor', 'hor', 'hum', 'hum', 'hum', 'hum', 'hum', 'hum', 'hum', 'hum', 'hum', 'hum', 'hum', 'hum', 'hum', 'hum', 'hum', 'hum', 'hum', 'hum', 'hum', 'hum', 'hum', 'hum', 'hum', 'hum', 'hum', 'hum']\n",
      "(76800, 256)\n"
     ]
    },
    {
     "data": {
      "text/plain": [
       "(76800, 256)"
      ]
     },
     "execution_count": 3,
     "metadata": {},
     "output_type": "execute_result"
    }
   ],
   "source": [
    "filenames = sorted(os.listdir(train1))\n",
    "p4=0\n",
    "d4=[]\n",
    "for img_name in filenames:\n",
    "    img = plt.imread(train1 + img_name)\n",
    "    img  = np.resize(img, (256, 256))\n",
    "    if p4==0:\n",
    "      imgs4=(img)\n",
    "      p4=1\n",
    "    else:\n",
    "      imgs4 = np.append(imgs4, img, axis=0)\n",
    "    res = img_name[:3]\n",
    "    d4.append(res)\n",
    "print(d4)\n",
    "    \n",
    "print(imgs4.shape)\n",
    "        \n",
    "img_data = np.array(imgs4)\n",
    "img_data = img_data.astype('float32')\n",
    "img_data = img_data/255\n",
    "img_data.shape"
   ]
  },
  {
   "cell_type": "code",
   "execution_count": 4,
   "metadata": {},
   "outputs": [
    {
     "name": "stdout",
     "output_type": "stream",
     "text": [
      "(201, 256, 256)\n",
      "(99, 256, 256)\n"
     ]
    }
   ],
   "source": [
    "imgs4 = np.reshape(imgs4, [ 300, 256, 256])\n",
    "train_images, test_images = train_test_split(imgs4,test_size=0.33, random_state=42)\n",
    "nRows,nCols = train_images.shape[1:]\n",
    "nDims = nRows\n",
    "train_data = train_images.reshape(train_images.shape[0], nRows, nCols, 1)\n",
    "test_data = test_images.reshape(test_images.shape[0], nRows, nCols, 1)\n",
    "input_shape = (nRows, nCols, 1)\n",
    "train_data = train_data.astype('float32')\n",
    "test_data = test_data.astype('float32')\n",
    "train_data /= 255\n",
    "test_data /= 255\n",
    "print(train_images.shape)\n",
    "print(test_images.shape)"
   ]
  },
  {
   "cell_type": "code",
   "execution_count": 5,
   "metadata": {},
   "outputs": [
    {
     "name": "stdout",
     "output_type": "stream",
     "text": [
      "Training data shape :  (201, 256, 256) 201\n",
      "Testing data shape :  (99, 256, 256) 99\n",
      "Total number of outputs :  4\n",
      "Output classes :  ['cat' 'dog' 'hor' 'hum']\n"
     ]
    }
   ],
   "source": [
    "imgs = np.reshape(imgs4, [ 300, 256, 256])\n",
    "train_images, test_images, train_labels, test_labels = train_test_split(imgs4, d4, test_size=0.33, random_state=42)\n",
    "print('Training data shape : ', train_images.shape, len(train_labels))\n",
    "print('Testing data shape : ', test_images.shape, len(test_labels))\n",
    "classes = np.unique(train_labels)\n",
    "#classes=np.append(classes,0)\n",
    "nClasses = len(classes)\n",
    "\n",
    "print('Total number of outputs : ', nClasses)\n",
    "print('Output classes : ', classes)"
   ]
  },
  {
   "cell_type": "code",
   "execution_count": 6,
   "metadata": {},
   "outputs": [
    {
     "name": "stdout",
     "output_type": "stream",
     "text": [
      "[0, 1, 0, 0, 0, 1, 1, 0, 0, 0, 0, 0, 1, 0, 1, 1, 0, 0, 1, 0, 1, 0, 0, 0, 0, 0, 1, 0, 0, 0, 1, 0, 0, 0, 0, 1, 1, 0, 0, 0, 0, 0, 0, 0, 0, 1, 1, 0, 0, 0, 0, 1, 0, 1, 0, 1, 1, 1, 0, 0, 0, 1, 0, 0, 0, 0, 0, 1, 1, 0, 0, 0, 1, 1, 0, 0, 1, 0, 0, 1, 0, 1, 0, 1, 1, 0, 1, 1, 0, 0, 0, 0, 0, 1, 1, 1, 0, 1, 1, 0, 1, 0, 0, 0, 1, 0, 1, 1, 0, 0, 0, 0, 1, 0, 0, 1, 0, 0, 1, 0, 0, 0, 1, 1, 0, 0, 1, 0, 0, 1, 1, 0, 1, 1, 1, 0, 0, 0, 0, 1, 1, 1, 1, 0, 0, 1, 0, 0, 1, 1, 0, 0, 0, 0, 0, 0, 0, 0, 0, 1, 0, 0, 0, 1, 0, 0, 0, 1, 0, 1, 1, 0, 0, 0, 0, 1, 0, 0, 0, 0, 1, 1, 0, 0, 1, 0, 1, 0, 0, 0, 0, 0, 1, 0, 1, 0, 0, 0, 0, 1, 0]\n"
     ]
    },
    {
     "data": {
      "text/plain": [
       "201"
      ]
     },
     "execution_count": 6,
     "metadata": {},
     "output_type": "execute_result"
    }
   ],
   "source": [
    "train_labels=[0 if x=='cat' else 1 for x in train_labels]\n",
    "print(train_labels)\n",
    "len(train_labels)"
   ]
  },
  {
   "cell_type": "code",
   "execution_count": 7,
   "metadata": {},
   "outputs": [
    {
     "name": "stdout",
     "output_type": "stream",
     "text": [
      "[1, 1, 0, 0, 1, 1, 0, 0, 0, 0, 1, 0, 1, 0, 0, 1, 1, 1, 0, 0, 0, 0, 1, 1, 0, 0, 1, 1, 0, 1, 0, 0, 0, 0, 1, 0, 0, 0, 0, 0, 0, 0, 1, 0, 0, 0, 1, 1, 0, 1, 0, 0, 1, 0, 1, 1, 0, 0, 0, 0, 1, 0, 0, 0, 0, 0, 0, 1, 0, 0, 0, 0, 1, 0, 0, 1, 0, 0, 0, 1, 0, 0, 0, 0, 0, 0, 0, 0, 0, 0, 0, 0, 0, 1, 0, 0, 0, 0, 1]\n"
     ]
    },
    {
     "data": {
      "text/plain": [
       "99"
      ]
     },
     "execution_count": 7,
     "metadata": {},
     "output_type": "execute_result"
    }
   ],
   "source": [
    "test_labels=[0 if x=='cat' else 1 for x in test_labels]\n",
    "print(test_labels)\n",
    "len(test_labels)"
   ]
  },
  {
   "cell_type": "code",
   "execution_count": 8,
   "metadata": {},
   "outputs": [
    {
     "name": "stdout",
     "output_type": "stream",
     "text": [
      "256\n",
      "201\n",
      "99\n",
      "Original label :  1\n",
      "After conversion to categorical ( one-hot ) :  [0. 1.]\n",
      "Original label :  0\n",
      "After conversion to categorical ( one-hot ) :  [1. 0.]\n"
     ]
    }
   ],
   "source": [
    "from keras.utils import to_categorical\n",
    "\n",
    "nRows,nCols = train_images.shape[1:]\n",
    "nDims = nRows\n",
    "print(nCols)\n",
    "train_data = train_images.reshape(train_images.shape[0], nRows, nCols, 1)\n",
    "test_data = test_images.reshape(test_images.shape[0], nRows, nCols, 1)\n",
    "input_shape = (nRows, nCols, 1)\n",
    "train_data = train_data.astype('float32')\n",
    "test_data = test_data.astype('float32')\n",
    "train_data /= 255\n",
    "test_data /= 255\n",
    "print(len(train_labels))\n",
    "print(len(test_labels))\n",
    "train_labels_one_hot = to_categorical(train_labels)\n",
    "test_labels_one_hot = to_categorical(test_labels)\n",
    "print('Original label : ', train_labels[56])\n",
    "print('After conversion to categorical ( one-hot ) : ', train_labels_one_hot[56])\n",
    "print('Original label : ', test_labels[56])\n",
    "print('After conversion to categorical ( one-hot ) : ', test_labels_one_hot[56])"
   ]
  },
  {
   "cell_type": "code",
   "execution_count": 9,
   "metadata": {},
   "outputs": [
    {
     "name": "stdout",
     "output_type": "stream",
     "text": [
      "WARNING:tensorflow:From C:\\ProgramData\\Anaconda3\\lib\\site-packages\\tensorflow\\python\\framework\\op_def_library.py:263: colocate_with (from tensorflow.python.framework.ops) is deprecated and will be removed in a future version.\n",
      "Instructions for updating:\n",
      "Colocations handled automatically by placer.\n",
      "WARNING:tensorflow:From C:\\ProgramData\\Anaconda3\\lib\\site-packages\\keras\\backend\\tensorflow_backend.py:3445: calling dropout (from tensorflow.python.ops.nn_ops) with keep_prob is deprecated and will be removed in a future version.\n",
      "Instructions for updating:\n",
      "Please use `rate` instead of `keep_prob`. Rate should be set to `rate = 1 - keep_prob`.\n"
     ]
    }
   ],
   "source": [
    "input = Input(shape =(256,256, 1))\n",
    "x = Conv2D(32, kernel_size = (3, 3), activation='relu')(input)\n",
    "x = MaxPool2D(pool_size=(2,2))(x)\n",
    "x = Conv2D(64, kernel_size=(3,3), activation='relu')(x)\n",
    "x = MaxPool2D(pool_size=(2,2))(x)\n",
    "x = Conv2D(128, kernel_size=(3,3), activation='relu')(x) \n",
    "x = MaxPool2D(pool_size=(2,2))(x)\n",
    "x = Conv2D(256, kernel_size=(3,3), activation='relu')(x) \n",
    "x = MaxPool2D(pool_size=(2,2))(x)\n",
    "x = Dropout(0.2)(x)"
   ]
  },
  {
   "cell_type": "code",
   "execution_count": 10,
   "metadata": {},
   "outputs": [],
   "source": [
    "layer1 = Flatten()(x)\n",
    "layer1 = Dense(256, activation = 'relu')(layer1)\n",
    "layer1 = Dense(128, activation = 'relu')(layer1)\n",
    "layer1 = Dense(2, activation = 'softmax')(layer1)\n",
    "model = Model(input,layer1)"
   ]
  },
  {
   "cell_type": "code",
   "execution_count": 11,
   "metadata": {},
   "outputs": [],
   "source": [
    "model.compile(loss='categorical_crossentropy', optimizer='adam', metrics = ['accuracy'])"
   ]
  },
  {
   "cell_type": "code",
   "execution_count": 12,
   "metadata": {},
   "outputs": [
    {
     "name": "stdout",
     "output_type": "stream",
     "text": [
      "WARNING:tensorflow:From C:\\ProgramData\\Anaconda3\\lib\\site-packages\\tensorflow\\python\\ops\\math_ops.py:3066: to_int32 (from tensorflow.python.ops.math_ops) is deprecated and will be removed in a future version.\n",
      "Instructions for updating:\n",
      "Use tf.cast instead.\n",
      "Train on 201 samples, validate on 99 samples\n",
      "Epoch 1/20\n",
      "201/201 [==============================] - 35s 175ms/step - loss: 0.6575 - acc: 0.7015 - val_loss: 0.4149 - val_acc: 0.9192\n",
      "Epoch 2/20\n",
      "201/201 [==============================] - 24s 120ms/step - loss: 0.4332 - acc: 0.8756 - val_loss: 0.2883 - val_acc: 0.9091\n",
      "Epoch 3/20\n",
      "201/201 [==============================] - 23s 113ms/step - loss: 0.3306 - acc: 0.8905 - val_loss: 0.2746 - val_acc: 0.9192\n",
      "Epoch 4/20\n",
      "201/201 [==============================] - 23s 114ms/step - loss: 0.3386 - acc: 0.8905 - val_loss: 0.2795 - val_acc: 0.9192\n",
      "Epoch 5/20\n",
      "201/201 [==============================] - 23s 114ms/step - loss: 0.3170 - acc: 0.8905 - val_loss: 0.2870 - val_acc: 0.9192\n",
      "Epoch 6/20\n",
      "201/201 [==============================] - 24s 121ms/step - loss: 0.3226 - acc: 0.8905 - val_loss: 0.2545 - val_acc: 0.9192\n",
      "Epoch 7/20\n",
      "201/201 [==============================] - 27s 135ms/step - loss: 0.3091 - acc: 0.8905 - val_loss: 0.2767 - val_acc: 0.9192\n",
      "Epoch 8/20\n",
      "201/201 [==============================] - 24s 120ms/step - loss: 0.3046 - acc: 0.8905 - val_loss: 0.3267 - val_acc: 0.9091\n",
      "Epoch 9/20\n",
      "201/201 [==============================] - 24s 119ms/step - loss: 0.3098 - acc: 0.8905 - val_loss: 0.2836 - val_acc: 0.9192\n",
      "Epoch 10/20\n",
      "201/201 [==============================] - 26s 128ms/step - loss: 0.3255 - acc: 0.8905 - val_loss: 0.2681 - val_acc: 0.9192\n",
      "Epoch 11/20\n",
      "201/201 [==============================] - 24s 117ms/step - loss: 0.3010 - acc: 0.8905 - val_loss: 0.2633 - val_acc: 0.9192\n",
      "Epoch 12/20\n",
      "201/201 [==============================] - 23s 112ms/step - loss: 0.2941 - acc: 0.8905 - val_loss: 0.3163 - val_acc: 0.9192\n",
      "Epoch 13/20\n",
      "201/201 [==============================] - 23s 114ms/step - loss: 0.3007 - acc: 0.8905 - val_loss: 0.2838 - val_acc: 0.9192\n",
      "Epoch 14/20\n",
      "201/201 [==============================] - 23s 114ms/step - loss: 0.2957 - acc: 0.8905 - val_loss: 0.3003 - val_acc: 0.9091\n",
      "Epoch 15/20\n",
      "201/201 [==============================] - 23s 115ms/step - loss: 0.3010 - acc: 0.8905 - val_loss: 0.2857 - val_acc: 0.9091\n",
      "Epoch 16/20\n",
      "201/201 [==============================] - 24s 118ms/step - loss: 0.2939 - acc: 0.8905 - val_loss: 0.3468 - val_acc: 0.9091\n",
      "Epoch 17/20\n",
      "201/201 [==============================] - 25s 122ms/step - loss: 0.2786 - acc: 0.8905 - val_loss: 0.3440 - val_acc: 0.9091\n",
      "Epoch 18/20\n",
      "201/201 [==============================] - 28s 139ms/step - loss: 0.2769 - acc: 0.8905 - val_loss: 0.5320 - val_acc: 0.9091\n",
      "Epoch 19/20\n",
      "201/201 [==============================] - 25s 126ms/step - loss: 0.2923 - acc: 0.8905 - val_loss: 0.2804 - val_acc: 0.9091\n",
      "Epoch 20/20\n",
      "201/201 [==============================] - 22s 112ms/step - loss: 0.2877 - acc: 0.8905 - val_loss: 0.2884 - val_acc: 0.9091\n"
     ]
    }
   ],
   "source": [
    "history1 = model.fit(train_data,train_labels_one_hot,batch_size=32,epochs=20,validation_data=(test_data, test_labels_one_hot))"
   ]
  },
  {
   "cell_type": "code",
   "execution_count": 13,
   "metadata": {},
   "outputs": [
    {
     "data": {
      "text/plain": [
       "Text(0.5, 1.0, 'Accuracy Curves')"
      ]
     },
     "execution_count": 13,
     "metadata": {},
     "output_type": "execute_result"
    },
    {
     "data": {
      "image/png": "[encoded data removed]",
      "text/plain": [
       "<Figure size 576x432 with 1 Axes>"
      ]
     },
     "metadata": {
      "needs_background": "light"
     },
     "output_type": "display_data"
    },
    {
     "data": {
      "image/png": "[encoded data removed]",
      "text/plain": [
       "<Figure size 576x432 with 1 Axes>"
      ]
     },
     "metadata": {
      "needs_background": "light"
     },
     "output_type": "display_data"
    }
   ],
   "source": [
    "# Loss Curves\n",
    "plt.figure(figsize=[8,6])\n",
    "plt.plot(history1.history['loss'],'r',linewidth=3.0)\n",
    "plt.plot(history1.history['val_loss'],'b',linewidth=3.0)\n",
    "plt.legend(['Training loss', 'Validation Loss'])\n",
    "plt.xlabel('Epochs ')\n",
    "plt.ylabel('Loss')\n",
    "plt.title('Loss Curves')\n",
    "  \n",
    "# Accuracy Curves\n",
    "plt.figure(figsize=[8,6])\n",
    "plt.plot(history1.history['acc'],'r',linewidth=3.0)\n",
    "plt.plot(history1.history['val_acc'],'b',linewidth=3.0)\n",
    "plt.legend(['Training Accuracy', 'Validation Accuracy'])\n",
    "plt.xlabel('Epochs ')\n",
    "plt.ylabel('Accuracy')\n",
    "plt.title('Accuracy Curves')"
   ]
  },
  {
   "cell_type": "code",
   "execution_count": 14,
   "metadata": {},
   "outputs": [],
   "source": [
    "model.save_weights('classification_conv.h5')"
   ]
  },
  {
   "cell_type": "code",
   "execution_count": 15,
   "metadata": {},
   "outputs": [],
   "source": [
    "net = Conv2D(32,(3,3),activation ='relu',padding='same')(x)\n",
    "net = BatchNormalization()(net)\n",
    "net = Conv2D(32,(3,3),activation ='relu',padding='same')(net)\n",
    "net = BatchNormalization()(net)\n",
    "net= MaxPool2D(pool_size=(2,2))(net)\n",
    "net = Conv2D(64,(3,3),activation ='relu',padding='same')(net)\n",
    "net = BatchNormalization()(net)\n",
    "net = Conv2D(64,(3,3),activation ='relu',padding='same')(net)\n",
    "\n",
    "net1 = Conv2D(32,(3,3),activation ='relu',padding='same')(net)\n",
    "net1 = BatchNormalization()(net1)\n",
    "net1 = Conv2D(32,(3,3),activation ='relu',padding='same')(net1)\n",
    "net1 = UpSampling2D((2,2))(net1)\n",
    "decoded = Conv2D(1,(3,3),activation = 'sigmoid',padding ='same')(net1)\n",
    "\n",
    "flat =Flatten()(decoded)\n",
    "out = Dense(2, activation='softmax')(flat)"
   ]
  },
  {
   "cell_type": "code",
   "execution_count": 16,
   "metadata": {},
   "outputs": [],
   "source": [
    "autoencoder = Model(input, out)\n",
    "autoencoder.compile(loss ='mean_squared_error',optimizer ='rmsprop',metrics =['accuracy'])"
   ]
  },
  {
   "cell_type": "code",
   "execution_count": 17,
   "metadata": {},
   "outputs": [
    {
     "name": "stdout",
     "output_type": "stream",
     "text": [
      "_________________________________________________________________\n",
      "Layer (type)                 Output Shape              Param #   \n",
      "=================================================================\n",
      "input_1 (InputLayer)         (None, 256, 256, 1)       0         \n",
      "_________________________________________________________________\n",
      "conv2d_1 (Conv2D)            (None, 254, 254, 32)      320       \n",
      "_________________________________________________________________\n",
      "max_pooling2d_1 (MaxPooling2 (None, 127, 127, 32)      0         \n",
      "_________________________________________________________________\n",
      "conv2d_2 (Conv2D)            (None, 125, 125, 64)      18496     \n",
      "_________________________________________________________________\n",
      "max_pooling2d_2 (MaxPooling2 (None, 62, 62, 64)        0         \n",
      "_________________________________________________________________\n",
      "conv2d_3 (Conv2D)            (None, 60, 60, 128)       73856     \n",
      "_________________________________________________________________\n",
      "max_pooling2d_3 (MaxPooling2 (None, 30, 30, 128)       0         \n",
      "_________________________________________________________________\n",
      "conv2d_4 (Conv2D)            (None, 28, 28, 256)       295168    \n",
      "_________________________________________________________________\n",
      "max_pooling2d_4 (MaxPooling2 (None, 14, 14, 256)       0         \n",
      "_________________________________________________________________\n",
      "dropout_1 (Dropout)          (None, 14, 14, 256)       0         \n",
      "_________________________________________________________________\n",
      "conv2d_5 (Conv2D)            (None, 14, 14, 32)        73760     \n",
      "_________________________________________________________________\n",
      "batch_normalization_1 (Batch (None, 14, 14, 32)        128       \n",
      "_________________________________________________________________\n",
      "conv2d_6 (Conv2D)            (None, 14, 14, 32)        9248      \n",
      "_________________________________________________________________\n",
      "batch_normalization_2 (Batch (None, 14, 14, 32)        128       \n",
      "_________________________________________________________________\n",
      "max_pooling2d_5 (MaxPooling2 (None, 7, 7, 32)          0         \n",
      "_________________________________________________________________\n",
      "conv2d_7 (Conv2D)            (None, 7, 7, 64)          18496     \n",
      "_________________________________________________________________\n",
      "batch_normalization_3 (Batch (None, 7, 7, 64)          256       \n",
      "_________________________________________________________________\n",
      "conv2d_8 (Conv2D)            (None, 7, 7, 64)          36928     \n",
      "_________________________________________________________________\n",
      "conv2d_9 (Conv2D)            (None, 7, 7, 32)          18464     \n",
      "_________________________________________________________________\n",
      "batch_normalization_4 (Batch (None, 7, 7, 32)          128       \n",
      "_________________________________________________________________\n",
      "conv2d_10 (Conv2D)           (None, 7, 7, 32)          9248      \n",
      "_________________________________________________________________\n",
      "up_sampling2d_1 (UpSampling2 (None, 14, 14, 32)        0         \n",
      "_________________________________________________________________\n",
      "conv2d_11 (Conv2D)           (None, 14, 14, 1)         289       \n",
      "_________________________________________________________________\n",
      "flatten_2 (Flatten)          (None, 196)               0         \n",
      "_________________________________________________________________\n",
      "dense_4 (Dense)              (None, 2)                 394       \n",
      "=================================================================\n",
      "Total params: 555,307\n",
      "Trainable params: 554,987\n",
      "Non-trainable params: 320\n",
      "_________________________________________________________________\n"
     ]
    }
   ],
   "source": [
    "autoencoder.summary()"
   ]
  },
  {
   "cell_type": "code",
   "execution_count": 18,
   "metadata": {},
   "outputs": [],
   "source": [
    "for l1,l2 in zip(autoencoder.layers[:10],model.layers[0:10]):\n",
    "    l1.set_weights(l2.get_weights())"
   ]
  },
  {
   "cell_type": "code",
   "execution_count": 19,
   "metadata": {},
   "outputs": [],
   "source": [
    "for layer in autoencoder.layers[0:10]:\n",
    "    layer.trainable =False"
   ]
  },
  {
   "cell_type": "code",
   "execution_count": 20,
   "metadata": {},
   "outputs": [
    {
     "name": "stderr",
     "output_type": "stream",
     "text": [
      "C:\\ProgramData\\Anaconda3\\lib\\site-packages\\keras\\engine\\training.py:490: UserWarning: Discrepancy between trainable weights and collected trainable weights, did you set `model.trainable` without calling `model.compile` after ?\n",
      "  'Discrepancy between trainable weights and collected trainable'\n"
     ]
    },
    {
     "name": "stdout",
     "output_type": "stream",
     "text": [
      "Train on 201 samples, validate on 99 samples\n",
      "Epoch 1/10\n",
      "201/201 [==============================] - 28s 141ms/step - loss: 0.1614 - acc: 0.7960 - val_loss: 0.3040 - val_acc: 0.2929\n",
      "Epoch 2/10\n",
      "201/201 [==============================] - 32s 160ms/step - loss: 0.1049 - acc: 0.8756 - val_loss: 0.0927 - val_acc: 0.9192\n",
      "Epoch 3/10\n",
      "201/201 [==============================] - 32s 158ms/step - loss: 0.0991 - acc: 0.8905 - val_loss: 0.0732 - val_acc: 0.9192\n",
      "Epoch 4/10\n",
      "201/201 [==============================] - 31s 153ms/step - loss: 0.0968 - acc: 0.8905 - val_loss: 0.0727 - val_acc: 0.9192\n",
      "Epoch 5/10\n",
      "201/201 [==============================] - 24s 121ms/step - loss: 0.0958 - acc: 0.8905 - val_loss: 0.0745 - val_acc: 0.9192\n",
      "Epoch 6/10\n",
      "201/201 [==============================] - 22s 110ms/step - loss: 0.0928 - acc: 0.8905 - val_loss: 0.1131 - val_acc: 0.9192\n",
      "Epoch 7/10\n",
      "201/201 [==============================] - 23s 113ms/step - loss: 0.0961 - acc: 0.8905 - val_loss: 0.0811 - val_acc: 0.9192\n",
      "Epoch 8/10\n",
      "201/201 [==============================] - 23s 116ms/step - loss: 0.0977 - acc: 0.8856 - val_loss: 0.0741 - val_acc: 0.9192\n",
      "Epoch 9/10\n",
      "201/201 [==============================] - 22s 109ms/step - loss: 0.0966 - acc: 0.8905 - val_loss: 0.0738 - val_acc: 0.9192\n",
      "Epoch 10/10\n",
      "201/201 [==============================] - 23s 115ms/step - loss: 0.0949 - acc: 0.8905 - val_loss: 0.0800 - val_acc: 0.9192\n"
     ]
    }
   ],
   "source": [
    "classify_train = autoencoder.fit(train_data,train_labels_one_hot,batch_size=32,epochs=10,verbose=1,validation_data = (test_data,test_labels_one_hot))"
   ]
  },
  {
   "cell_type": "code",
   "execution_count": 37,
   "metadata": {},
   "outputs": [
    {
     "data": {
      "text/plain": [
       "'from keras.models import *\\nfrom keras.layers import *\\nfrom keras.models import Sequential\\n\\nautoencoder.layers.pop()\\nautoencoder.outputs = [autoencoder.layers[-1].output]'"
      ]
     },
     "execution_count": 37,
     "metadata": {},
     "output_type": "execute_result"
    }
   ],
   "source": [
    "'''from keras.models import *\n",
    "from keras.layers import *\n",
    "from keras.models import Sequential\n",
    "\n",
    "autoencoder.layers.pop()\n",
    "autoencoder.outputs = [autoencoder.layers[-1].output]'''"
   ]
  },
  {
   "cell_type": "code",
   "execution_count": 39,
   "metadata": {},
   "outputs": [
    {
     "data": {
      "text/plain": [
       "\"top_model = Sequential()\\n top_model.add(Dense(2, activation='softmax'))\\n model2 = Model(input= autoencoder.input, output= top_model(autoencoder.output))\""
      ]
     },
     "execution_count": 39,
     "metadata": {},
     "output_type": "execute_result"
    }
   ],
   "source": [
    " '''top_model = Sequential()\n",
    "  top_model.add(Dense(2, activation='softmax'))\n",
    "  model2 = Model(input= autoencoder.input, output= top_model(autoencoder.output))'''"
   ]
  },
  {
   "cell_type": "code",
   "execution_count": 40,
   "metadata": {},
   "outputs": [
    {
     "data": {
      "text/plain": [
       "\"model2.compile(loss ='categorical_crossentropy',optimizer ='rmsprop',metrics =['accuracy'])\""
      ]
     },
     "execution_count": 40,
     "metadata": {},
     "output_type": "execute_result"
    }
   ],
   "source": [
    "'''model2.compile(loss ='categorical_crossentropy',optimizer ='rmsprop',metrics =['accuracy'])'''"
   ]
  },
  {
   "cell_type": "code",
   "execution_count": 41,
   "metadata": {},
   "outputs": [],
   "source": [
    "layer2 = Flatten()(net)\n",
    "layer2 = Dense(256, activation = 'relu')(layer2)\n",
    "layer2 = Dense(128, activation = 'relu')(layer2)\n",
    "layer2 = Dense(2, activation = 'softmax')(layer2)\n",
    "model3 = Model(input,layer2)"
   ]
  },
  {
   "cell_type": "code",
   "execution_count": 42,
   "metadata": {},
   "outputs": [
    {
     "name": "stdout",
     "output_type": "stream",
     "text": [
      "_________________________________________________________________\n",
      "Layer (type)                 Output Shape              Param #   \n",
      "=================================================================\n",
      "input_1 (InputLayer)         (None, 256, 256, 1)       0         \n",
      "_________________________________________________________________\n",
      "conv2d_1 (Conv2D)            (None, 254, 254, 32)      320       \n",
      "_________________________________________________________________\n",
      "max_pooling2d_1 (MaxPooling2 (None, 127, 127, 32)      0         \n",
      "_________________________________________________________________\n",
      "conv2d_2 (Conv2D)            (None, 125, 125, 64)      18496     \n",
      "_________________________________________________________________\n",
      "max_pooling2d_2 (MaxPooling2 (None, 62, 62, 64)        0         \n",
      "_________________________________________________________________\n",
      "conv2d_3 (Conv2D)            (None, 60, 60, 128)       73856     \n",
      "_________________________________________________________________\n",
      "max_pooling2d_3 (MaxPooling2 (None, 30, 30, 128)       0         \n",
      "_________________________________________________________________\n",
      "conv2d_4 (Conv2D)            (None, 28, 28, 256)       295168    \n",
      "_________________________________________________________________\n",
      "max_pooling2d_4 (MaxPooling2 (None, 14, 14, 256)       0         \n",
      "_________________________________________________________________\n",
      "dropout_1 (Dropout)          (None, 14, 14, 256)       0         \n",
      "_________________________________________________________________\n",
      "conv2d_5 (Conv2D)            (None, 14, 14, 32)        73760     \n",
      "_________________________________________________________________\n",
      "batch_normalization_1 (Batch (None, 14, 14, 32)        128       \n",
      "_________________________________________________________________\n",
      "conv2d_6 (Conv2D)            (None, 14, 14, 32)        9248      \n",
      "_________________________________________________________________\n",
      "batch_normalization_2 (Batch (None, 14, 14, 32)        128       \n",
      "_________________________________________________________________\n",
      "max_pooling2d_5 (MaxPooling2 (None, 7, 7, 32)          0         \n",
      "_________________________________________________________________\n",
      "conv2d_7 (Conv2D)            (None, 7, 7, 64)          18496     \n",
      "_________________________________________________________________\n",
      "batch_normalization_3 (Batch (None, 7, 7, 64)          256       \n",
      "_________________________________________________________________\n",
      "conv2d_8 (Conv2D)            (None, 7, 7, 64)          36928     \n",
      "_________________________________________________________________\n",
      "flatten_3 (Flatten)          (None, 3136)              0         \n",
      "_________________________________________________________________\n",
      "dense_8 (Dense)              (None, 256)               803072    \n",
      "_________________________________________________________________\n",
      "dense_9 (Dense)              (None, 128)               32896     \n",
      "_________________________________________________________________\n",
      "dense_10 (Dense)             (None, 2)                 258       \n",
      "=================================================================\n",
      "Total params: 1,363,010\n",
      "Trainable params: 974,914\n",
      "Non-trainable params: 388,096\n",
      "_________________________________________________________________\n"
     ]
    }
   ],
   "source": [
    "model3.summary()"
   ]
  },
  {
   "cell_type": "code",
   "execution_count": 45,
   "metadata": {},
   "outputs": [],
   "source": [
    "for l1,l2 in zip(model3.layers[:18],autoencoder.layers[0:18]):\n",
    "    l1.set_weights(l2.get_weights())"
   ]
  },
  {
   "cell_type": "code",
   "execution_count": 46,
   "metadata": {},
   "outputs": [],
   "source": [
    "for layer in model3.layers[0:18]:\n",
    "    layer.trainable =False"
   ]
  },
  {
   "cell_type": "code",
   "execution_count": 47,
   "metadata": {},
   "outputs": [],
   "source": [
    "model3.compile(loss='categorical_crossentropy',optimizer ='adam',metrics =['accuracy'] )"
   ]
  },
  {
   "cell_type": "code",
   "execution_count": 48,
   "metadata": {},
   "outputs": [
    {
     "name": "stdout",
     "output_type": "stream",
     "text": [
      "Train on 201 samples, validate on 99 samples\n",
      "Epoch 1/10\n",
      "201/201 [==============================] - 8s 38ms/step - loss: 0.9284 - acc: 0.7711 - val_loss: 0.8906 - val_acc: 0.9192\n",
      "Epoch 2/10\n",
      "201/201 [==============================] - 8s 38ms/step - loss: 0.4355 - acc: 0.8756 - val_loss: 0.3683 - val_acc: 0.9192\n",
      "Epoch 3/10\n",
      "201/201 [==============================] - 8s 39ms/step - loss: 0.3559 - acc: 0.8905 - val_loss: 0.3694 - val_acc: 0.9293\n",
      "Epoch 4/10\n",
      "201/201 [==============================] - 8s 39ms/step - loss: 0.3654 - acc: 0.8856 - val_loss: 0.5459 - val_acc: 0.9192\n",
      "Epoch 5/10\n",
      "201/201 [==============================] - 8s 41ms/step - loss: 0.3106 - acc: 0.8955 - val_loss: 0.3856 - val_acc: 0.9192\n",
      "Epoch 6/10\n",
      "201/201 [==============================] - 8s 40ms/step - loss: 0.3327 - acc: 0.8905 - val_loss: 0.4122 - val_acc: 0.8586\n",
      "Epoch 7/10\n",
      "201/201 [==============================] - 8s 41ms/step - loss: 0.2945 - acc: 0.8856 - val_loss: 0.6516 - val_acc: 0.9192\n",
      "Epoch 8/10\n",
      "201/201 [==============================] - 8s 41ms/step - loss: 0.3936 - acc: 0.8905 - val_loss: 0.3831 - val_acc: 0.9192\n",
      "Epoch 9/10\n",
      "201/201 [==============================] - 8s 41ms/step - loss: 0.3653 - acc: 0.8209 - val_loss: 0.4051 - val_acc: 0.9192\n",
      "Epoch 10/10\n",
      "201/201 [==============================] - 10s 50ms/step - loss: 0.2767 - acc: 0.8905 - val_loss: 0.3262 - val_acc: 0.9192\n"
     ]
    }
   ],
   "source": [
    "classify_train1 = model3.fit(train_data,train_labels_one_hot,batch_size=32,epochs=10,verbose=1,validation_data = (test_data,test_labels_one_hot))"
   ]
  },
  {
   "cell_type": "code",
   "execution_count": 49,
   "metadata": {},
   "outputs": [
    {
     "data": {
      "text/plain": [
       "Text(0.5, 1.0, 'Accuracy Curves')"
      ]
     },
     "execution_count": 49,
     "metadata": {},
     "output_type": "execute_result"
    },
    {
     "data": {
      "image/png": "[encoded data removed]",
      "text/plain": [
       "<Figure size 576x432 with 1 Axes>"
      ]
     },
     "metadata": {
      "needs_background": "light"
     },
     "output_type": "display_data"
    },
    {
     "data": {
      "image/png": "[encoded data removed]",
      "text/plain": [
       "<Figure size 576x432 with 1 Axes>"
      ]
     },
     "metadata": {
      "needs_background": "light"
     },
     "output_type": "display_data"
    }
   ],
   "source": [
    "# Loss Curves\n",
    "plt.figure(figsize=[8,6])\n",
    "plt.plot(classify_train1.history['loss'],'r',linewidth=3.0)\n",
    "plt.plot(classify_train1.history['val_loss'],'b',linewidth=3.0)\n",
    "plt.legend(['Training loss', 'Validation Loss'])\n",
    "plt.xlabel('Epochs ')\n",
    "plt.ylabel('Loss')\n",
    "plt.title('Loss Curves')\n",
    "  \n",
    "# Accuracy Curves\n",
    "plt.figure(figsize=[8,6])\n",
    "plt.plot(classify_train1.history['acc'],'r',linewidth=3.0)\n",
    "plt.plot(classify_train1.history['val_acc'],'b',linewidth=3.0)\n",
    "plt.legend(['Training Accuracy', 'Validation Accuracy'])\n",
    "plt.xlabel('Epochs ')\n",
    "plt.ylabel('Accuracy')\n",
    "plt.title('Accuracy Curves')"
   ]
  },
  {
   "cell_type": "code",
   "execution_count": 50,
   "metadata": {},
   "outputs": [
    {
     "name": "stdout",
     "output_type": "stream",
     "text": [
      "99/99 [==============================] - 2s 24ms/step\n"
     ]
    },
    {
     "data": {
      "text/plain": [
       "[0.32623843171379785, 0.9191919191919192]"
      ]
     },
     "execution_count": 50,
     "metadata": {},
     "output_type": "execute_result"
    }
   ],
   "source": [
    "model3.evaluate(test_data,test_labels_one_hot)"
   ]
  },
  {
   "cell_type": "code",
   "execution_count": 65,
   "metadata": {},
   "outputs": [],
   "source": [
    "imgcat=cv2.imread(\"C:\\\\Users\\\\JYOTHI PRASANNA\\\\Desktop\\\\dog_cat_new\\\\test\\\\1.jpg\")\n",
    "imgdog=cv2.imread(\"C:\\\\Users\\\\JYOTHI PRASANNA\\\\Desktop\\\\dog_cat_new\\\\test\\\\35.jpg\")\n",
    "imgcat=cv2.resize(imgcat,(256,256))\n",
    "imgcat = cv2.cvtColor(cv2.resize(imgcat,(256,256)),cv2.COLOR_BGR2GRAY)\n",
    "imgcat=imgcat.reshape(1,256,256,1)\n",
    "imgdog=cv2.resize(imgdog,(256,256))\n",
    "imgdog = cv2.cvtColor(cv2.resize(imgdog,(256,256)),cv2.COLOR_BGR2GRAY)\n",
    "imgdog=imgdog.reshape(1,256,256,1)\n",
    "images=([imgcat])\n",
    "prediction=model3.predict([imgcat],steps=1)"
   ]
  },
  {
   "cell_type": "code",
   "execution_count": 66,
   "metadata": {},
   "outputs": [
    {
     "data": {
      "text/plain": [
       "array([[1.0000000e+00, 1.0438349e-20]], dtype=float32)"
      ]
     },
     "execution_count": 66,
     "metadata": {},
     "output_type": "execute_result"
    }
   ],
   "source": [
    "prediction"
   ]
  },
  {
   "cell_type": "code",
   "execution_count": null,
   "metadata": {},
   "outputs": [],
   "source": []
  },
  {
   "cell_type": "code",
   "execution_count": null,
   "metadata": {},
   "outputs": [],
   "source": []
  },
  {
   "cell_type": "code",
   "execution_count": null,
   "metadata": {},
   "outputs": [],
   "source": []
  },
  {
   "cell_type": "code",
   "execution_count": null,
   "metadata": {},
   "outputs": [],
   "source": []
  },
  {
   "cell_type": "code",
   "execution_count": null,
   "metadata": {},
   "outputs": [],
   "source": []
  },
  {
   "cell_type": "code",
   "execution_count": null,
   "metadata": {},
   "outputs": [],
   "source": []
  },
  {
   "cell_type": "code",
   "execution_count": null,
   "metadata": {},
   "outputs": [],
   "source": []
  },
  {
   "cell_type": "code",
   "execution_count": null,
   "metadata": {},
   "outputs": [],
   "source": [
    "prediction"
   ]
  },
  {
   "cell_type": "code",
   "execution_count": 93,
   "metadata": {},
   "outputs": [
    {
     "name": "stdout",
     "output_type": "stream",
     "text": [
      "99/99 [==============================] - 2s 20ms/step\n"
     ]
    },
    {
     "data": {
      "text/plain": [
       "[0.28204989124729174, 0.9191919191919192]"
      ]
     },
     "execution_count": 93,
     "metadata": {},
     "output_type": "execute_result"
    }
   ],
   "source": [
    "model.evaluate(test_data,test_labels_one_hot)"
   ]
  },
  {
   "cell_type": "code",
   "execution_count": 94,
   "metadata": {},
   "outputs": [
    {
     "name": "stdout",
     "output_type": "stream",
     "text": [
      "['cat', 'cat', 'cat', 'cat', 'cat', 'cat', 'cat', 'cat', 'cat', 'cat', 'cat', 'cat', 'cat', 'cat', 'cat', 'cat', 'cat', 'cat', 'cat', 'cat', 'cat', 'cat', 'cat', 'cat', 'cat', 'cat', 'cat', 'cat', 'cat', 'cat', 'dog', 'dog', 'dog', 'dog', 'dog', 'dog', 'dog', 'dog', 'dog', 'dog', 'dog', 'dog', 'dog', 'dog', 'dog', 'dog', 'dog', 'dog', 'dog', 'dog', 'dog', 'dog', 'dog', 'dog', 'dog', 'dog', 'dog', 'dog', 'dog', 'dog', 'dog', 'dog', 'dog', 'dog', 'dog', 'dog', 'dog', 'dog', 'dog', 'dog', 'dog', 'dog', 'dog', 'dog', 'dog', 'dog', 'dog', 'dog', 'dog', 'dog', 'dog', 'dog', 'dog', 'dog', 'dog', 'dog', 'dog', 'dog', 'dog', 'dog', 'dog', 'dog', 'dog', 'dog', 'dog', 'dog', 'dog', 'dog', 'dog', 'dog', 'dog', 'dog', 'dog', 'dog', 'dog', 'dog', 'dog', 'dog', 'dog', 'dog', 'dog', 'dog', 'dog', 'dog', 'dog', 'dog', 'dog', 'dog', 'dog', 'dog', 'dog', 'dog', 'dog', 'dog', 'dog', 'dog', 'dog', 'dog', 'dog', 'dog', 'dog', 'dog', 'dog', 'dog', 'dog', 'dog', 'dog', 'dog', 'dog', 'dog', 'dog', 'dog', 'dog', 'dog', 'dog', 'dog', 'dog', 'dog', 'dog', 'dog', 'dog', 'dog', 'dog', 'dog', 'dog', 'dog', 'dog', 'dog', 'dog', 'dog', 'dog', 'dog', 'dog', 'dog', 'dog', 'dog', 'dog', 'dog', 'dog', 'dog', 'dog', 'dog', 'dog', 'dog', 'dog', 'dog', 'dog', 'dog', 'dog', 'dog', 'dog', 'dog', 'dog', 'dog', 'dog', 'dog', 'dog', 'dog', 'dog', 'dog', 'dog', 'dog', 'dog', 'dog', 'dog', 'dog', 'dog', 'dog', 'dog', 'dog', 'dog', 'dog', 'dog', 'dog', 'dog', 'dog', 'dog', 'dog', 'dog', 'dog', 'dog', 'dog', 'dog', 'dog', 'dog', 'dog', 'dog', 'dog', 'dog', 'dog', 'dog', 'dog', 'dog', 'dog', 'dog', 'dog', 'dog', 'dog', 'dog', 'dog', 'hor', 'hor', 'hor', 'hor', 'hor', 'hor', 'hor', 'hor', 'hor', 'hor', 'hor', 'hor', 'hor', 'hor', 'hor', 'hor', 'hor', 'hor', 'hor', 'hor', 'hor', 'hor', 'hor', 'hor', 'hor', 'hor', 'hor', 'hor', 'hor', 'hor', 'hor', 'hor', 'hor', 'hor', 'hor', 'hor', 'hor', 'hor', 'hor', 'hor', 'hor', 'hor', 'hor', 'hor', 'hum', 'hum', 'hum', 'hum', 'hum', 'hum', 'hum', 'hum', 'hum', 'hum', 'hum', 'hum', 'hum', 'hum', 'hum', 'hum', 'hum', 'hum', 'hum', 'hum', 'hum', 'hum', 'hum', 'hum', 'hum', 'hum']\n",
      "(76800, 256)\n"
     ]
    },
    {
     "data": {
      "text/plain": [
       "(76800, 256)"
      ]
     },
     "execution_count": 94,
     "metadata": {},
     "output_type": "execute_result"
    }
   ],
   "source": [
    "filenames1 = sorted(os.listdir(train2))\n",
    "p3=0\n",
    "d3=[]\n",
    "for img_name in filenames1:\n",
    "    img = plt.imread(train2 + img_name)\n",
    "    img  = np.resize(img, (256, 256))\n",
    "    if p3==0:\n",
    "      imgs1=(img)\n",
    "      p3 = 1\n",
    "    else:\n",
    "      imgs1 = np.append(imgs1, img, axis=0)\n",
    "    res = img_name[:3]\n",
    "    d3.append(res)\n",
    "print(d3)\n",
    "    \n",
    "print(imgs1.shape)\n",
    "        \n",
    "img_data1 = np.array(imgs1)\n",
    "img_data1 = img_data.astype('float32')\n",
    "img_data1 = img_data/255\n",
    "img_data1.shape"
   ]
  },
  {
   "cell_type": "code",
   "execution_count": 95,
   "metadata": {},
   "outputs": [
    {
     "name": "stdout",
     "output_type": "stream",
     "text": [
      "Training data shape :  (201, 256, 256) 201\n",
      "Testing data shape :  (99, 256, 256) 99\n",
      "Total number of outputs :  4\n",
      "Output classes :  ['cat' 'dog' 'hor' 'hum']\n"
     ]
    }
   ],
   "source": [
    "imgs1 = np.reshape(imgs1, [ 300, 256, 256])\n",
    "train_images1, test_images1, train_labels1, test_labels1 = train_test_split(imgs1, d3, test_size=0.33, random_state=42)\n",
    "print('Training data shape : ', train_images1.shape, len(train_labels1))\n",
    "print('Testing data shape : ', test_images1.shape, len(test_labels1))\n",
    "classes = np.unique(train_labels1)\n",
    "nClasses = len(classes)\n",
    "\n",
    "print('Total number of outputs : ', nClasses)\n",
    "print('Output classes : ', classes)"
   ]
  },
  {
   "cell_type": "code",
   "execution_count": 96,
   "metadata": {},
   "outputs": [
    {
     "name": "stdout",
     "output_type": "stream",
     "text": [
      "[0, 0, 0, 0, 0, 1, 0, 0, 1, 0, 0, 0, 1, 0, 1, 1, 0, 0, 1, 0, 0, 0, 0, 0, 0, 0, 1, 0, 0, 0, 1, 0, 0, 0, 0, 1, 1, 0, 0, 0, 1, 0, 0, 0, 0, 0, 1, 0, 0, 1, 0, 1, 0, 0, 0, 1, 1, 0, 0, 0, 0, 0, 0, 1, 0, 1, 0, 1, 1, 0, 0, 0, 0, 1, 0, 0, 1, 0, 1, 1, 0, 0, 1, 1, 1, 0, 1, 1, 0, 0, 0, 0, 0, 1, 0, 1, 1, 1, 1, 1, 0, 1, 0, 0, 0, 0, 0, 1, 0, 0, 0, 0, 1, 1, 0, 1, 0, 0, 1, 0, 0, 0, 1, 0, 0, 1, 1, 0, 0, 0, 0, 0, 1, 1, 1, 0, 1, 0, 0, 1, 0, 1, 0, 0, 0, 0, 0, 0, 0, 1, 1, 0, 0, 0, 1, 0, 0, 0, 0, 0, 0, 0, 0, 1, 1, 0, 0, 1, 0, 1, 1, 0, 0, 0, 0, 1, 0, 0, 0, 0, 1, 1, 1, 0, 1, 0, 1, 0, 0, 0, 0, 0, 0, 0, 1, 1, 0, 0, 0, 1, 0]\n"
     ]
    },
    {
     "data": {
      "text/plain": [
       "201"
      ]
     },
     "execution_count": 96,
     "metadata": {},
     "output_type": "execute_result"
    }
   ],
   "source": [
    "train_labels1=[0 if x=='dog' else 1 for x in train_labels1]\n",
    "print(train_labels1)\n",
    "len(train_labels1)"
   ]
  },
  {
   "cell_type": "code",
   "execution_count": 97,
   "metadata": {},
   "outputs": [
    {
     "name": "stdout",
     "output_type": "stream",
     "text": [
      "[0, 1, 0, 1, 1, 0, 0, 0, 1, 0, 1, 0, 0, 0, 0, 0, 1, 0, 0, 0, 0, 0, 1, 1, 0, 0, 1, 1, 0, 1, 1, 0, 0, 1, 0, 0, 1, 0, 0, 0, 0, 0, 1, 0, 0, 0, 1, 0, 0, 1, 0, 0, 1, 0, 1, 1, 0, 0, 0, 1, 1, 0, 1, 0, 0, 0, 1, 1, 0, 0, 0, 0, 1, 0, 0, 1, 0, 0, 0, 1, 0, 0, 1, 0, 0, 0, 0, 0, 1, 1, 0, 0, 0, 0, 0, 1, 0, 0, 1]\n"
     ]
    },
    {
     "data": {
      "text/plain": [
       "99"
      ]
     },
     "execution_count": 97,
     "metadata": {},
     "output_type": "execute_result"
    }
   ],
   "source": [
    "test_labels1=[0 if x=='dog' else 1 for x in test_labels1]\n",
    "print(test_labels1)\n",
    "len(test_labels1)"
   ]
  },
  {
   "cell_type": "code",
   "execution_count": 104,
   "metadata": {},
   "outputs": [
    {
     "name": "stdout",
     "output_type": "stream",
     "text": [
      "256\n",
      "201\n",
      "99\n",
      "Original label :  1\n",
      "After conversion to categorical ( one-hot ) :  [0. 1.]\n",
      "Original label :  0\n",
      "After conversion to categorical ( one-hot ) :  [1. 0.]\n"
     ]
    }
   ],
   "source": [
    "from keras.utils import to_categorical\n",
    "\n",
    "nRows,nCols = train_images1.shape[1:]\n",
    "nDims = nRows\n",
    "print(nCols)\n",
    "train_data1 = train_images1.reshape(train_images1.shape[0], nRows, nCols, 1)\n",
    "test_data1 = test_images1.reshape(test_images1.shape[0], nRows, nCols, 1)\n",
    "input_shape = (nRows, nCols, 1)\n",
    "train_data1 = train_data1.astype('float32')\n",
    "test_data1 = test_data1.astype('float32')\n",
    "train_data1 /= 255\n",
    "test_data1 /= 255\n",
    "print(len(train_labels1))\n",
    "print(len(test_labels1))\n",
    "train_labels_one_hot1 = to_categorical(train_labels1)\n",
    "test_labels_one_hot1 = to_categorical(test_labels1)\n",
    "print('Original label : ', train_labels1[56])\n",
    "print('After conversion to categorical ( one-hot ) : ', train_labels_one_hot1[56])\n",
    "print('Original label : ', test_labels1[56])\n",
    "print('After conversion to categorical ( one-hot ) : ', test_labels_one_hot1[56])"
   ]
  },
  {
   "cell_type": "code",
   "execution_count": 98,
   "metadata": {},
   "outputs": [],
   "source": [
    "input = Input(shape =(256,256, 1))\n",
    "x1 = Conv2D(32, kernel_size = (3, 3), activation='relu')(input)\n",
    "x1 = MaxPool2D(pool_size=(2,2))(x1)\n",
    "x1 = Conv2D(64, kernel_size=(3,3), activation='relu')(x1)\n",
    "x1 = MaxPool2D(pool_size=(2,2))(x1)\n",
    "x1 = Conv2D(96, kernel_size=(3,3), activation='relu')(x1) \n",
    "x1 = MaxPool2D(pool_size=(2,2))(x1)\n",
    "x1 = Dropout(0.2)(x1)"
   ]
  },
  {
   "cell_type": "code",
   "execution_count": 102,
   "metadata": {},
   "outputs": [],
   "source": [
    "layer2 = Flatten()(x1)\n",
    "layer2 = Dense(128, activation = 'relu')(layer2)\n",
    "layer2 = Dense(2, activation = 'softmax')(layer2)\n",
    "model1 = Model(input,layer2)"
   ]
  },
  {
   "cell_type": "code",
   "execution_count": 103,
   "metadata": {},
   "outputs": [],
   "source": [
    "model1.compile(loss='binary_crossentropy', optimizer='adam', metrics = ['accuracy'])"
   ]
  },
  {
   "cell_type": "code",
   "execution_count": 105,
   "metadata": {},
   "outputs": [
    {
     "name": "stdout",
     "output_type": "stream",
     "text": [
      "Train on 201 samples, validate on 99 samples\n",
      "Epoch 1/5\n",
      "201/201 [==============================] - 64s 317ms/step - loss: 0.9353 - acc: 0.7463 - val_loss: 0.3929 - val_acc: 0.8283\n",
      "Epoch 2/5\n",
      "201/201 [==============================] - 63s 313ms/step - loss: 0.5110 - acc: 0.8955 - val_loss: 0.3582 - val_acc: 0.8788\n",
      "Epoch 3/5\n",
      "201/201 [==============================] - 63s 315ms/step - loss: 0.3804 - acc: 0.9005 - val_loss: 0.3490 - val_acc: 0.8788\n",
      "Epoch 4/5\n",
      "201/201 [==============================] - 60s 298ms/step - loss: 0.4278 - acc: 0.8856 - val_loss: 0.6716 - val_acc: 0.6667\n",
      "Epoch 5/5\n",
      "201/201 [==============================] - 58s 289ms/step - loss: 0.4978 - acc: 0.7662 - val_loss: 0.4296 - val_acc: 0.8788\n"
     ]
    }
   ],
   "source": [
    "history4 = model1.fit(train_data1,train_labels_one_hot1,batch_size=1,epochs=5,validation_data=(test_data1, test_labels_one_hot1))"
   ]
  },
  {
   "cell_type": "code",
   "execution_count": 107,
   "metadata": {},
   "outputs": [
    {
     "data": {
      "text/plain": [
       "array([[1., 0.]], dtype=float32)"
      ]
     },
     "execution_count": 107,
     "metadata": {},
     "output_type": "execute_result"
    }
   ],
   "source": [
    "prediction1=model1.predict([imgcat],steps=1)\n",
    "prediction1"
   ]
  },
  {
   "cell_type": "code",
   "execution_count": 108,
   "metadata": {},
   "outputs": [
    {
     "name": "stdout",
     "output_type": "stream",
     "text": [
      "99/99 [==============================] - 2s 21ms/step\n"
     ]
    },
    {
     "data": {
      "text/plain": [
       "[0.4295581778078669, 0.8787878787878788]"
      ]
     },
     "execution_count": 108,
     "metadata": {},
     "output_type": "execute_result"
    }
   ],
   "source": [
    "model1.evaluate(test_data1,test_labels_one_hot1)"
   ]
  },
  {
   "cell_type": "code",
   "execution_count": 151,
   "metadata": {},
   "outputs": [],
   "source": [
    "from keras.layers import Activation\n",
    "\n",
    "input_shape =(256,256,1)\n",
    "x.trainable= False\n",
    "x1.trainable= False\n",
    "a = Flatten()(x)\n",
    "a = Activation('relu')(a)\n",
    "#a = Dense(128,activation='relu')(a)\n",
    "b = Flatten()(x1)\n",
    "b = Activation('relu')(b)\n",
    "#b = Dense(128,activation='relu')(b)\n",
    "mergedOut = concatenate([a,b], axis = 0)\n",
    "mergedOut = Dense(256, activation='relu')(mergedOut)\n",
    "mergedOut = Dropout(0.2)(mergedOut)\n",
    "mergedOut = Dense(128, activation='relu')(mergedOut)\n",
    "mergedOut = Dense(2, activation = 'softmax')(mergedOut)"
   ]
  },
  {
   "cell_type": "code",
   "execution_count": 150,
   "metadata": {},
   "outputs": [
    {
     "ename": "ValueError",
     "evalue": "Graph disconnected: cannot obtain value for tensor Tensor(\"input_4:0\", shape=(?, 256, 256, 1), dtype=float32) at layer \"input_4\". The following previous layers were accessed without issue: ['input_5']",
     "output_type": "error",
     "traceback": [
      "\u001b[1;31m---------------------------------------------------------------------------\u001b[0m",
      "\u001b[1;31mValueError\u001b[0m                                Traceback (most recent call last)",
      "\u001b[1;32m<ipython-input-150-a99342771d7c>\u001b[0m in \u001b[0;36m<module>\u001b[1;34m\u001b[0m\n\u001b[1;32m----> 1\u001b[1;33m \u001b[0mmodel4\u001b[0m \u001b[1;33m=\u001b[0m \u001b[0mModel\u001b[0m\u001b[1;33m(\u001b[0m\u001b[0minput\u001b[0m\u001b[1;33m,\u001b[0m\u001b[0mmergedOut\u001b[0m\u001b[1;33m)\u001b[0m\u001b[1;33m\u001b[0m\u001b[1;33m\u001b[0m\u001b[0m\n\u001b[0m",
      "\u001b[1;32mC:\\ProgramData\\Anaconda3\\lib\\site-packages\\keras\\legacy\\interfaces.py\u001b[0m in \u001b[0;36mwrapper\u001b[1;34m(*args, **kwargs)\u001b[0m\n\u001b[0;32m     89\u001b[0m                 warnings.warn('Update your `' + object_name + '` call to the ' +\n\u001b[0;32m     90\u001b[0m                               'Keras 2 API: ' + signature, stacklevel=2)\n\u001b[1;32m---> 91\u001b[1;33m             \u001b[1;32mreturn\u001b[0m \u001b[0mfunc\u001b[0m\u001b[1;33m(\u001b[0m\u001b[1;33m*\u001b[0m\u001b[0margs\u001b[0m\u001b[1;33m,\u001b[0m \u001b[1;33m**\u001b[0m\u001b[0mkwargs\u001b[0m\u001b[1;33m)\u001b[0m\u001b[1;33m\u001b[0m\u001b[1;33m\u001b[0m\u001b[0m\n\u001b[0m\u001b[0;32m     92\u001b[0m         \u001b[0mwrapper\u001b[0m\u001b[1;33m.\u001b[0m\u001b[0m_original_function\u001b[0m \u001b[1;33m=\u001b[0m \u001b[0mfunc\u001b[0m\u001b[1;33m\u001b[0m\u001b[1;33m\u001b[0m\u001b[0m\n\u001b[0;32m     93\u001b[0m         \u001b[1;32mreturn\u001b[0m \u001b[0mwrapper\u001b[0m\u001b[1;33m\u001b[0m\u001b[1;33m\u001b[0m\u001b[0m\n",
      "\u001b[1;32mC:\\ProgramData\\Anaconda3\\lib\\site-packages\\keras\\engine\\network.py\u001b[0m in \u001b[0;36m__init__\u001b[1;34m(self, *args, **kwargs)\u001b[0m\n\u001b[0;32m     91\u001b[0m                 'inputs' in kwargs and 'outputs' in kwargs):\n\u001b[0;32m     92\u001b[0m             \u001b[1;31m# Graph network\u001b[0m\u001b[1;33m\u001b[0m\u001b[1;33m\u001b[0m\u001b[1;33m\u001b[0m\u001b[0m\n\u001b[1;32m---> 93\u001b[1;33m             \u001b[0mself\u001b[0m\u001b[1;33m.\u001b[0m\u001b[0m_init_graph_network\u001b[0m\u001b[1;33m(\u001b[0m\u001b[1;33m*\u001b[0m\u001b[0margs\u001b[0m\u001b[1;33m,\u001b[0m \u001b[1;33m**\u001b[0m\u001b[0mkwargs\u001b[0m\u001b[1;33m)\u001b[0m\u001b[1;33m\u001b[0m\u001b[1;33m\u001b[0m\u001b[0m\n\u001b[0m\u001b[0;32m     94\u001b[0m         \u001b[1;32melse\u001b[0m\u001b[1;33m:\u001b[0m\u001b[1;33m\u001b[0m\u001b[1;33m\u001b[0m\u001b[0m\n\u001b[0;32m     95\u001b[0m             \u001b[1;31m# Subclassed network\u001b[0m\u001b[1;33m\u001b[0m\u001b[1;33m\u001b[0m\u001b[1;33m\u001b[0m\u001b[0m\n",
      "\u001b[1;32mC:\\ProgramData\\Anaconda3\\lib\\site-packages\\keras\\engine\\network.py\u001b[0m in \u001b[0;36m_init_graph_network\u001b[1;34m(self, inputs, outputs, name)\u001b[0m\n\u001b[0;32m    229\u001b[0m         \u001b[1;31m# Keep track of the network's nodes and layers.\u001b[0m\u001b[1;33m\u001b[0m\u001b[1;33m\u001b[0m\u001b[1;33m\u001b[0m\u001b[0m\n\u001b[0;32m    230\u001b[0m         nodes, nodes_by_depth, layers, layers_by_depth = _map_graph_network(\n\u001b[1;32m--> 231\u001b[1;33m             self.inputs, self.outputs)\n\u001b[0m\u001b[0;32m    232\u001b[0m         \u001b[0mself\u001b[0m\u001b[1;33m.\u001b[0m\u001b[0m_network_nodes\u001b[0m \u001b[1;33m=\u001b[0m \u001b[0mnodes\u001b[0m\u001b[1;33m\u001b[0m\u001b[1;33m\u001b[0m\u001b[0m\n\u001b[0;32m    233\u001b[0m         \u001b[0mself\u001b[0m\u001b[1;33m.\u001b[0m\u001b[0m_nodes_by_depth\u001b[0m \u001b[1;33m=\u001b[0m \u001b[0mnodes_by_depth\u001b[0m\u001b[1;33m\u001b[0m\u001b[1;33m\u001b[0m\u001b[0m\n",
      "\u001b[1;32mC:\\ProgramData\\Anaconda3\\lib\\site-packages\\keras\\engine\\network.py\u001b[0m in \u001b[0;36m_map_graph_network\u001b[1;34m(inputs, outputs)\u001b[0m\n\u001b[0;32m   1441\u001b[0m                                          \u001b[1;34m'The following previous layers '\u001b[0m\u001b[1;33m\u001b[0m\u001b[1;33m\u001b[0m\u001b[0m\n\u001b[0;32m   1442\u001b[0m                                          \u001b[1;34m'were accessed without issue: '\u001b[0m \u001b[1;33m+\u001b[0m\u001b[1;33m\u001b[0m\u001b[1;33m\u001b[0m\u001b[0m\n\u001b[1;32m-> 1443\u001b[1;33m                                          str(layers_with_complete_input))\n\u001b[0m\u001b[0;32m   1444\u001b[0m                 \u001b[1;32mfor\u001b[0m \u001b[0mx\u001b[0m \u001b[1;32min\u001b[0m \u001b[0mnode\u001b[0m\u001b[1;33m.\u001b[0m\u001b[0moutput_tensors\u001b[0m\u001b[1;33m:\u001b[0m\u001b[1;33m\u001b[0m\u001b[1;33m\u001b[0m\u001b[0m\n\u001b[0;32m   1445\u001b[0m                     \u001b[0mcomputable_tensors\u001b[0m\u001b[1;33m.\u001b[0m\u001b[0mappend\u001b[0m\u001b[1;33m(\u001b[0m\u001b[0mx\u001b[0m\u001b[1;33m)\u001b[0m\u001b[1;33m\u001b[0m\u001b[1;33m\u001b[0m\u001b[0m\n",
      "\u001b[1;31mValueError\u001b[0m: Graph disconnected: cannot obtain value for tensor Tensor(\"input_4:0\", shape=(?, 256, 256, 1), dtype=float32) at layer \"input_4\". The following previous layers were accessed without issue: ['input_5']"
     ]
    }
   ],
   "source": [
    "model4 = Model(input,mergedOut)"
   ]
  },
  {
   "cell_type": "code",
   "execution_count": 51,
   "metadata": {},
   "outputs": [
    {
     "ename": "AttributeError",
     "evalue": "'str' object has no attribute 'ndim'",
     "output_type": "error",
     "traceback": [
      "\u001b[1;31m---------------------------------------------------------------------------\u001b[0m",
      "\u001b[1;31mAttributeError\u001b[0m                            Traceback (most recent call last)",
      "\u001b[1;32m<ipython-input-51-f07719baca0d>\u001b[0m in \u001b[0;36m<module>\u001b[1;34m\u001b[0m\n\u001b[1;32m----> 1\u001b[1;33m \u001b[0mmodel3\u001b[0m\u001b[1;33m.\u001b[0m\u001b[0mpredict\u001b[0m\u001b[1;33m(\u001b[0m\u001b[0mtest\u001b[0m\u001b[1;33m)\u001b[0m\u001b[1;33m\u001b[0m\u001b[1;33m\u001b[0m\u001b[0m\n\u001b[0m",
      "\u001b[1;32mC:\\ProgramData\\Anaconda3\\lib\\site-packages\\keras\\engine\\training.py\u001b[0m in \u001b[0;36mpredict\u001b[1;34m(self, x, batch_size, verbose, steps)\u001b[0m\n\u001b[0;32m   1147\u001b[0m                              'argument.')\n\u001b[0;32m   1148\u001b[0m         \u001b[1;31m# Validate user data.\u001b[0m\u001b[1;33m\u001b[0m\u001b[1;33m\u001b[0m\u001b[1;33m\u001b[0m\u001b[0m\n\u001b[1;32m-> 1149\u001b[1;33m         \u001b[0mx\u001b[0m\u001b[1;33m,\u001b[0m \u001b[0m_\u001b[0m\u001b[1;33m,\u001b[0m \u001b[0m_\u001b[0m \u001b[1;33m=\u001b[0m \u001b[0mself\u001b[0m\u001b[1;33m.\u001b[0m\u001b[0m_standardize_user_data\u001b[0m\u001b[1;33m(\u001b[0m\u001b[0mx\u001b[0m\u001b[1;33m)\u001b[0m\u001b[1;33m\u001b[0m\u001b[1;33m\u001b[0m\u001b[0m\n\u001b[0m\u001b[0;32m   1150\u001b[0m         \u001b[1;32mif\u001b[0m \u001b[0mself\u001b[0m\u001b[1;33m.\u001b[0m\u001b[0mstateful\u001b[0m\u001b[1;33m:\u001b[0m\u001b[1;33m\u001b[0m\u001b[1;33m\u001b[0m\u001b[0m\n\u001b[0;32m   1151\u001b[0m             \u001b[1;32mif\u001b[0m \u001b[0mx\u001b[0m\u001b[1;33m[\u001b[0m\u001b[1;36m0\u001b[0m\u001b[1;33m]\u001b[0m\u001b[1;33m.\u001b[0m\u001b[0mshape\u001b[0m\u001b[1;33m[\u001b[0m\u001b[1;36m0\u001b[0m\u001b[1;33m]\u001b[0m \u001b[1;33m>\u001b[0m \u001b[0mbatch_size\u001b[0m \u001b[1;32mand\u001b[0m \u001b[0mx\u001b[0m\u001b[1;33m[\u001b[0m\u001b[1;36m0\u001b[0m\u001b[1;33m]\u001b[0m\u001b[1;33m.\u001b[0m\u001b[0mshape\u001b[0m\u001b[1;33m[\u001b[0m\u001b[1;36m0\u001b[0m\u001b[1;33m]\u001b[0m \u001b[1;33m%\u001b[0m \u001b[0mbatch_size\u001b[0m \u001b[1;33m!=\u001b[0m \u001b[1;36m0\u001b[0m\u001b[1;33m:\u001b[0m\u001b[1;33m\u001b[0m\u001b[1;33m\u001b[0m\u001b[0m\n",
      "\u001b[1;32mC:\\ProgramData\\Anaconda3\\lib\\site-packages\\keras\\engine\\training.py\u001b[0m in \u001b[0;36m_standardize_user_data\u001b[1;34m(self, x, y, sample_weight, class_weight, check_array_lengths, batch_size)\u001b[0m\n\u001b[0;32m    749\u001b[0m             \u001b[0mfeed_input_shapes\u001b[0m\u001b[1;33m,\u001b[0m\u001b[1;33m\u001b[0m\u001b[1;33m\u001b[0m\u001b[0m\n\u001b[0;32m    750\u001b[0m             \u001b[0mcheck_batch_axis\u001b[0m\u001b[1;33m=\u001b[0m\u001b[1;32mFalse\u001b[0m\u001b[1;33m,\u001b[0m  \u001b[1;31m# Don't enforce the batch size.\u001b[0m\u001b[1;33m\u001b[0m\u001b[1;33m\u001b[0m\u001b[0m\n\u001b[1;32m--> 751\u001b[1;33m             exception_prefix='input')\n\u001b[0m\u001b[0;32m    752\u001b[0m \u001b[1;33m\u001b[0m\u001b[0m\n\u001b[0;32m    753\u001b[0m         \u001b[1;32mif\u001b[0m \u001b[0my\u001b[0m \u001b[1;32mis\u001b[0m \u001b[1;32mnot\u001b[0m \u001b[1;32mNone\u001b[0m\u001b[1;33m:\u001b[0m\u001b[1;33m\u001b[0m\u001b[1;33m\u001b[0m\u001b[0m\n",
      "\u001b[1;32mC:\\ProgramData\\Anaconda3\\lib\\site-packages\\keras\\engine\\training_utils.py\u001b[0m in \u001b[0;36mstandardize_input_data\u001b[1;34m(data, names, shapes, check_batch_axis, exception_prefix)\u001b[0m\n\u001b[0;32m     90\u001b[0m         \u001b[0mdata\u001b[0m \u001b[1;33m=\u001b[0m \u001b[0mdata\u001b[0m\u001b[1;33m.\u001b[0m\u001b[0mvalues\u001b[0m \u001b[1;32mif\u001b[0m \u001b[0mdata\u001b[0m\u001b[1;33m.\u001b[0m\u001b[0m__class__\u001b[0m\u001b[1;33m.\u001b[0m\u001b[0m__name__\u001b[0m \u001b[1;33m==\u001b[0m \u001b[1;34m'DataFrame'\u001b[0m \u001b[1;32melse\u001b[0m \u001b[0mdata\u001b[0m\u001b[1;33m\u001b[0m\u001b[1;33m\u001b[0m\u001b[0m\n\u001b[0;32m     91\u001b[0m         \u001b[0mdata\u001b[0m \u001b[1;33m=\u001b[0m \u001b[1;33m[\u001b[0m\u001b[0mdata\u001b[0m\u001b[1;33m]\u001b[0m\u001b[1;33m\u001b[0m\u001b[1;33m\u001b[0m\u001b[0m\n\u001b[1;32m---> 92\u001b[1;33m     \u001b[0mdata\u001b[0m \u001b[1;33m=\u001b[0m \u001b[1;33m[\u001b[0m\u001b[0mstandardize_single_array\u001b[0m\u001b[1;33m(\u001b[0m\u001b[0mx\u001b[0m\u001b[1;33m)\u001b[0m \u001b[1;32mfor\u001b[0m \u001b[0mx\u001b[0m \u001b[1;32min\u001b[0m \u001b[0mdata\u001b[0m\u001b[1;33m]\u001b[0m\u001b[1;33m\u001b[0m\u001b[1;33m\u001b[0m\u001b[0m\n\u001b[0m\u001b[0;32m     93\u001b[0m \u001b[1;33m\u001b[0m\u001b[0m\n\u001b[0;32m     94\u001b[0m     \u001b[1;32mif\u001b[0m \u001b[0mlen\u001b[0m\u001b[1;33m(\u001b[0m\u001b[0mdata\u001b[0m\u001b[1;33m)\u001b[0m \u001b[1;33m!=\u001b[0m \u001b[0mlen\u001b[0m\u001b[1;33m(\u001b[0m\u001b[0mnames\u001b[0m\u001b[1;33m)\u001b[0m\u001b[1;33m:\u001b[0m\u001b[1;33m\u001b[0m\u001b[1;33m\u001b[0m\u001b[0m\n",
      "\u001b[1;32mC:\\ProgramData\\Anaconda3\\lib\\site-packages\\keras\\engine\\training_utils.py\u001b[0m in \u001b[0;36m<listcomp>\u001b[1;34m(.0)\u001b[0m\n\u001b[0;32m     90\u001b[0m         \u001b[0mdata\u001b[0m \u001b[1;33m=\u001b[0m \u001b[0mdata\u001b[0m\u001b[1;33m.\u001b[0m\u001b[0mvalues\u001b[0m \u001b[1;32mif\u001b[0m \u001b[0mdata\u001b[0m\u001b[1;33m.\u001b[0m\u001b[0m__class__\u001b[0m\u001b[1;33m.\u001b[0m\u001b[0m__name__\u001b[0m \u001b[1;33m==\u001b[0m \u001b[1;34m'DataFrame'\u001b[0m \u001b[1;32melse\u001b[0m \u001b[0mdata\u001b[0m\u001b[1;33m\u001b[0m\u001b[1;33m\u001b[0m\u001b[0m\n\u001b[0;32m     91\u001b[0m         \u001b[0mdata\u001b[0m \u001b[1;33m=\u001b[0m \u001b[1;33m[\u001b[0m\u001b[0mdata\u001b[0m\u001b[1;33m]\u001b[0m\u001b[1;33m\u001b[0m\u001b[1;33m\u001b[0m\u001b[0m\n\u001b[1;32m---> 92\u001b[1;33m     \u001b[0mdata\u001b[0m \u001b[1;33m=\u001b[0m \u001b[1;33m[\u001b[0m\u001b[0mstandardize_single_array\u001b[0m\u001b[1;33m(\u001b[0m\u001b[0mx\u001b[0m\u001b[1;33m)\u001b[0m \u001b[1;32mfor\u001b[0m \u001b[0mx\u001b[0m \u001b[1;32min\u001b[0m \u001b[0mdata\u001b[0m\u001b[1;33m]\u001b[0m\u001b[1;33m\u001b[0m\u001b[1;33m\u001b[0m\u001b[0m\n\u001b[0m\u001b[0;32m     93\u001b[0m \u001b[1;33m\u001b[0m\u001b[0m\n\u001b[0;32m     94\u001b[0m     \u001b[1;32mif\u001b[0m \u001b[0mlen\u001b[0m\u001b[1;33m(\u001b[0m\u001b[0mdata\u001b[0m\u001b[1;33m)\u001b[0m \u001b[1;33m!=\u001b[0m \u001b[0mlen\u001b[0m\u001b[1;33m(\u001b[0m\u001b[0mnames\u001b[0m\u001b[1;33m)\u001b[0m\u001b[1;33m:\u001b[0m\u001b[1;33m\u001b[0m\u001b[1;33m\u001b[0m\u001b[0m\n",
      "\u001b[1;32mC:\\ProgramData\\Anaconda3\\lib\\site-packages\\keras\\engine\\training_utils.py\u001b[0m in \u001b[0;36mstandardize_single_array\u001b[1;34m(x)\u001b[0m\n\u001b[0;32m     25\u001b[0m                 'Got tensor with shape: %s' % str(shape))\n\u001b[0;32m     26\u001b[0m         \u001b[1;32mreturn\u001b[0m \u001b[0mx\u001b[0m\u001b[1;33m\u001b[0m\u001b[1;33m\u001b[0m\u001b[0m\n\u001b[1;32m---> 27\u001b[1;33m     \u001b[1;32melif\u001b[0m \u001b[0mx\u001b[0m\u001b[1;33m.\u001b[0m\u001b[0mndim\u001b[0m \u001b[1;33m==\u001b[0m \u001b[1;36m1\u001b[0m\u001b[1;33m:\u001b[0m\u001b[1;33m\u001b[0m\u001b[1;33m\u001b[0m\u001b[0m\n\u001b[0m\u001b[0;32m     28\u001b[0m         \u001b[0mx\u001b[0m \u001b[1;33m=\u001b[0m \u001b[0mnp\u001b[0m\u001b[1;33m.\u001b[0m\u001b[0mexpand_dims\u001b[0m\u001b[1;33m(\u001b[0m\u001b[0mx\u001b[0m\u001b[1;33m,\u001b[0m \u001b[1;36m1\u001b[0m\u001b[1;33m)\u001b[0m\u001b[1;33m\u001b[0m\u001b[1;33m\u001b[0m\u001b[0m\n\u001b[0;32m     29\u001b[0m     \u001b[1;32mreturn\u001b[0m \u001b[0mx\u001b[0m\u001b[1;33m\u001b[0m\u001b[1;33m\u001b[0m\u001b[0m\n",
      "\u001b[1;31mAttributeError\u001b[0m: 'str' object has no attribute 'ndim'"
     ]
    }
   ],
   "source": [
    "model3.predict(test)"
   ]
  },
  {
   "cell_type": "code",
   "execution_count": null,
   "metadata": {},
   "outputs": [],
   "source": []
  }
 ],
 "metadata": {
  "kernelspec": {
   "display_name": "Python 3",
   "language": "python",
   "name": "python3"
  },
  "language_info": {
   "codemirror_mode": {
    "name": "ipython",
    "version": 3
   },
   "file_extension": ".py",
   "mimetype": "text/x-python",
   "name": "python",
   "nbconvert_exporter": "python",
   "pygments_lexer": "ipython3",
   "version": "3.7.3"
  }
 },
 "nbformat": 4,
 "nbformat_minor": 2
}
